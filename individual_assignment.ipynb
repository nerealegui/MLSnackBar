{
 "cells": [
  {
   "cell_type": "markdown",
   "metadata": {},
   "source": [
    "# Individual assignment: more wine!\n",
    "\n",
    "In this assignment you will work with two datasets of Portuguese red and white wine variants. The data is related to red and white variants of the Portuguese \"Vinho Verde\" wine.\n",
    "\n",
    "* Paper: https://www.semanticscholar.org/paper/Modeling-wine-preferences-by-data-mining-from-Cortez-Cerdeira/bf15a0ccc14ac1deb5cea570c870389c16be019c\n",
    "\n",
    "\n",
    "The columns in the datasets are as follows:\n",
    "\n",
    "1. fixed acidity: most acids involved with wine or fixed or nonvolatile (do not evaporate readily)\n",
    "2. volatile acidity: the amount of acetic acid in wine, which at too high of levels can lead to an unpleasant, vinegar taste\n",
    "3. citric acid: found in small quantities, citric acid can add 'freshness' and flavor to wines\n",
    "4. residual sugar: the amount of sugar remaining after fermentation stops, it's rare to find wines with less than 1 gram/liter and wines with greater than 45 grams/liter are considered sweet\n",
    "5. chlorides: the amount of salt in the wine\n",
    "6. free sulfur dioxide: the free form of SO2 exists in equilibrium between molecular SO2 (as a dissolved gas) and bisulfite ion; it prevents microbial growth and the oxidation of wine\n",
    "7. total sulfur dioxide: amount of free and bound forms of S02; in low concentrations, SO2 is mostly undetectable in wine, but at free SO2 concentrations over 50 ppm, SO2 becomes evident in the nose and taste of wine\n",
    "8. density: the density of wine is close to that of water depending on the percent alcohol and sugar content\n",
    "9. pH: describes how acidic or basic a wine is on a scale from 0 (very acidic) to 14 (very basic); most wines are between 3-4 on the pH scale\n",
    "10. sulphates: a wine additive which can contribute to sulfur dioxide gas (S02) levels, wich acts as an antimicrobial and antioxidant\n",
    "11. alcohol: the percent alcohol content of the wine\n",
    "\n",
    "There are two datasets, one for red wine and one for white wine. The goal is to model wine quality."
   ]
  },
  {
   "cell_type": "markdown",
   "metadata": {},
   "source": [
    "## Grading\n",
    "\n",
    "The assignment is graded up to 8 points.\n",
    "\n",
    "There can be a maximum of 2 points of extra credit, according to the `improvement` percentage in the last question:\n",
    "* If your hyperparameter tuning improves the model by 5% or more, you get **1 point of extra credit.**\n",
    "* If it improves the model by 10% or more, you get **2 points of extra credit.**\n",
    "* If your hyperparameter tuning does not improve the model, you get **0 points of extra credit.**\n",
    "\n",
    "**The maximum grade is 10 (8 + 2 extra credit if applicable).**"
   ]
  },
  {
   "cell_type": "markdown",
   "metadata": {},
   "source": [
    "## Question 1 (0.5 points)\n",
    "\n",
    "Load each dataset as a dataframe and create a new column called `type` with the wine type (red or white, type included in the name of the dataset).\n",
    "\n",
    "Contatenate the two dataframes into a single dataframe called `wine` and display a sample of 5 rows."
   ]
  },
  {
   "cell_type": "code",
   "execution_count": null,
   "metadata": {},
   "outputs": [],
   "source": []
  },
  {
   "cell_type": "markdown",
   "metadata": {},
   "source": [
    "## Question 2  (0.5 points)\n",
    "\n",
    "I just realized that the column `type`should not be a string, but a number that represents a category. Change the column `type` to a numerical column and display the first 5 rows."
   ]
  },
  {
   "cell_type": "code",
   "execution_count": null,
   "metadata": {},
   "outputs": [],
   "source": []
  },
  {
   "cell_type": "markdown",
   "metadata": {},
   "source": [
    "## Question 3 (1 point)\n",
    "\n",
    "We need to convert this problem into a classification problem.\n",
    "\n",
    "Before that, we need a categorical target, and for that we will use the `quality` column. But first, analyze the `quality` column and decide how to convert it into a categorical target.\n",
    "\n",
    "1. Print the unique values of the `quality` column.\n",
    "2. Plot a histogram of the `quality` column for each type of wine.\n",
    "3. Based on the analysis, decide and justify which value will be the threshold to convert the `quality` column into a binary target.\n",
    "    * For example, if you decide that the threshold is 6, then the target will be 1 if the quality is greater than 6 and 0 otherwise.\n",
    "    * Don't overthink this, just decide a threshold and justify it.\n",
    "4. Create a new column called `target` with the binary target, considering the threshold you decided.\n"
   ]
  },
  {
   "cell_type": "code",
   "execution_count": null,
   "metadata": {},
   "outputs": [],
   "source": []
  },
  {
   "cell_type": "markdown",
   "metadata": {},
   "source": [
    "## Question 4 (1 point total, 0.125 each new feature)\n",
    "\n",
    "Let's create some new features.\n",
    "\n",
    "You have to create 8 new columns in the dataframe `wine`, doesn't matter whether they'll be useful or not, just create them.\n",
    "\n",
    "Remember, you can use the following operations to create new columns:\n",
    "* Basic arithmetic operations between columns\n",
    "* Label encoding of categorical columns\n",
    "* Binning of numerical columns (convert a continuous variable column into a categorical column)\n",
    "* Apply a function to a column\n",
    "..."
   ]
  },
  {
   "cell_type": "code",
   "execution_count": null,
   "metadata": {},
   "outputs": [],
   "source": []
  },
  {
   "cell_type": "markdown",
   "metadata": {},
   "source": [
    "## Question 5 (1 point)\n",
    "\n",
    "Now that we have a target and some new features, we can create a classification model.\n",
    "\n",
    "But first, we need to remove the `quality` column and split the data into features and target.\n",
    "\n",
    "1. Remove the `quality` column from the dataframe.\n",
    "2. Split the data into features and target. Name the features dataframe `x` and the target series `y`.\n",
    "3. Split the data into training and test sets.\n",
    "    * Keep in mind the nature of your target, and use stratification if necessary."
   ]
  },
  {
   "cell_type": "code",
   "execution_count": null,
   "metadata": {},
   "outputs": [],
   "source": []
  },
  {
   "cell_type": "markdown",
   "metadata": {},
   "source": [
    "## Question 6  (0.5 points)\n",
    "\n",
    "Time for scaling the data.\n",
    "\n",
    "Choose a scaler and scale the features, properly done."
   ]
  },
  {
   "cell_type": "code",
   "execution_count": null,
   "metadata": {},
   "outputs": [],
   "source": []
  },
  {
   "cell_type": "markdown",
   "metadata": {},
   "source": [
    "## Question 7  (0.5 points)\n",
    "\n",
    "Choose a classification algorithm and initialize it."
   ]
  },
  {
   "cell_type": "code",
   "execution_count": null,
   "metadata": {},
   "outputs": [],
   "source": []
  },
  {
   "cell_type": "markdown",
   "metadata": {},
   "source": [
    "## Question 8 (1 point)\n",
    "\n",
    "Test the model's performance on the test set without any hyperparameter tuning, just to see how it performs.\n",
    "\n",
    "From now on, the metric used to evaluate the model will be the [F1 score](https://scikit-learn.org/stable/modules/generated/sklearn.metrics.f1_score.html).\n",
    "\n",
    "Print the F1 score of the model evaluated on the test set."
   ]
  },
  {
   "cell_type": "code",
   "execution_count": null,
   "metadata": {},
   "outputs": [],
   "source": []
  },
  {
   "cell_type": "markdown",
   "metadata": {},
   "source": [
    "## Question 9 (1 point)\n",
    "\n",
    "Now we have a baseline to beat, let's try to improve the model's performance and also make it robust by using GridSearchCV.\n",
    "\n",
    "Create a grid with hyperparameters to be tested and use GridSearchCV to find the best hyperparameters.\n",
    "\n",
    "Use as many hyperparameters as you want, but test at least 3 different values for each hyperparameter. \n",
    "\n",
    "Use no less than 3 folds in GridSearchCV.\n",
    "\n",
    "Be aware of the time it takes to run GridSearchCV, don't use too many hyperparameters or too many values for each hyperparameter.\n",
    "\n",
    "Use the grid search fitting time to review your answers above.\n"
   ]
  },
  {
   "cell_type": "code",
   "execution_count": null,
   "metadata": {},
   "outputs": [],
   "source": []
  },
  {
   "cell_type": "markdown",
   "metadata": {},
   "source": [
    "## Question 10 (1 point)\n",
    "\n",
    "Given the best hyperparameters, train you model with them, and test its performance on the test set.\n",
    "* Print the best hyperparameters found by GridSearchCV.\n",
    "* Print the F1 score of the freshly trained model evaluated on the test set.\n",
    "* Print the improvement in the F1 score compared to the baseline model by using the following relation:\n",
    "\n",
    "$$ improvement = \\frac{F1_{new} - F1_{baseline}}{F1_{baseline}} $$\n",
    "\n",
    "* Save the predictions in a CSV file called `predictions.csv`."
   ]
  },
  {
   "cell_type": "code",
   "execution_count": null,
   "metadata": {},
   "outputs": [],
   "source": []
  }
 ],
 "metadata": {
  "kernelspec": {
   "display_name": "pda",
   "language": "python",
   "name": "python3"
  },
  "language_info": {
   "codemirror_mode": {
    "name": "ipython",
    "version": 3
   },
   "file_extension": ".py",
   "mimetype": "text/x-python",
   "name": "python",
   "nbconvert_exporter": "python",
   "pygments_lexer": "ipython3",
   "version": "3.10.13"
  }
 },
 "nbformat": 4,
 "nbformat_minor": 2
}
