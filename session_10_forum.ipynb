{
 "cells": [
  {
   "cell_type": "markdown",
   "metadata": {},
   "source": [
    "# Session 10: Cross-Validation\n",
    "\n",
    "Let's put in practice what we learned about cross-validation.\n",
    "\n",
    "In this case, we are going to use the `K-Fold` cross-validation technique to evaluate the performance of a model.\n",
    "\n",
    "We will be trying different combinations of hyperparameters for a `RandomForestClassifier` model within the `K-Fold` cross-validation. At the end, we will choose the best hyperparameters based on the average accuracy of the model."
   ]
  },
  {
   "cell_type": "code",
   "execution_count": 1,
   "metadata": {},
   "outputs": [],
   "source": [
    "from sklearn.ensemble import RandomForestClassifier\n",
    "from sklearn.model_selection import train_test_split\n",
    "from sklearn.metrics import accuracy_score, confusion_matrix, precision_score, recall_score\n",
    "from sklearn.preprocessing import OneHotEncoder\n",
    "from sklearn.model_selection import cross_validate\n",
    "import pandas as pd\n",
    "import numpy as np\n",
    "import plotly.express as px\n"
   ]
  },
  {
   "cell_type": "code",
   "execution_count": 2,
   "metadata": {},
   "outputs": [
    {
     "data": {
      "text/html": [
       "<div>\n",
       "<style scoped>\n",
       "    .dataframe tbody tr th:only-of-type {\n",
       "        vertical-align: middle;\n",
       "    }\n",
       "\n",
       "    .dataframe tbody tr th {\n",
       "        vertical-align: top;\n",
       "    }\n",
       "\n",
       "    .dataframe thead th {\n",
       "        text-align: right;\n",
       "    }\n",
       "</style>\n",
       "<table border=\"1\" class=\"dataframe\">\n",
       "  <thead>\n",
       "    <tr style=\"text-align: right;\">\n",
       "      <th></th>\n",
       "      <th>id</th>\n",
       "      <th>warehouse_block</th>\n",
       "      <th>mode_of_shipment</th>\n",
       "      <th>customer_care_calls</th>\n",
       "      <th>customer_rating</th>\n",
       "      <th>cost_of_the_product</th>\n",
       "      <th>prior_purchases</th>\n",
       "      <th>product_importance</th>\n",
       "      <th>gender</th>\n",
       "      <th>discount_offered</th>\n",
       "      <th>weight_in_gms</th>\n",
       "      <th>reached_on_time_y_n</th>\n",
       "    </tr>\n",
       "  </thead>\n",
       "  <tbody>\n",
       "    <tr>\n",
       "      <th>0</th>\n",
       "      <td>1</td>\n",
       "      <td>D</td>\n",
       "      <td>Flight</td>\n",
       "      <td>4</td>\n",
       "      <td>2</td>\n",
       "      <td>177</td>\n",
       "      <td>3</td>\n",
       "      <td>low</td>\n",
       "      <td>F</td>\n",
       "      <td>44</td>\n",
       "      <td>1233</td>\n",
       "      <td>1</td>\n",
       "    </tr>\n",
       "    <tr>\n",
       "      <th>1</th>\n",
       "      <td>2</td>\n",
       "      <td>F</td>\n",
       "      <td>Flight</td>\n",
       "      <td>4</td>\n",
       "      <td>5</td>\n",
       "      <td>216</td>\n",
       "      <td>2</td>\n",
       "      <td>low</td>\n",
       "      <td>M</td>\n",
       "      <td>59</td>\n",
       "      <td>3088</td>\n",
       "      <td>1</td>\n",
       "    </tr>\n",
       "    <tr>\n",
       "      <th>2</th>\n",
       "      <td>3</td>\n",
       "      <td>A</td>\n",
       "      <td>Flight</td>\n",
       "      <td>2</td>\n",
       "      <td>2</td>\n",
       "      <td>183</td>\n",
       "      <td>4</td>\n",
       "      <td>low</td>\n",
       "      <td>M</td>\n",
       "      <td>48</td>\n",
       "      <td>3374</td>\n",
       "      <td>1</td>\n",
       "    </tr>\n",
       "    <tr>\n",
       "      <th>3</th>\n",
       "      <td>4</td>\n",
       "      <td>B</td>\n",
       "      <td>Flight</td>\n",
       "      <td>3</td>\n",
       "      <td>3</td>\n",
       "      <td>176</td>\n",
       "      <td>4</td>\n",
       "      <td>medium</td>\n",
       "      <td>M</td>\n",
       "      <td>10</td>\n",
       "      <td>1177</td>\n",
       "      <td>1</td>\n",
       "    </tr>\n",
       "    <tr>\n",
       "      <th>4</th>\n",
       "      <td>5</td>\n",
       "      <td>C</td>\n",
       "      <td>Flight</td>\n",
       "      <td>2</td>\n",
       "      <td>2</td>\n",
       "      <td>184</td>\n",
       "      <td>3</td>\n",
       "      <td>medium</td>\n",
       "      <td>F</td>\n",
       "      <td>46</td>\n",
       "      <td>2484</td>\n",
       "      <td>1</td>\n",
       "    </tr>\n",
       "  </tbody>\n",
       "</table>\n",
       "</div>"
      ],
      "text/plain": [
       "   id warehouse_block mode_of_shipment  customer_care_calls  customer_rating  \\\n",
       "0   1               D           Flight                    4                2   \n",
       "1   2               F           Flight                    4                5   \n",
       "2   3               A           Flight                    2                2   \n",
       "3   4               B           Flight                    3                3   \n",
       "4   5               C           Flight                    2                2   \n",
       "\n",
       "   cost_of_the_product  prior_purchases product_importance gender  \\\n",
       "0                  177                3                low      F   \n",
       "1                  216                2                low      M   \n",
       "2                  183                4                low      M   \n",
       "3                  176                4             medium      M   \n",
       "4                  184                3             medium      F   \n",
       "\n",
       "   discount_offered  weight_in_gms  reached_on_time_y_n  \n",
       "0                44           1233                    1  \n",
       "1                59           3088                    1  \n",
       "2                48           3374                    1  \n",
       "3                10           1177                    1  \n",
       "4                46           2484                    1  "
      ]
     },
     "execution_count": 2,
     "metadata": {},
     "output_type": "execute_result"
    }
   ],
   "source": [
    "data = pd.read_csv('/Users/dgh/Desktop/IE/ie-pda/pda2_pt/data/shipping.csv')\n",
    "\n",
    "data.columns = [col.replace('.', '_').replace(' ', '_').lower() for col in data.columns]\n",
    "\n",
    "data.head()"
   ]
  },
  {
   "cell_type": "markdown",
   "metadata": {},
   "source": [
    "## The dataset\n",
    "\n",
    "In this dataset, we have information about different orders shipped by an e-commerce company. The dataset contains the following columns:\n",
    "\n",
    "- **ID:** ID Number of Customers.\n",
    "- **Warehouse block:** The Company has a big Warehouse which is divided into blocks such as A, B, C, ...\n",
    "- **Mode of shipment:** The Company ships the products in multiple ways such as Ship, Flight, and Road.\n",
    "- **Customer care calls:** The number of calls made for enquiry of the shipment.\n",
    "- **Customer rating:** The company has rated from every customer. 1 is the lowest (Worst), 5 is the highest (Best).\n",
    "- **Cost of the product:** Cost of the Product in US Dollars.\n",
    "- **Prior purchases:** The Number of Prior Purchases.\n",
    "- **Product importance:** The company has categorized the product in various parameters such as low, medium, high.\n",
    "- **Gender:** Male and Female.\n",
    "- **Discount offered:** Discount offered on that specific product.\n",
    "- **Weight in gms:** It is the weight in grams.\n",
    "- **Reached on time:** It is the target variable, where 1 indicates that the product has NOT reached on time and 0 indicates it has reached on time."
   ]
  },
  {
   "cell_type": "markdown",
   "metadata": {},
   "source": [
    "## Question 1\n",
    "\n",
    "Separate the dataset into features and target variable."
   ]
  },
  {
   "cell_type": "code",
   "execution_count": null,
   "metadata": {},
   "outputs": [],
   "source": []
  },
  {
   "cell_type": "markdown",
   "metadata": {},
   "source": [
    "## Question 2\n",
    "\n",
    "Is the dataset balanced?"
   ]
  },
  {
   "cell_type": "code",
   "execution_count": null,
   "metadata": {},
   "outputs": [],
   "source": []
  },
  {
   "cell_type": "markdown",
   "metadata": {},
   "source": [
    "## Question 3\n",
    "\n",
    "Dealing with the ID: should we keep it in the dataset?\n",
    "\n",
    "If there are several rows with the same ID then it might be important to understand recurrence. If not, we can drop it.\n",
    "\n",
    "Please check if there are any repeated IDs in the dataset. If there are, keep the column, otherwise drop it."
   ]
  },
  {
   "cell_type": "code",
   "execution_count": null,
   "metadata": {},
   "outputs": [],
   "source": []
  },
  {
   "cell_type": "markdown",
   "metadata": {},
   "source": [
    "## Question 4 \n",
    "\n",
    "Which are the categorical columns in the dataset?"
   ]
  },
  {
   "cell_type": "code",
   "execution_count": null,
   "metadata": {},
   "outputs": [],
   "source": []
  },
  {
   "cell_type": "markdown",
   "metadata": {},
   "source": [
    "## Question 4\n",
    "\n",
    "Encode the categorical variables, using the `OneHotEncoder` or `LabelEncoder` from `sklearn`."
   ]
  },
  {
   "cell_type": "code",
   "execution_count": null,
   "metadata": {},
   "outputs": [],
   "source": []
  },
  {
   "cell_type": "markdown",
   "metadata": {},
   "source": [
    "## Question 5\n",
    "\n",
    "Split the dataset into training and test sets."
   ]
  },
  {
   "cell_type": "code",
   "execution_count": null,
   "metadata": {},
   "outputs": [],
   "source": []
  },
  {
   "cell_type": "markdown",
   "metadata": {},
   "source": [
    "## Question 6\n",
    "\n",
    "Create a `RandomForestClassifier` model and use the `K-Fold` cross-validation technique to evaluate the model, without changing the hyperparameters.\n",
    "\n",
    "* Use accuracy as the metric to evaluate the model with `cross_validate`.\n",
    "    * `accuracy_score` is the number of correct predictions made by the model over all kinds predictions made.\n",
    "    $$ accuracy = \\frac{TP + TN}{TP + TN + FP + FN} $$\n",
    "\n",
    "* Use 10 folds in the cross-validation.\n",
    "\n",
    "About classification metrics: https://scikit-learn.org/stable/modules/model_evaluation.html#classification-metrics"
   ]
  },
  {
   "cell_type": "code",
   "execution_count": null,
   "metadata": {},
   "outputs": [],
   "source": []
  },
  {
   "cell_type": "markdown",
   "metadata": {},
   "source": [
    "# Brief intro to random forests\n",
    "\n",
    "Random forests are an ensemble learning method that can be used for classification and regression.\n",
    "\n",
    "It works by training several decision trees during training and outputting the majority class (classification) or mean prediction (regression) of the individual trees.\n",
    "\n",
    "The idea behind random forests is that each tree might be overfitting the data in a different way, so by averaging the predictions of the trees, we can reduce the variance of the model. One of the characteristics of random forests is that none of trees are trained with the same data, they only use some of the variables. By doing that, we can reduce the correlation between the trees and make the model more robust.\n",
    "\n",
    "The three hyperparameters that we are going to use in this exercise are:\n",
    "\n",
    "- `n_estimators`: the number of trees in the forest (an integer between 1 and as many as you want).\n",
    "    * The higher the number of trees, the better the model will generalize to new data.\n",
    "- `max_depth`: the maximum depth of the trees (an integer between 1 and as many as you want).\n",
    "    * The higher the depth, the more complex the model will be, the more likely to overfit.\n",
    "- `max_features`: the number of variables to consider when looking for the best split (an integer between 1 and the number of training variables).\n",
    "    * The higher the number of features, the more likely to overfit. Should be compensated with a higher `n_estimators`: the more trees, the less features can be repeated in the trees.\n",
    "    * A good rule of thumb is to use the square root of the number of features, rounded down."
   ]
  },
  {
   "cell_type": "markdown",
   "metadata": {},
   "source": [
    "## Question 7\n",
    "\n",
    "Change the hyperparameters of the model and then use the `K-Fold` cross-validation technique to evaluate the model.\n",
    "\n",
    "Using the following hyperparameters (more info [here](https://scikit-learn.org/stable/modules/generated/sklearn.ensemble.RandomForestClassifier.html)):\n",
    "\n",
    "* `n_estimators`: The number of trees in the forest.\n",
    "* `max_depth`: The maximum depth of the tree.\n",
    "* `max_features`: The number of variables from the training data to consider when looking for the best split.\n",
    "\n",
    "Choose 3 combination of hyperparameters, for example, `n_estimators=100`, `max_depth=10`, `min_samples_split=2`, and then repeat the cross-validation process with the same value of `K` (10 folds) for each combination of hyperparameters.\n",
    "\n",
    "Hint: in order to change the hyperparameters, you can create a new model with the desired hyperparameters.\n",
    "\n",
    "```python\n",
    "classifier = RandomForestClassifier(\n",
    "    n_estimators=100,\n",
    "    max_depth=10,\n",
    "    max_features=np.sqrt(x_train.shape[1]).astype(int)\n",
    ")\n",
    "```"
   ]
  },
  {
   "cell_type": "code",
   "execution_count": null,
   "metadata": {},
   "outputs": [],
   "source": []
  },
  {
   "cell_type": "markdown",
   "metadata": {},
   "source": [
    "## Question 8\n",
    "\n",
    "What was the best combination of hyperparameters in your opinion? Why?"
   ]
  },
  {
   "cell_type": "code",
   "execution_count": null,
   "metadata": {},
   "outputs": [],
   "source": []
  },
  {
   "cell_type": "markdown",
   "metadata": {},
   "source": [
    "Experiment 3 was the best in terms of accuracy in the validation sets.\n",
    "* Experiment 1 seemed to overfit the data, while experiment 2 was not as good as experiment 3."
   ]
  },
  {
   "cell_type": "markdown",
   "metadata": {},
   "source": [
    "## Question 9\n",
    "\n",
    "Now, use the best hyperparameters to train the model and evaluate it on the test set.\n",
    "\n",
    "Print the accuracy of the model on the test set, and the confusion matrix.\n",
    "\n",
    "Post the accuracy and confusion matrix of the model on forum!"
   ]
  },
  {
   "cell_type": "code",
   "execution_count": null,
   "metadata": {},
   "outputs": [],
   "source": []
  },
  {
   "cell_type": "markdown",
   "metadata": {},
   "source": [
    "## Question 10\n",
    "\n",
    "What can you say about the model's performance on the test set? Check the recall and precision of the model to try and explain the model's performance."
   ]
  },
  {
   "cell_type": "code",
   "execution_count": null,
   "metadata": {},
   "outputs": [],
   "source": []
  }
 ],
 "metadata": {
  "kernelspec": {
   "display_name": "pda",
   "language": "python",
   "name": "python3"
  },
  "language_info": {
   "codemirror_mode": {
    "name": "ipython",
    "version": 3
   },
   "file_extension": ".py",
   "mimetype": "text/x-python",
   "name": "python",
   "nbconvert_exporter": "python",
   "pygments_lexer": "ipython3",
   "version": "3.10.13"
  }
 },
 "nbformat": 4,
 "nbformat_minor": 2
}
