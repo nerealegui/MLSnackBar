{
 "cells": [
  {
   "cell_type": "markdown",
   "id": "1e1d512b",
   "metadata": {},
   "source": [
    "# **S09: ROBUSTNESS - CROSS VALIDATION**"
   ]
  },
  {
   "cell_type": "code",
   "execution_count": 1,
   "id": "e7fd86f7-34d1-4330-85ff-151e25ccbeb1",
   "metadata": {},
   "outputs": [],
   "source": [
    "import numpy as np\n",
    "import pandas as pd\n",
    "import matplotlib.pyplot as plt\n",
    "import plotly.express as px\n",
    "import plotly.graph_objects as go\n",
    "import plotly.io as pio\n",
    "pio.templates.default = \"none\""
   ]
  },
  {
   "cell_type": "markdown",
   "id": "019c0391",
   "metadata": {},
   "source": [
    "# The train-test split is not flawless\n",
    "\n",
    "- When we tackle a machine learning problem, one of the most important operations we do is splitting the data into a **training set** and a **test set**.\n",
    "    - Train Set - Used to train the model\n",
    "    - Test Set - Used to evaluate the model\n",
    "- We use this split to **avoid overfitting**, that is, to avoid that the model learns too much from the training data, and therefore, it doesn't generalize well on unseen data.\n",
    "\n",
    "**However, the train-test split is too simple and it's not enough**\n",
    "\n",
    "<center><img src=\"https://d33wubrfki0l68.cloudfront.net/c39b2d19183ed14141a8b7b03943442d40efee0d/81e2a/wp-content/uploads/2019/03/train_test_split.png\" width=\"700\"/></center>"
   ]
  },
  {
   "cell_type": "markdown",
   "id": "1fd2b20f",
   "metadata": {},
   "source": [
    "### When *hyperparameters* come into play"
   ]
  },
  {
   "cell_type": "markdown",
   "id": "3ef197bd",
   "metadata": {},
   "source": [
    "- When we **adjust the hyperparameters of the model**, let's say the regularization strength or the depth in a Decision Tree model, we inevitably tend to use the **test set** to *tweak the hyperparamenters* in order to obtain the best results as possible in the test set.\n",
    "> Be careful!: Doing this automatically turns the test set in **seen data**, not **unseen data**. At the emd, we're using the test set to train (\"improve\") the model.\n",
    "\n",
    "- To solve this problem, we can use another set to validate the hyperparameters called **validation set**. This set can be used to validate the hyperparamenters, and then, we use the test set to evaluate the model with **real unseen data**.\n",
    "\n",
    "<center><img src=\"https://cdn.shortpixel.ai/spai/q_lossy+w_730+to_webp+ret_img/https://algotrading101.com/learn/wp-content/uploads/2020/06/training-validation-test-data-set.png\" width=\"700\"/></center>\n"
   ]
  },
  {
   "cell_type": "markdown",
   "id": "0a8960b8",
   "metadata": {},
   "source": [
    "### Right, but now I have less data for training :(\n",
    "\n",
    "- Having a validation set reduces the amount of data we have to train the model. This can compromise the model's performance, especially if we have a small dataset.\n",
    "\n",
    "- Also, having just a validation set still have one unresolved problem: Is my model robust if trained on different sets of data?\n",
    "\n",
    "To solve all this problems, we can use **cross-validation**."
   ]
  },
  {
   "cell_type": "markdown",
   "id": "fbe0f8e1-acdb-4a02-9f6f-7d37705657ef",
   "metadata": {},
   "source": [
    "# **Cross-Validation**: Building robust models\n",
    "\n",
    " - The **cross validation** is a technique commonly used in machine learning to measure the robustness of a model, and in essence, to measure the bias and variance. Have a look to this article: https://codesachin.wordpress.com/2015/08/30/cross-validation-and-the-bias-variance-tradeoff-for-dummies/\n",
    "\n",
    " - Also, the CV strategy is used for **hyperparameter tuning** in order to find the best set of hyperparameters for the model.\n",
    "\n",
    " - It consists on creating a new set of data called the **validation set** in order to test the model robustness in several training settings with different data.\n",
    "\n",
    " - The most relevant cross validation strategies are **K-Fold CV** and **Leave-One-Out CV**.\n",
    "\n",
    " - **Cross-validation** has become a standard in the ML process, and **is part of the general set up in a machine learning model design**. So, it's important to know how to use it.\n",
    "\n",
    "<center><img src=\"https://elitedatascience.com/wp-content/uploads/2017/06/Train-Test-Split-Diagram.jpg\" width=\"700\"/></center>"
   ]
  },
  {
   "cell_type": "markdown",
   "id": "e0d2867c",
   "metadata": {},
   "source": [
    "### **K-Fold CV**\n",
    "\n",
    "Consists on dividing the training data in $K$ folds, and create $K$ models rotating the set of data we use for training. The typical setting is: use $k-1$ folds for training and the last one for validation. Then repeat rotating the validation set.\n",
    "\n",
    "<center><img src=\"https://miro.medium.com/max/720/1*qPMFLEbvc8QQf38Cf77wQg.png\" width=\"700\"/></center>"
   ]
  },
  {
   "cell_type": "markdown",
   "id": "544b1e4f",
   "metadata": {},
   "source": [
    "### **Leave-One-Out CV**\n",
    "\n",
    "It's the extrema version of K-Fold. Consists on using $N-1$ samples for training and the last one for validation. Then repeat rotating the validation set. That is, the number of folds is equal to the number of samples in the dataset."
   ]
  },
  {
   "cell_type": "markdown",
   "id": "914df066-aed6-41de-bb01-fe3b627556df",
   "metadata": {},
   "source": [
    "## Cross-Validation in `scikit-learn`"
   ]
  },
  {
   "cell_type": "markdown",
   "id": "164d2d90",
   "metadata": {},
   "source": [
    "### The `cross_val_score` function\n",
    "\n",
    "Given a trained model, the `cross_val_score` function allows us to evaluate the model using cross-validation. It takes as input the model, the data, the target, and the number of folds. It returns the score of the model in each fold.\n",
    "\n",
    "```python\n",
    "from sklearn.model_selection import cross_val_score\n",
    "\n",
    "scores = cross_val_score(model, X, y, cv=5)\n",
    "```"
   ]
  },
  {
   "cell_type": "code",
   "execution_count": 24,
   "id": "f5e4e564-7e48-4fa5-b3f2-80e9dfbc4cf8",
   "metadata": {},
   "outputs": [],
   "source": [
    "import pandas as pd\n",
    "\n",
    "from sklearn.model_selection import train_test_split, cross_val_score\n",
    "from sklearn.datasets import load_breast_cancer\n",
    "from sklearn.svm import SVC"
   ]
  },
  {
   "cell_type": "code",
   "execution_count": 25,
   "id": "f04b55be-e337-406f-ae87-6748c74c411b",
   "metadata": {},
   "outputs": [],
   "source": [
    "X, y = load_breast_cancer(return_X_y=True)\n",
    "X_train, X_test, y_train, y_test = train_test_split(X, y, test_size=0.25, random_state=0)"
   ]
  },
  {
   "cell_type": "markdown",
   "id": "8f7960ad",
   "metadata": {},
   "source": [
    "Let's evaluate a SVM model using cross-validation."
   ]
  },
  {
   "cell_type": "code",
   "execution_count": 26,
   "id": "66def0d5-b5c2-4019-a177-8efd361ce8a7",
   "metadata": {},
   "outputs": [
    {
     "data": {
      "text/plain": [
       "array([1, 1, 0, 1, 0, 1, 1, 1, 1, 1, 1, 1, 0, 1, 0, 1, 0, 0, 1, 1, 0, 1,\n",
       "       0, 0, 0, 1, 1, 1, 1, 1, 1, 0, 1, 1, 1, 1, 0, 0, 1, 1, 0, 1, 1, 1,\n",
       "       1, 0, 1, 1, 0, 0, 1, 1, 0, 0, 1, 1, 0, 1, 1, 0, 0, 0, 1, 1, 1, 0,\n",
       "       1, 1, 1, 1, 1, 0, 1, 0, 1, 0, 1, 0, 1, 0, 1, 1, 1, 1, 0, 1, 0, 1,\n",
       "       1, 1, 0, 1, 1, 1, 0, 1, 1, 0, 0, 1, 0, 1, 0, 1, 0, 0, 0, 0, 1, 0,\n",
       "       1, 0, 1, 0, 1, 0, 1, 1, 0, 1, 1, 1, 1, 1, 1, 1, 1, 1, 1, 1, 1, 1,\n",
       "       0, 1, 1, 1, 0, 1, 1, 1, 1, 1, 1, 0, 1, 0, 1, 1, 0, 1, 0, 0, 1, 0,\n",
       "       0, 1, 1, 0, 1, 1, 1, 0, 1, 1, 1, 1, 1, 0, 0, 1, 1, 1, 1, 0, 0, 1,\n",
       "       1, 1, 1, 0, 1, 1, 0, 1, 1, 0, 1, 0, 1, 1, 1, 1, 0, 0, 0, 0, 1, 0,\n",
       "       1, 0, 0, 1, 1, 1, 1, 1, 0, 1, 1, 0, 1, 1, 0, 0, 1, 1, 1, 0, 0, 1,\n",
       "       1, 0, 1, 1, 1, 0, 1, 0, 1, 0, 0, 0, 0, 1, 1, 1, 1, 0, 0, 1, 1, 1,\n",
       "       1, 1, 0, 1, 1, 0, 1, 1, 0, 0, 0, 0, 1, 1, 0, 1, 1, 1, 0, 0, 1, 1,\n",
       "       1, 1, 1, 0, 0, 0, 1, 0, 0, 1, 1, 1, 1, 1, 1, 0, 1, 1, 1, 1, 1, 1,\n",
       "       0, 0, 1, 0, 1, 0, 0, 1, 1, 1, 1, 1, 0, 0, 0, 1, 1, 0, 0, 1, 1, 0,\n",
       "       1, 0, 0, 1, 0, 1, 1, 1, 1, 1, 1, 1, 0, 0, 1, 1, 1, 0, 1, 1, 1, 1,\n",
       "       0, 1, 0, 0, 0, 1, 0, 1, 0, 1, 0, 0, 1, 1, 1, 1, 1, 1, 1, 1, 0, 0,\n",
       "       0, 0, 0, 1, 1, 1, 1, 1, 1, 1, 0, 1, 0, 1, 1, 1, 1, 1, 0, 0, 0, 1,\n",
       "       0, 1, 1, 0, 0, 0, 0, 1, 0, 0, 0, 1, 0, 1, 0, 1, 1, 0, 0, 1, 0, 1,\n",
       "       1, 1, 1, 0, 1, 1, 0, 1, 1, 1, 0, 0, 1, 1, 1, 0, 1, 1, 0, 1, 1, 1,\n",
       "       1, 1, 0, 0, 0, 1, 1, 1])"
      ]
     },
     "execution_count": 26,
     "metadata": {},
     "output_type": "execute_result"
    }
   ],
   "source": [
    "y_train"
   ]
  },
  {
   "cell_type": "code",
   "execution_count": 27,
   "id": "7657ba49-d976-4aa0-9efc-86e8b3ada8ac",
   "metadata": {},
   "outputs": [
    {
     "data": {
      "text/plain": [
       "array([[1.185e+01, 1.746e+01, 7.554e+01, ..., 9.140e-02, 3.101e-01,\n",
       "        7.007e-02],\n",
       "       [1.122e+01, 1.986e+01, 7.194e+01, ..., 2.022e-02, 3.292e-01,\n",
       "        6.522e-02],\n",
       "       [2.013e+01, 2.825e+01, 1.312e+02, ..., 1.628e-01, 2.572e-01,\n",
       "        6.637e-02],\n",
       "       ...,\n",
       "       [9.436e+00, 1.832e+01, 5.982e+01, ..., 5.052e-02, 2.454e-01,\n",
       "        8.136e-02],\n",
       "       [9.720e+00, 1.822e+01, 6.073e+01, ..., 0.000e+00, 1.909e-01,\n",
       "        6.559e-02],\n",
       "       [1.151e+01, 2.393e+01, 7.452e+01, ..., 9.653e-02, 2.112e-01,\n",
       "        8.732e-02]])"
      ]
     },
     "execution_count": 27,
     "metadata": {},
     "output_type": "execute_result"
    }
   ],
   "source": [
    "X_train"
   ]
  },
  {
   "cell_type": "code",
   "execution_count": 28,
   "id": "9dd61593-5a03-4b6b-9ac0-88aa1e33c1bb",
   "metadata": {},
   "outputs": [
    {
     "data": {
      "text/plain": [
       "(426, 30)"
      ]
     },
     "execution_count": 28,
     "metadata": {},
     "output_type": "execute_result"
    }
   ],
   "source": [
    "X_train.shape"
   ]
  },
  {
   "cell_type": "code",
   "execution_count": 29,
   "id": "2ba2b44e-cf4d-446e-900e-cf5022747afb",
   "metadata": {},
   "outputs": [
    {
     "data": {
      "text/plain": [
       "(143, 30)"
      ]
     },
     "execution_count": 29,
     "metadata": {},
     "output_type": "execute_result"
    }
   ],
   "source": [
    "X_test.shape"
   ]
  },
  {
   "cell_type": "code",
   "execution_count": 30,
   "id": "e0bd1096-4475-4a45-bca7-435c28399841",
   "metadata": {},
   "outputs": [],
   "source": [
    "# Train and evaluate on test set\n",
    "clf = SVC(kernel='linear', C=1)"
   ]
  },
  {
   "cell_type": "code",
   "execution_count": 31,
   "id": "c48ad5c4",
   "metadata": {},
   "outputs": [
    {
     "data": {
      "text/plain": [
       "array([1.        , 0.96428571, 0.96153846, 0.96428571, 0.88888889,\n",
       "       0.96296296, 0.96296296, 0.92592593, 0.96296296, 0.92857143])"
      ]
     },
     "execution_count": 31,
     "metadata": {},
     "output_type": "execute_result"
    }
   ],
   "source": [
    "# Train and evalute ion training set\n",
    "cross_val_score(clf, X_train, y_train, cv=10, scoring=\"precision\")"
   ]
  },
  {
   "cell_type": "markdown",
   "id": "ae38fa75-23f3-4553-8fdf-82324e4278e7",
   "metadata": {},
   "source": [
    "By default, the `cross_val_score` is training the model on the different folds and then calculating the `precision` with the holdout set."
   ]
  },
  {
   "cell_type": "markdown",
   "id": "e8d52bef",
   "metadata": {},
   "source": [
    "Now, let's evaluate the model using the `recall` metric, and changing the number of folds to 5."
   ]
  },
  {
   "cell_type": "code",
   "execution_count": 33,
   "id": "8be20ee1",
   "metadata": {},
   "outputs": [
    {
     "data": {
      "text/plain": [
       "array([1.        , 0.96296296, 0.9245283 , 0.98113208, 1.        ])"
      ]
     },
     "execution_count": 33,
     "metadata": {},
     "output_type": "execute_result"
    }
   ],
   "source": [
    "# Train and evalute ion training set\n",
    "cross_val_score(clf, X_train, y_train, cv=5, scoring=\"recall\")"
   ]
  },
  {
   "cell_type": "markdown",
   "id": "b601f715",
   "metadata": {},
   "source": [
    "Now, let's use the LOO strategy."
   ]
  },
  {
   "cell_type": "code",
   "execution_count": 34,
   "id": "62d6cc59",
   "metadata": {},
   "outputs": [],
   "source": [
    "from sklearn.model_selection import LeaveOneOut, KFold"
   ]
  },
  {
   "cell_type": "code",
   "execution_count": 35,
   "id": "d5135cee",
   "metadata": {},
   "outputs": [
    {
     "data": {
      "text/plain": [
       "(426, 30)"
      ]
     },
     "execution_count": 35,
     "metadata": {},
     "output_type": "execute_result"
    }
   ],
   "source": [
    "X_train.shape"
   ]
  },
  {
   "cell_type": "code",
   "execution_count": 36,
   "id": "b47d7958",
   "metadata": {},
   "outputs": [],
   "source": [
    "# LOO taks too much time because it's to fit 341 models. Let's reduce the dataset to 20 sample to illustrate this example\n",
    "X_train_red = X_train[:20]\n",
    "y_train_red = y_train[:20]"
   ]
  },
  {
   "cell_type": "code",
   "execution_count": 14,
   "id": "0baa3886",
   "metadata": {},
   "outputs": [
    {
     "data": {
      "text/plain": [
       "0.85"
      ]
     },
     "execution_count": 14,
     "metadata": {},
     "output_type": "execute_result"
    }
   ],
   "source": [
    "perf = cross_val_score(clf, X_train_red, y_train_red, cv=LeaveOneOut(), scoring=\"accuracy\")\n",
    "\n",
    "np.mean(perf)"
   ]
  },
  {
   "cell_type": "markdown",
   "id": "233e6bed",
   "metadata": {},
   "source": [
    "### Let's rock with the `cross_validate` function.\n",
    "\n",
    "The ``cross_validate`` function is similar to the ``cross_val_score`` function, but it allows us to use different metrics and to return the training time and training scores.\n",
    "\n",
    "```python\n",
    "from sklearn.model_selection import cross_validate\n",
    "\n",
    "scores = cross_validate(model, X, y, cv=5, scoring=['precision', 'recall'], return_train_score=True)\n",
    "```"
   ]
  },
  {
   "cell_type": "code",
   "execution_count": 37,
   "id": "0d0f1002",
   "metadata": {},
   "outputs": [],
   "source": [
    "from sklearn.model_selection import cross_validate"
   ]
  },
  {
   "cell_type": "code",
   "execution_count": 38,
   "id": "b70dfe14",
   "metadata": {},
   "outputs": [
    {
     "data": {
      "text/plain": [
       "{'fit_time': array([0.54894614, 0.15284514, 0.14068413, 0.22395992, 0.25181389]),\n",
       " 'score_time': array([0.00163484, 0.00121808, 0.001302  , 0.00128388, 0.00151587]),\n",
       " 'test_precision': array([0.98181818, 0.94545455, 0.90740741, 0.98113208, 0.94642857]),\n",
       " 'train_precision': array([0.96330275, 0.96744186, 0.97695853, 0.96759259, 0.98122066]),\n",
       " 'test_recall': array([1.        , 0.96296296, 0.9245283 , 0.98113208, 1.        ]),\n",
       " 'train_recall': array([0.98591549, 0.97652582, 0.99065421, 0.97663551, 0.97663551])}"
      ]
     },
     "execution_count": 38,
     "metadata": {},
     "output_type": "execute_result"
    }
   ],
   "source": [
    "results = cross_validate(\n",
    "    clf,\n",
    "    X_train, y_train,\n",
    "    cv=5,\n",
    "    scoring=['precision', 'recall'],\n",
    "    return_train_score=True\n",
    ")\n",
    "\n",
    "results"
   ]
  },
  {
   "cell_type": "markdown",
   "id": "3996e4c6",
   "metadata": {},
   "source": [
    "We can transform the dictionary into a dataframe and calculate the mean and standard deviation of the scores to evaluate the general performance of the model. The optimum result is:\n",
    "- *Train and test scores are **very similar***\n",
    "- *The average of the scores is **high***\n",
    "- *The standard deviation of the scores is **low***"
   ]
  },
  {
   "cell_type": "code",
   "execution_count": 41,
   "id": "48f28e62",
   "metadata": {},
   "outputs": [
    {
     "data": {
      "text/html": [
       "<div>\n",
       "<style scoped>\n",
       "    .dataframe tbody tr th:only-of-type {\n",
       "        vertical-align: middle;\n",
       "    }\n",
       "\n",
       "    .dataframe tbody tr th {\n",
       "        vertical-align: top;\n",
       "    }\n",
       "\n",
       "    .dataframe thead th {\n",
       "        text-align: right;\n",
       "    }\n",
       "</style>\n",
       "<table border=\"1\" class=\"dataframe\">\n",
       "  <thead>\n",
       "    <tr style=\"text-align: right;\">\n",
       "      <th></th>\n",
       "      <th>fit_time</th>\n",
       "      <th>score_time</th>\n",
       "      <th>test_precision</th>\n",
       "      <th>train_precision</th>\n",
       "      <th>test_recall</th>\n",
       "      <th>train_recall</th>\n",
       "    </tr>\n",
       "  </thead>\n",
       "  <tbody>\n",
       "    <tr>\n",
       "      <th>0</th>\n",
       "      <td>0.548946</td>\n",
       "      <td>0.001635</td>\n",
       "      <td>0.981818</td>\n",
       "      <td>0.963303</td>\n",
       "      <td>1.000000</td>\n",
       "      <td>0.985915</td>\n",
       "    </tr>\n",
       "    <tr>\n",
       "      <th>1</th>\n",
       "      <td>0.152845</td>\n",
       "      <td>0.001218</td>\n",
       "      <td>0.945455</td>\n",
       "      <td>0.967442</td>\n",
       "      <td>0.962963</td>\n",
       "      <td>0.976526</td>\n",
       "    </tr>\n",
       "    <tr>\n",
       "      <th>2</th>\n",
       "      <td>0.140684</td>\n",
       "      <td>0.001302</td>\n",
       "      <td>0.907407</td>\n",
       "      <td>0.976959</td>\n",
       "      <td>0.924528</td>\n",
       "      <td>0.990654</td>\n",
       "    </tr>\n",
       "    <tr>\n",
       "      <th>3</th>\n",
       "      <td>0.223960</td>\n",
       "      <td>0.001284</td>\n",
       "      <td>0.981132</td>\n",
       "      <td>0.967593</td>\n",
       "      <td>0.981132</td>\n",
       "      <td>0.976636</td>\n",
       "    </tr>\n",
       "    <tr>\n",
       "      <th>4</th>\n",
       "      <td>0.251814</td>\n",
       "      <td>0.001516</td>\n",
       "      <td>0.946429</td>\n",
       "      <td>0.981221</td>\n",
       "      <td>1.000000</td>\n",
       "      <td>0.976636</td>\n",
       "    </tr>\n",
       "  </tbody>\n",
       "</table>\n",
       "</div>"
      ],
      "text/plain": [
       "   fit_time  score_time  test_precision  train_precision  test_recall  \\\n",
       "0  0.548946    0.001635        0.981818         0.963303     1.000000   \n",
       "1  0.152845    0.001218        0.945455         0.967442     0.962963   \n",
       "2  0.140684    0.001302        0.907407         0.976959     0.924528   \n",
       "3  0.223960    0.001284        0.981132         0.967593     0.981132   \n",
       "4  0.251814    0.001516        0.946429         0.981221     1.000000   \n",
       "\n",
       "   train_recall  \n",
       "0      0.985915  \n",
       "1      0.976526  \n",
       "2      0.990654  \n",
       "3      0.976636  \n",
       "4      0.976636  "
      ]
     },
     "execution_count": 41,
     "metadata": {},
     "output_type": "execute_result"
    }
   ],
   "source": [
    "results = pd.DataFrame(results)\n",
    "results"
   ]
  },
  {
   "cell_type": "code",
   "execution_count": 42,
   "id": "9f3018be",
   "metadata": {},
   "outputs": [
    {
     "data": {
      "text/plain": [
       "fit_time           0.263650\n",
       "score_time         0.001391\n",
       "test_precision     0.952448\n",
       "train_precision    0.971303\n",
       "test_recall        0.973725\n",
       "train_recall       0.981273\n",
       "dtype: float64"
      ]
     },
     "execution_count": 42,
     "metadata": {},
     "output_type": "execute_result"
    }
   ],
   "source": [
    "results.mean()"
   ]
  },
  {
   "cell_type": "code",
   "execution_count": 43,
   "id": "f3fc6ef2",
   "metadata": {},
   "outputs": [
    {
     "data": {
      "text/plain": [
       "fit_time           0.166213\n",
       "score_time         0.000176\n",
       "test_precision     0.030819\n",
       "train_precision    0.007467\n",
       "test_recall        0.031511\n",
       "train_recall       0.006616\n",
       "dtype: float64"
      ]
     },
     "execution_count": 43,
     "metadata": {},
     "output_type": "execute_result"
    }
   ],
   "source": [
    "results.std()"
   ]
  },
  {
   "cell_type": "markdown",
   "id": "ab09db1c",
   "metadata": {},
   "source": [
    "## Extracting the best hyperparameters after cross-validation"
   ]
  },
  {
   "cell_type": "markdown",
   "id": "07206ecf",
   "metadata": {},
   "source": [
    "## Other cross-validation strategies\n",
    "\n",
    "### **Stratified K-Fold**\n",
    "\n",
    "The K-Fold CV is not always the best option. For example, if we have a dataset with a high class imbalance, the K-Fold CV can lead to a model that is not able to generalize well on the minority class. To solve this problem, we can use the **Stratified K-Fold CV**. This strategy ensures that the proportion of each class is the same in each fold.\n",
    "\n",
    "```python\n",
    "from sklearn.model_selection import StratifiedKFold\n",
    "\n",
    "skf = StratifiedKFold(n_splits=5)\n",
    "```\n",
    "\n",
    "### **Group K-Fold**\n",
    "\n",
    "The Group K-Fold CV is used when we have a dataset with groups. For example, if we have a dataset with several patients, and we want to predict the disease progression of each patient, we can use the Group K-Fold CV to ensure that the model is trained with data from the same patient in the training set and in the validation set.\n",
    "\n",
    "```python\n",
    "from sklearn.model_selection import GroupKFold\n",
    "\n",
    "gkf = GroupKFold(n_splits=5)\n",
    "```\n",
    "\n",
    "### **Time Series Split**\n",
    "\n",
    "The Time Series Split CV is used when we have a time series dataset. For example, if we have a dataset with the stock price of a company, we can use the Time Series Split CV to ensure that the model is trained with data from the past and validated with data from the future.\n",
    "\n",
    "```python\n",
    "from sklearn.model_selection import TimeSeriesSplit\n",
    "\n",
    "tscv = TimeSeriesSplit(n_splits=5)\n",
    "```"
   ]
  },
  {
   "cell_type": "markdown",
   "id": "82e68c91",
   "metadata": {},
   "source": [
    "## What's next?\n",
    "\n",
    "Once we have evaluated the model using cross-validation, we need to **train** the final model with the **entire training set** and **evaluate** it with the **test set**. This is the final step of the ML process.\n",
    "\n",
    "Let's do it!"
   ]
  },
  {
   "cell_type": "markdown",
   "id": "48edfc95",
   "metadata": {},
   "source": [
    "## Live practice\n",
    "\n",
    "Given the `diabetes` dataset, we will evaluate a SVM model using cross-validation and then train the final model with the entire training set and evaluate it with the test set.\n",
    "\n",
    "We can load the dataset using the `load_diabetes` function from the `sklearn.datasets` module.\n",
    "* [load_diabetes](https://scikit-learn.org/stable/datasets/toy_dataset.html#diabetes-dataset)\n",
    "\n",
    "```python\n",
    "from sklearn.datasets import load_diabetes\n",
    "\n",
    "data = load_diabetes()\n",
    "x, y = data.data, data.target\n",
    "\n",
    "# using the feature names\n",
    "x = pd.DataFrame(X, columns=data.feature_names)\n",
    "```"
   ]
  },
  {
   "cell_type": "code",
   "execution_count": 20,
   "id": "855466e6",
   "metadata": {},
   "outputs": [],
   "source": [
    "from sklearn.datasets import load_diabetes\n",
    "\n",
    "data = load_diabetes()\n",
    "\n",
    "x, y = data.data, data.target\n",
    "\n",
    "x = pd.DataFrame(x, columns=data.feature_names)"
   ]
  },
  {
   "cell_type": "code",
   "execution_count": 21,
   "id": "e50e341f",
   "metadata": {},
   "outputs": [
    {
     "data": {
      "text/html": [
       "<div>\n",
       "<style scoped>\n",
       "    .dataframe tbody tr th:only-of-type {\n",
       "        vertical-align: middle;\n",
       "    }\n",
       "\n",
       "    .dataframe tbody tr th {\n",
       "        vertical-align: top;\n",
       "    }\n",
       "\n",
       "    .dataframe thead th {\n",
       "        text-align: right;\n",
       "    }\n",
       "</style>\n",
       "<table border=\"1\" class=\"dataframe\">\n",
       "  <thead>\n",
       "    <tr style=\"text-align: right;\">\n",
       "      <th></th>\n",
       "      <th>age</th>\n",
       "      <th>sex</th>\n",
       "      <th>bmi</th>\n",
       "      <th>bp</th>\n",
       "      <th>s1</th>\n",
       "      <th>s2</th>\n",
       "      <th>s3</th>\n",
       "      <th>s4</th>\n",
       "      <th>s5</th>\n",
       "      <th>s6</th>\n",
       "    </tr>\n",
       "  </thead>\n",
       "  <tbody>\n",
       "    <tr>\n",
       "      <th>0</th>\n",
       "      <td>0.038076</td>\n",
       "      <td>0.050680</td>\n",
       "      <td>0.061696</td>\n",
       "      <td>0.021872</td>\n",
       "      <td>-0.044223</td>\n",
       "      <td>-0.034821</td>\n",
       "      <td>-0.043401</td>\n",
       "      <td>-0.002592</td>\n",
       "      <td>0.019907</td>\n",
       "      <td>-0.017646</td>\n",
       "    </tr>\n",
       "    <tr>\n",
       "      <th>1</th>\n",
       "      <td>-0.001882</td>\n",
       "      <td>-0.044642</td>\n",
       "      <td>-0.051474</td>\n",
       "      <td>-0.026328</td>\n",
       "      <td>-0.008449</td>\n",
       "      <td>-0.019163</td>\n",
       "      <td>0.074412</td>\n",
       "      <td>-0.039493</td>\n",
       "      <td>-0.068332</td>\n",
       "      <td>-0.092204</td>\n",
       "    </tr>\n",
       "    <tr>\n",
       "      <th>2</th>\n",
       "      <td>0.085299</td>\n",
       "      <td>0.050680</td>\n",
       "      <td>0.044451</td>\n",
       "      <td>-0.005670</td>\n",
       "      <td>-0.045599</td>\n",
       "      <td>-0.034194</td>\n",
       "      <td>-0.032356</td>\n",
       "      <td>-0.002592</td>\n",
       "      <td>0.002861</td>\n",
       "      <td>-0.025930</td>\n",
       "    </tr>\n",
       "    <tr>\n",
       "      <th>3</th>\n",
       "      <td>-0.089063</td>\n",
       "      <td>-0.044642</td>\n",
       "      <td>-0.011595</td>\n",
       "      <td>-0.036656</td>\n",
       "      <td>0.012191</td>\n",
       "      <td>0.024991</td>\n",
       "      <td>-0.036038</td>\n",
       "      <td>0.034309</td>\n",
       "      <td>0.022688</td>\n",
       "      <td>-0.009362</td>\n",
       "    </tr>\n",
       "    <tr>\n",
       "      <th>4</th>\n",
       "      <td>0.005383</td>\n",
       "      <td>-0.044642</td>\n",
       "      <td>-0.036385</td>\n",
       "      <td>0.021872</td>\n",
       "      <td>0.003935</td>\n",
       "      <td>0.015596</td>\n",
       "      <td>0.008142</td>\n",
       "      <td>-0.002592</td>\n",
       "      <td>-0.031988</td>\n",
       "      <td>-0.046641</td>\n",
       "    </tr>\n",
       "  </tbody>\n",
       "</table>\n",
       "</div>"
      ],
      "text/plain": [
       "        age       sex       bmi        bp        s1        s2        s3  \\\n",
       "0  0.038076  0.050680  0.061696  0.021872 -0.044223 -0.034821 -0.043401   \n",
       "1 -0.001882 -0.044642 -0.051474 -0.026328 -0.008449 -0.019163  0.074412   \n",
       "2  0.085299  0.050680  0.044451 -0.005670 -0.045599 -0.034194 -0.032356   \n",
       "3 -0.089063 -0.044642 -0.011595 -0.036656  0.012191  0.024991 -0.036038   \n",
       "4  0.005383 -0.044642 -0.036385  0.021872  0.003935  0.015596  0.008142   \n",
       "\n",
       "         s4        s5        s6  \n",
       "0 -0.002592  0.019907 -0.017646  \n",
       "1 -0.039493 -0.068332 -0.092204  \n",
       "2 -0.002592  0.002861 -0.025930  \n",
       "3  0.034309  0.022688 -0.009362  \n",
       "4 -0.002592 -0.031988 -0.046641  "
      ]
     },
     "execution_count": 21,
     "metadata": {},
     "output_type": "execute_result"
    }
   ],
   "source": [
    "x.head()"
   ]
  },
  {
   "cell_type": "code",
   "execution_count": 23,
   "id": "9704ce6e",
   "metadata": {},
   "outputs": [
    {
     "data": {
      "text/plain": [
       "array([151.,  75., 141., 206., 135.])"
      ]
     },
     "execution_count": 23,
     "metadata": {},
     "output_type": "execute_result"
    }
   ],
   "source": [
    "y[:5]"
   ]
  }
 ],
 "metadata": {
  "kernelspec": {
   "display_name": "pda",
   "language": "python",
   "name": "python3"
  },
  "language_info": {
   "codemirror_mode": {
    "name": "ipython",
    "version": 3
   },
   "file_extension": ".py",
   "mimetype": "text/x-python",
   "name": "python",
   "nbconvert_exporter": "python",
   "pygments_lexer": "ipython3",
   "version": "3.10.13"
  },
  "toc-autonumbering": true
 },
 "nbformat": 4,
 "nbformat_minor": 5
}
