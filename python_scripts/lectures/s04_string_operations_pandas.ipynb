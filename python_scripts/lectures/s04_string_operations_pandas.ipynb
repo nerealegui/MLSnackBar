{
 "cells": [
  {
   "cell_type": "markdown",
   "id": "ce12b4d2-e78b-4b8b-a513-07925d6f14a6",
   "metadata": {},
   "source": [
    "# **S04: VECTORIZED STRING OPERATIONS AND REGULAR EXPRESSIONS**"
   ]
  },
  {
   "cell_type": "markdown",
   "id": "fc20fc5a",
   "metadata": {},
   "source": [
    "# Vectorized String Operations with `pandas`"
   ]
  },
  {
   "cell_type": "markdown",
   "id": "4e31daae",
   "metadata": {},
   "source": [
    "Pandas includes features to address both this need for vectorized string operations and for correctly handling missing data via the ``str`` attribute of Pandas Series and Index objects containing strings.\n",
    "So, for example, suppose we create a Pandas Series with this data:"
   ]
  },
  {
   "cell_type": "markdown",
   "id": "fc5a7e48",
   "metadata": {},
   "source": [
    "### The `str` attribute"
   ]
  },
  {
   "cell_type": "code",
   "execution_count": 1,
   "id": "aa7cc8df",
   "metadata": {},
   "outputs": [],
   "source": [
    "data = [\"peter\", \"Paul\", None, \"MARY\", \"gUIDO\"]"
   ]
  },
  {
   "cell_type": "code",
   "execution_count": 2,
   "id": "b39d6b1a",
   "metadata": {},
   "outputs": [
    {
     "data": {
      "text/plain": [
       "0    peter\n",
       "1     Paul\n",
       "2     None\n",
       "3     MARY\n",
       "4    gUIDO\n",
       "dtype: object"
      ]
     },
     "execution_count": 2,
     "metadata": {},
     "output_type": "execute_result"
    }
   ],
   "source": [
    "import pandas as pd\n",
    "names = pd.Series(data)\n",
    "names"
   ]
  },
  {
   "cell_type": "markdown",
   "id": "929c8e12",
   "metadata": {},
   "source": [
    "We can now call a single method that will capitalize all the entries, while skipping over any missing values:"
   ]
  },
  {
   "cell_type": "code",
   "execution_count": 3,
   "id": "f72637ab",
   "metadata": {},
   "outputs": [
    {
     "data": {
      "text/plain": [
       "<pandas.core.strings.accessor.StringMethods at 0x14e6f14b0>"
      ]
     },
     "execution_count": 3,
     "metadata": {},
     "output_type": "execute_result"
    }
   ],
   "source": [
    "names.str"
   ]
  },
  {
   "cell_type": "code",
   "execution_count": 4,
   "id": "220cd2d0",
   "metadata": {},
   "outputs": [
    {
     "data": {
      "text/plain": [
       "0    Peter\n",
       "1     Paul\n",
       "2     None\n",
       "3     Mary\n",
       "4    Guido\n",
       "dtype: object"
      ]
     },
     "execution_count": 4,
     "metadata": {},
     "output_type": "execute_result"
    }
   ],
   "source": [
    "names.str.capitalize()"
   ]
  },
  {
   "cell_type": "markdown",
   "id": "d294190c",
   "metadata": {},
   "source": [
    "Using tab completion on this ``str`` attribute will list all the vectorized string methods available to Pandas."
   ]
  },
  {
   "cell_type": "markdown",
   "id": "7a410232",
   "metadata": {},
   "source": [
    "### Methods similar to Python string methods\n",
    "Nearly all Python's built-in string methods are mirrored by a Pandas vectorized string method. Here is a list of Pandas ``str`` methods that mirror Python string methods:\n",
    "\n",
    "|             |                  |                  |                  |\n",
    "|-------------|------------------|------------------|------------------|\n",
    "|``len()``    | ``lower()``      | ``translate()``  | ``islower()``    | \n",
    "|``ljust()``  | ``upper()``      | ``startswith()`` | ``isupper()``    | \n",
    "|``rjust()``  | ``find()``       | ``endswith()``   | ``isnumeric()``  | \n",
    "|``center()`` | ``rfind()``      | ``isalnum()``    | ``isdecimal()``  | \n",
    "|``zfill()``  | ``index()``      | ``isalpha()``    | ``split()``      | \n",
    "|``strip()``  | ``rindex()``     | ``isdigit()``    | ``rsplit()``     | \n",
    "|``rstrip()`` | ``capitalize()`` | ``isspace()``    | ``partition()``  | \n",
    "|``lstrip()`` |  ``swapcase()``  |  ``istitle()``   | ``rpartition()`` |\n",
    "\n",
    "Notice that these have various return values. Some, like ``lower()``, return a series of strings:"
   ]
  },
  {
   "cell_type": "code",
   "execution_count": 5,
   "id": "6d841bcb",
   "metadata": {},
   "outputs": [],
   "source": [
    "monty = pd.Series(\n",
    "    ['Graham Chapman', 'John Cleese', 'Terry Gilliam',\n",
    "    'Eric Idle', 'Terry Jones', 'Michael Palin']\n",
    ")"
   ]
  },
  {
   "cell_type": "code",
   "execution_count": 6,
   "id": "c28d8dc1",
   "metadata": {},
   "outputs": [
    {
     "data": {
      "text/plain": [
       "0    graham chapman\n",
       "1       john cleese\n",
       "2     terry gilliam\n",
       "3         eric idle\n",
       "4       terry jones\n",
       "5     michael palin\n",
       "dtype: object"
      ]
     },
     "execution_count": 6,
     "metadata": {},
     "output_type": "execute_result"
    }
   ],
   "source": [
    "monty.str.lower()"
   ]
  },
  {
   "cell_type": "code",
   "execution_count": 7,
   "id": "78200ba7",
   "metadata": {},
   "outputs": [
    {
     "data": {
      "text/plain": [
       "0    14\n",
       "1    11\n",
       "2    13\n",
       "3     9\n",
       "4    11\n",
       "5    13\n",
       "dtype: int64"
      ]
     },
     "execution_count": 7,
     "metadata": {},
     "output_type": "execute_result"
    }
   ],
   "source": [
    "monty.str.len()"
   ]
  },
  {
   "cell_type": "code",
   "execution_count": 8,
   "id": "ab609e74",
   "metadata": {},
   "outputs": [
    {
     "data": {
      "text/plain": [
       "0    False\n",
       "1    False\n",
       "2     True\n",
       "3    False\n",
       "4     True\n",
       "5    False\n",
       "dtype: bool"
      ]
     },
     "execution_count": 8,
     "metadata": {},
     "output_type": "execute_result"
    }
   ],
   "source": [
    "monty.str.startswith('T')"
   ]
  },
  {
   "cell_type": "code",
   "execution_count": null,
   "id": "a71d764f",
   "metadata": {},
   "outputs": [],
   "source": [
    "list_names = ['Graham Chapman', 'John Cleese', 'Terry Gilliam',\n",
    "    'Eric Idle', 'Terry Jones', 'Michael Palin']\n",
    "\n",
    "upper_names = []\n",
    "\n",
    "for name in list_names:\n",
    "    upper_names.append(names.upper())\n",
    "\n",
    "upper_names"
   ]
  },
  {
   "cell_type": "code",
   "execution_count": null,
   "id": "02581663",
   "metadata": {},
   "outputs": [],
   "source": [
    "#list comprehension - https://www.w3schools.com/python/python_lists_comprehension.asp\n",
    "upper_names = [name.upper() for name in list_names]\n",
    "upper_names\n",
    "\n",
    "#diff example of list comprehension syntax\n",
    "upper_names = [name.tile() if name[0]=='T' else name.capitalize() for name in list_names]"
   ]
  },
  {
   "cell_type": "code",
   "execution_count": null,
   "id": "6e7b5cf4",
   "metadata": {},
   "outputs": [],
   "source": [
    "# map() function\n",
    "# given a string keep only the first word - https://www.w3schools.com/python/ref_func_map.asp\n",
    "def extract_name(full_name):\n",
    "    return full_name.splut()[0]\n",
    "\n",
    "map(extract_name,list_names)"
   ]
  },
  {
   "cell_type": "code",
   "execution_count": null,
   "id": "296a8928",
   "metadata": {},
   "outputs": [],
   "source": [
    "#lambda funtions - save memory in the execution, it's usually meant to do simple tasks - https://www.w3schools.com/python/python_lambda.asp\n",
    "list(map(lambda name: name.splot()[0],list_names))"
   ]
  },
  {
   "cell_type": "code",
   "execution_count": 9,
   "id": "6d5cae6c",
   "metadata": {},
   "outputs": [
    {
     "data": {
      "text/plain": [
       "0    [Graham, Chapman]\n",
       "1       [John, Cleese]\n",
       "2     [Terry, Gilliam]\n",
       "3         [Eric, Idle]\n",
       "4       [Terry, Jones]\n",
       "5     [Michael, Palin]\n",
       "dtype: object"
      ]
     },
     "execution_count": 9,
     "metadata": {},
     "output_type": "execute_result"
    }
   ],
   "source": [
    "monty.str.split()"
   ]
  },
  {
   "cell_type": "markdown",
   "id": "bdadcf06",
   "metadata": {},
   "source": [
    "### Vectorized string indexing and slicing"
   ]
  },
  {
   "cell_type": "markdown",
   "id": "19a40d00",
   "metadata": {},
   "source": [
    "\n",
    "The ``get()`` and ``slice()`` operations, in particular, enable vectorized element access from each array.\n",
    "For example, we can get a slice of the first three characters of each array using ``str.slice(0, 3)``.\n",
    "Note that this behavior is also available through Python's normal indexing syntax–for example, ``df.str.slice(0, 3)`` is equivalent to ``df.str[0:3]``:"
   ]
  },
  {
   "cell_type": "code",
   "execution_count": 10,
   "id": "194e58e9",
   "metadata": {},
   "outputs": [
    {
     "data": {
      "text/plain": [
       "0    Gra\n",
       "1    Joh\n",
       "2    Ter\n",
       "3    Eri\n",
       "4    Ter\n",
       "5    Mic\n",
       "dtype: object"
      ]
     },
     "execution_count": 10,
     "metadata": {},
     "output_type": "execute_result"
    }
   ],
   "source": [
    "monty.str[:3]"
   ]
  },
  {
   "cell_type": "markdown",
   "id": "2ed8d5d4",
   "metadata": {},
   "source": [
    "Indexing via ``df.str.get(i)`` and ``df.str[i]`` is likewise similar.\n",
    "\n",
    "These ``get()`` and ``slice()`` methods also let you access elements of arrays returned by ``split()``.\n",
    "For example, to extract the last name of each entry, we can combine ``split()`` and ``get()``:"
   ]
  },
  {
   "cell_type": "code",
   "execution_count": 11,
   "id": "fc97ead3",
   "metadata": {},
   "outputs": [
    {
     "data": {
      "text/plain": [
       "0    Graham Chapman\n",
       "1       John Cleese\n",
       "2     Terry Gilliam\n",
       "3         Eric Idle\n",
       "4       Terry Jones\n",
       "5     Michael Palin\n",
       "dtype: object"
      ]
     },
     "execution_count": 11,
     "metadata": {},
     "output_type": "execute_result"
    }
   ],
   "source": [
    "monty"
   ]
  },
  {
   "cell_type": "code",
   "execution_count": 12,
   "id": "b597a048",
   "metadata": {},
   "outputs": [
    {
     "data": {
      "text/plain": [
       "0    Chapman\n",
       "1     Cleese\n",
       "2    Gilliam\n",
       "3       Idle\n",
       "4      Jones\n",
       "5      Palin\n",
       "dtype: object"
      ]
     },
     "execution_count": 12,
     "metadata": {},
     "output_type": "execute_result"
    }
   ],
   "source": [
    "monty.str.split().str.get(-1)"
   ]
  },
  {
   "cell_type": "markdown",
   "id": "6b14581e",
   "metadata": {},
   "source": [
    "# Regular expressions*"
   ]
  },
  {
   "cell_type": "markdown",
   "id": "66a86ac4-c536-41b6-8269-d1fbad3d36ef",
   "metadata": {},
   "source": [
    "**A regular expresion is a sequence of characters that specifies a _search pattern_ in a string**"
   ]
  },
  {
   "cell_type": "markdown",
   "id": "df448764-9cf2-4ee0-95a3-9fa0e3d27aa8",
   "metadata": {},
   "source": [
    "The Python interface to regular expressions is contained in the built-in `re` module. The regular expresions sintaxis is like a special language adapted to build search patterns. It's not a complex syntax, but it has a lot of different options. Let's see an example."
   ]
  },
  {
   "cell_type": "markdown",
   "id": "fc683a5f",
   "metadata": {},
   "source": [
    "We have this string in a Python variable\n",
    "\n",
    "    text = \"This is          a text\"\n",
    "\n",
    "We want to split it to remove the blank spaces"
   ]
  },
  {
   "cell_type": "code",
   "execution_count": 13,
   "id": "4e665955",
   "metadata": {},
   "outputs": [],
   "source": [
    "text = \"This is          a text\""
   ]
  },
  {
   "cell_type": "code",
   "execution_count": 14,
   "id": "3cbeea3b",
   "metadata": {},
   "outputs": [
    {
     "data": {
      "text/plain": [
       "['This', 'is', '', '', '', '', '', '', '', '', '', 'a', 'text']"
      ]
     },
     "execution_count": 14,
     "metadata": {},
     "output_type": "execute_result"
    }
   ],
   "source": [
    "text.split(\" \")"
   ]
  },
  {
   "cell_type": "markdown",
   "id": "606c1e2b",
   "metadata": {},
   "source": [
    "Here comes to help the regular expression language"
   ]
  },
  {
   "cell_type": "code",
   "execution_count": 15,
   "id": "8b65cd44",
   "metadata": {},
   "outputs": [
    {
     "data": {
      "text/plain": [
       "'\\\\s+'"
      ]
     },
     "execution_count": 15,
     "metadata": {},
     "output_type": "execute_result"
    }
   ],
   "source": [
    "r\"\\s+\" # raw string"
   ]
  },
  {
   "cell_type": "code",
   "execution_count": 16,
   "id": "63e73b5a-d197-4aa3-8d89-647b502f0f27",
   "metadata": {
    "collapsed": false,
    "jupyter": {
     "outputs_hidden": false
    }
   },
   "outputs": [
    {
     "data": {
      "text/plain": [
       "['This', 'is', 'a', 'text']"
      ]
     },
     "execution_count": 16,
     "metadata": {},
     "output_type": "execute_result"
    }
   ],
   "source": [
    "import re\n",
    "\n",
    "regex = re.compile(r'\\s+')\n",
    "regex.split(text)"
   ]
  },
  {
   "cell_type": "markdown",
   "id": "cced72f1-d2a0-4cfa-8f63-e6062e5dec56",
   "metadata": {},
   "source": [
    "In this case, the search pattern is ``\"\\s+\"``: \"``\\s``\" is a special character that matches any whitespace (space, tab, newline, etc.), and the \"``+``\" is a character that indicates *one or more* of the entity preceding it. So, in essence, we are splitting the string by whitespaces (\" \"), but this is more powerful because we can split the string by **any number of whitespaces**"
   ]
  },
  {
   "cell_type": "markdown",
   "id": "284cdc66-476f-474c-97f6-158f9fe75531",
   "metadata": {},
   "source": [
    "Let's see another example"
   ]
  },
  {
   "cell_type": "code",
   "execution_count": 17,
   "id": "82a3907d-2431-47b0-8555-eb1fa6b1edd5",
   "metadata": {},
   "outputs": [],
   "source": [
    "line = \"The quick brown fox jumped over a lazy dog\""
   ]
  },
  {
   "cell_type": "code",
   "execution_count": 18,
   "id": "d9535661-bafe-4547-9ae5-54f0f89044fa",
   "metadata": {},
   "outputs": [
    {
     "data": {
      "text/plain": [
       "['The quick brown', 'jumped over a lazy dog']"
      ]
     },
     "execution_count": 18,
     "metadata": {},
     "output_type": "execute_result"
    }
   ],
   "source": [
    "regex = re.compile(r'\\s\\w{3}\\s')\n",
    "regex.split(line)"
   ]
  },
  {
   "cell_type": "markdown",
   "id": "db0b509d-db4d-45fb-a931-31d2514787f9",
   "metadata": {},
   "source": [
    "\"The quick brown fox jumped over a lazy dog\""
   ]
  },
  {
   "cell_type": "markdown",
   "id": "932d4801-4641-437e-afdd-c39e5116f316",
   "metadata": {},
   "source": [
    "In this case, we're splitting the text by `\\s\\w{3}\\s`, that is: a whitespace (`\\s`), three consecutive alphanumeric characters (`\\w{3}`) and a whitespace (`\\s`). If you check again the string, the only substring that match this pattern is **\" fox \"**."
   ]
  },
  {
   "cell_type": "markdown",
   "id": "a7af43b5-9805-485e-8e89-c3c98b4cc2df",
   "metadata": {},
   "source": [
    "In the `re` package, a regular expresion must be compiled first with `compile`, turning it into a `Pattern` object"
   ]
  },
  {
   "cell_type": "code",
   "execution_count": 19,
   "id": "9dfddd0d-1a74-454b-9a16-2cfb40566145",
   "metadata": {},
   "outputs": [
    {
     "data": {
      "text/plain": [
       "re.Pattern"
      ]
     },
     "execution_count": 19,
     "metadata": {},
     "output_type": "execute_result"
    }
   ],
   "source": [
    "type(regex)"
   ]
  },
  {
   "cell_type": "markdown",
   "id": "4af46ef2-7d7d-46e9-9e03-a6c25ccbb4bb",
   "metadata": {},
   "source": [
    "There is a lot of string operations we can do with a regular expression. Check the full list with `regex.` tab completion. The most common\n",
    " - `findall` - Return a list of all non-overlapping matches of pattern in string.\n",
    " - `search` - Scan through string looking for a match, and return a corresponding match object instance"
   ]
  },
  {
   "cell_type": "markdown",
   "id": "bcbfc29f-3c7d-4b4e-955b-ec9d06f20c91",
   "metadata": {},
   "source": [
    "### A more sophisticated example"
   ]
  },
  {
   "cell_type": "code",
   "execution_count": 20,
   "id": "5d7038e9-1269-4c37-a73e-6b96a41199b9",
   "metadata": {
    "tags": []
   },
   "outputs": [],
   "source": [
    "email = re.compile(r'\\w+@\\w+\\.[a-z]{3}')  # this is the pattern of an email"
   ]
  },
  {
   "cell_type": "markdown",
   "id": "67709614-600d-4ea3-8835-d073dc1b00f9",
   "metadata": {},
   "source": [
    "Using this, if we're given a line from a document, we can quickly extract things that look like email addresses"
   ]
  },
  {
   "cell_type": "code",
   "execution_count": 21,
   "id": "052141cc-b7ab-428e-8fb7-5c4c52882cda",
   "metadata": {
    "collapsed": false,
    "jupyter": {
     "outputs_hidden": false
    }
   },
   "outputs": [
    {
     "data": {
      "text/plain": [
       "['guido@python.org', 'guido@google.com']"
      ]
     },
     "execution_count": 21,
     "metadata": {},
     "output_type": "execute_result"
    }
   ],
   "source": [
    "text = \"To email Guido, try guido@python.org or the older address guido@google.com\"\n",
    "email.findall(text)"
   ]
  },
  {
   "cell_type": "code",
   "execution_count": 22,
   "id": "c0674c07-8004-470f-93bd-8578dc422d8a",
   "metadata": {
    "collapsed": false,
    "jupyter": {
     "outputs_hidden": false
    }
   },
   "outputs": [
    {
     "data": {
      "text/plain": [
       "['obama@whitehouse.gov']"
      ]
     },
     "execution_count": 22,
     "metadata": {},
     "output_type": "execute_result"
    }
   ],
   "source": [
    "email.findall('barack.obama@whitehouse.gov')"
   ]
  },
  {
   "cell_type": "code",
   "execution_count": 23,
   "id": "d35d2793-8b79-4205-90ea-f53861e0a0de",
   "metadata": {},
   "outputs": [],
   "source": [
    "# for the obama example"
   ]
  },
  {
   "cell_type": "code",
   "execution_count": 24,
   "id": "ba684bc0-73ec-401b-8341-773bc0215284",
   "metadata": {},
   "outputs": [],
   "source": [
    "email = re.compile(r'\\w+\\.\\w+@\\w+\\.\\w{2,3}')"
   ]
  },
  {
   "cell_type": "code",
   "execution_count": 25,
   "id": "5416ee27-31a9-43ff-a8c8-d418885258e2",
   "metadata": {},
   "outputs": [
    {
     "data": {
      "text/plain": [
       "[]"
      ]
     },
     "execution_count": 25,
     "metadata": {},
     "output_type": "execute_result"
    }
   ],
   "source": [
    "email.findall('barackobama@whitehouse.es')"
   ]
  },
  {
   "cell_type": "markdown",
   "id": "d3e58c0d-8e9c-4014-8c07-92fdff2a450e",
   "metadata": {},
   "source": [
    "### Basics of regular expression syntax"
   ]
  },
  {
   "cell_type": "markdown",
   "id": "a2517409-2e2a-48e4-811b-7033cbc6bd75",
   "metadata": {},
   "source": [
    "#### Simple strings are matched directly\n",
    "\n",
    "If you build a regular expression on a simple string of characters or digits, it will match that exact string:"
   ]
  },
  {
   "cell_type": "code",
   "execution_count": 26,
   "id": "349d1cbb-ec61-4118-a3d1-8ef8694302c0",
   "metadata": {
    "collapsed": false,
    "jupyter": {
     "outputs_hidden": false
    }
   },
   "outputs": [
    {
     "data": {
      "text/plain": [
       "['ion', 'ion']"
      ]
     },
     "execution_count": 26,
     "metadata": {},
     "output_type": "execute_result"
    }
   ],
   "source": [
    "regex = re.compile('ion')\n",
    "regex.findall('Iron like a lion in Zion')"
   ]
  },
  {
   "cell_type": "markdown",
   "id": "d338a092-1a6d-4455-a3db-9170f1a35fff",
   "metadata": {},
   "source": [
    "#### Some characters have special meanings\n",
    "\n",
    "While simple letters or numbers are direct matches, there are a handful of characters that have special meanings within regular expressions. They are:\n",
    "```\n",
    ". ^ $ * + ? { } [ ] \\ | ( )\n",
    "```\n",
    "We will discuss the meaning of some of these momentarily.\n",
    "In the meantime, you should know that if you'd like to match any of these characters directly, you can *escape* them with a back-slash:"
   ]
  },
  {
   "cell_type": "code",
   "execution_count": 27,
   "id": "07836913-fcc8-4c79-9101-cd7d30a3b8e7",
   "metadata": {
    "collapsed": false,
    "jupyter": {
     "outputs_hidden": false
    }
   },
   "outputs": [
    {
     "data": {
      "text/plain": [
       "['$']"
      ]
     },
     "execution_count": 27,
     "metadata": {},
     "output_type": "execute_result"
    }
   ],
   "source": [
    "regex = re.compile(r'\\$')\n",
    "regex.findall(\"the cost is $20\")"
   ]
  },
  {
   "cell_type": "markdown",
   "id": "b46f74c2-80a9-49ea-95ef-d74f419df315",
   "metadata": {},
   "source": [
    "The ``r`` preface in ``r'\\$'`` indicates a *raw string*; in standard Python strings, the backslash is used to indicate special characters.\n",
    "For example, a tab is indicated by ``\"\\t\"``:"
   ]
  },
  {
   "cell_type": "code",
   "execution_count": 28,
   "id": "170ae01f-65c3-4e78-9d0b-c414ecd07ca7",
   "metadata": {
    "collapsed": false,
    "jupyter": {
     "outputs_hidden": false
    }
   },
   "outputs": [
    {
     "name": "stdout",
     "output_type": "stream",
     "text": [
      "a\tb\tc\n"
     ]
    }
   ],
   "source": [
    "print('a\\tb\\tc')"
   ]
  },
  {
   "cell_type": "markdown",
   "id": "848f0012-c08b-4a2c-80f7-acbe424570ec",
   "metadata": {},
   "source": [
    "Such substitutions are not made in a raw string:"
   ]
  },
  {
   "cell_type": "code",
   "execution_count": 29,
   "id": "e230f37d-3791-4608-9809-702689dba407",
   "metadata": {
    "collapsed": false,
    "jupyter": {
     "outputs_hidden": false
    }
   },
   "outputs": [
    {
     "name": "stdout",
     "output_type": "stream",
     "text": [
      "a\\tb\\tc\n"
     ]
    }
   ],
   "source": [
    "print(r'a\\tb\\tc')"
   ]
  },
  {
   "cell_type": "markdown",
   "id": "54b8bb0e-bbba-4293-97a0-4a2d0403bf1d",
   "metadata": {},
   "source": [
    "For this reason, whenever you use backslashes in a regular expression, it is good practice to use a raw string."
   ]
  },
  {
   "cell_type": "markdown",
   "id": "c5f4ca60-8563-4375-86ac-a967d16bfcbc",
   "metadata": {},
   "source": [
    "#### Putting together several characters to build the search pattern"
   ]
  },
  {
   "cell_type": "code",
   "execution_count": 30,
   "id": "89c1ff6d-796a-458b-a24f-be8220bf2a68",
   "metadata": {
    "collapsed": false,
    "jupyter": {
     "outputs_hidden": false
    }
   },
   "outputs": [
    {
     "data": {
      "text/plain": [
       "['e f', 'x i', 's 9', 's o']"
      ]
     },
     "execution_count": 30,
     "metadata": {},
     "output_type": "execute_result"
    }
   ],
   "source": [
    "regex = re.compile(r'\\w\\s\\w')\n",
    "regex.findall('the fox is 9 years old')"
   ]
  },
  {
   "cell_type": "markdown",
   "id": "5e24bca8",
   "metadata": {},
   "source": [
    "In this case, the '\\w\\s\\w' pattern matches a word character (`\\w`), followed by a whitespace (`\\s`), followed by another word character (`\\w`)."
   ]
  },
  {
   "cell_type": "markdown",
   "id": "71f6da69-92df-4a77-b97c-2dbd453b6c8d",
   "metadata": {},
   "source": [
    "The following table lists a few of these characters that are commonly useful:\n",
    "\n",
    "| Character | Description                 | Character | Description                     |\n",
    "|-----------|-----------------------------|-----------|---------------------------------|\n",
    "| ``\"\\d\"``  | Match any digit             | ``\"\\D\"``  | Match any non-digit             |\n",
    "| ``\"\\s\"``  | Match any whitespace        | ``\"\\S\"``  | Match any non-whitespace        |\n",
    "| ``\"\\w\"``  | Match any alphanumeric char | ``\"\\W\"``  | Match any non-alphanumeric char |\n",
    "\n",
    "This is *not* a comprehensive list or description; for more details, see Python's [regular expression syntax documentation](https://docs.python.org/3/library/re.html#re-syntax)."
   ]
  },
  {
   "cell_type": "markdown",
   "id": "48998231-d7b9-4d5c-b0fa-f93c0ce7b7c7",
   "metadata": {},
   "source": [
    "#### Square brackets match custom character groups\n",
    "\n",
    "If the built-in character groups aren't specific enough for you, you can use square brackets to specify any set of characters you're interested in.\n",
    "For example, the following will match any lower-case vowel:"
   ]
  },
  {
   "cell_type": "code",
   "execution_count": 31,
   "id": "87423b76-fdda-4219-b241-998994f9c1fa",
   "metadata": {
    "collapsed": false,
    "jupyter": {
     "outputs_hidden": false
    }
   },
   "outputs": [
    {
     "data": {
      "text/plain": [
       "['c', 'ns', 'q', '', 'nt', '', 'l']"
      ]
     },
     "execution_count": 31,
     "metadata": {},
     "output_type": "execute_result"
    }
   ],
   "source": [
    "# to find all the characters within the brackets\n",
    "regex = re.compile('[aeiou]') \n",
    "\n",
    "# once found, it will split the string using them\n",
    "regex.split('consequential')"
   ]
  },
  {
   "cell_type": "markdown",
   "id": "221f90b4-9737-4e0a-b4e4-66da9f3dc78b",
   "metadata": {},
   "source": [
    "Similarly, you can use a dash to specify a range: for example, ``\"[a-z]\"`` will match any lower-case letter, and ``\"[1-3]\"`` will match any of ``\"1\"``, ``\"2\"``, or ``\"3\"``.\n",
    "For instance, you may need to extract from a document specific numerical codes that consist of a capital letter followed by a digit. You could do this as follows:"
   ]
  },
  {
   "cell_type": "code",
   "execution_count": 32,
   "id": "5a2e01e9-a4ff-42e1-9993-593e52821c5f",
   "metadata": {
    "collapsed": false,
    "jupyter": {
     "outputs_hidden": false
    }
   },
   "outputs": [
    {
     "data": {
      "text/plain": [
       "['A3', 'G2', 'H6']"
      ]
     },
     "execution_count": 32,
     "metadata": {},
     "output_type": "execute_result"
    }
   ],
   "source": [
    "# find combinations of 1 upper case letter and 1 number\n",
    "regex = re.compile('[A-Z][0-9]')\n",
    "\n",
    "regex.findall('104A3879, G2, H6')"
   ]
  },
  {
   "cell_type": "markdown",
   "id": "9b71bce3-a4e2-42a2-8056-26a9288691ac",
   "metadata": {},
   "source": [
    "#### Wildcards match repeated characters\n",
    "\n",
    "If you would like to match a string with, say, three alphanumeric characters in a row, it is possible to write, for example, ``\"\\w\\w\\w\"``.\n",
    "Because this is such a common need, there is a specific syntax to match repetitions – curly braces with a number:"
   ]
  },
  {
   "cell_type": "code",
   "execution_count": 33,
   "id": "a9e3f36d-ae52-4d20-a8d1-910cc357bb7e",
   "metadata": {
    "collapsed": false,
    "jupyter": {
     "outputs_hidden": false
    }
   },
   "outputs": [
    {
     "data": {
      "text/plain": [
       "['The', 'qui', 'bro', 'wnn', 'nnn', 'fox']"
      ]
     },
     "execution_count": 33,
     "metadata": {},
     "output_type": "execute_result"
    }
   ],
   "source": [
    "regex = re.compile(r'\\w{3}')\n",
    "regex.findall('The quick brownnnnnnn fox')"
   ]
  },
  {
   "cell_type": "markdown",
   "id": "3e3b1ed1-5ebd-40cd-a4fa-6a8e0f5f1297",
   "metadata": {},
   "source": [
    "There are also markers available to match any number of repetitions – for example, the ``\"+\"`` character will match *one or more* repetitions of what precedes it:"
   ]
  },
  {
   "cell_type": "code",
   "execution_count": 34,
   "id": "cd5c03c5-2f7b-4318-b45a-9086c75f1c33",
   "metadata": {
    "collapsed": false,
    "jupyter": {
     "outputs_hidden": false
    }
   },
   "outputs": [
    {
     "data": {
      "text/plain": [
       "['The', 'quick', 'brown', 'fox']"
      ]
     },
     "execution_count": 34,
     "metadata": {},
     "output_type": "execute_result"
    }
   ],
   "source": [
    "regex = re.compile(r'\\w+')\n",
    "regex.findall('The quick brown fox')"
   ]
  },
  {
   "cell_type": "markdown",
   "id": "012954e5-6ced-4929-bf95-ff6febdbed8b",
   "metadata": {},
   "source": [
    "The following is a table of the repetition markers available for use in regular expressions:\n",
    "\n",
    "| Character | Description | Example |\n",
    "|-----------|-------------|---------|\n",
    "| ``?`` | Match zero or one repetitions of preceding  | ``\"ab?\"`` matches ``\"a\"`` or ``\"ab\"`` |\n",
    "| ``*`` | Match zero or more repetitions of preceding | ``\"ab*\"`` matches ``\"a\"``, ``\"ab\"``, ``\"abb\"``, ``\"abbb\"``... |\n",
    "| ``+`` | Match one or more repetitions of preceding  | ``\"ab+\"`` matches ``\"ab\"``, ``\"abb\"``, ``\"abbb\"``... but not ``\"a\"`` |\n",
    "| ``{n}`` | Match ``n`` repetitions of preeeding | ``\"ab{2}\"`` matches ``\"abb\"`` |\n",
    "| ``{m,n}`` | Match between ``m`` and ``n`` repetitions of preceding | ``\"ab{2,3}\"`` matches ``\"abb\"`` or ``\"abbb\"`` |"
   ]
  },
  {
   "cell_type": "code",
   "execution_count": 35,
   "id": "5413cd45-4b7f-42d0-95d7-6a5fd58abe02",
   "metadata": {},
   "outputs": [
    {
     "data": {
      "text/plain": [
       "['The', 'quic', 'brow', 'fox']"
      ]
     },
     "execution_count": 35,
     "metadata": {},
     "output_type": "execute_result"
    }
   ],
   "source": [
    "regex = re.compile(r'\\w{3,4}')\n",
    "regex.findall('The quick brown fox')"
   ]
  },
  {
   "cell_type": "markdown",
   "id": "d42b07ff-5283-4279-9386-16a7c5694ca7",
   "metadata": {},
   "source": [
    "With these basics in mind, let's return to our email address matcher:"
   ]
  },
  {
   "cell_type": "code",
   "execution_count": 36,
   "id": "068e7966-d3e2-4114-8dc3-6ede7d828d7d",
   "metadata": {
    "tags": []
   },
   "outputs": [
    {
     "data": {
      "text/plain": [
       "['obama@whitehouse.gov']"
      ]
     },
     "execution_count": 36,
     "metadata": {},
     "output_type": "execute_result"
    }
   ],
   "source": [
    "email = re.compile(r'\\w+@\\w+\\.[a-z]{3}')\n",
    "email.findall('barack.obama@whitehouse.gov')"
   ]
  },
  {
   "cell_type": "markdown",
   "id": "16b33f4c-aa73-4fa4-9789-940e304b2acb",
   "metadata": {},
   "source": [
    "Our email regular expresion is not suited for emails with dots. So let's change the regex a little bit"
   ]
  },
  {
   "cell_type": "code",
   "execution_count": 37,
   "id": "778313a3-e18b-4271-aae5-f2ce3493502e",
   "metadata": {
    "collapsed": false,
    "jupyter": {
     "outputs_hidden": false
    }
   },
   "outputs": [
    {
     "data": {
      "text/plain": [
       "['barack.obama@whitehouse.gov']"
      ]
     },
     "execution_count": 37,
     "metadata": {},
     "output_type": "execute_result"
    }
   ],
   "source": [
    "email2 = re.compile(r'[\\w.]+@\\w+\\.[a-z]{3}')\n",
    "email2.findall('barack.obama@whitehouse.gov')"
   ]
  },
  {
   "cell_type": "markdown",
   "id": "41b0d5ee-8a29-41e3-a9a3-7ebc4e24ee7f",
   "metadata": {},
   "source": [
    "We have changed ``\"\\w+\"`` to ``\"[\\w.]+\"``, so we will match any alphanumeric character *or* a period."
   ]
  },
  {
   "cell_type": "markdown",
   "id": "1a44ff26-cedf-4055-8f78-bc613294bbaf",
   "metadata": {},
   "source": [
    "#### Parentheses indicate *groups* to extract\n",
    "\n",
    "For compound regular expressions like our email matcher, we often want to extract their components rather than the full match. This can be done using parentheses to *group* the results:"
   ]
  },
  {
   "cell_type": "code",
   "execution_count": 38,
   "id": "3ef72b14-2907-41ae-836b-a171fd78324b",
   "metadata": {
    "tags": []
   },
   "outputs": [],
   "source": [
    "email3 = re.compile(r'([\\w.]+)@(\\w+)\\.([a-z]{3})')"
   ]
  },
  {
   "cell_type": "markdown",
   "id": "d2595e18",
   "metadata": {},
   "source": [
    "The pattern `'([\\w.]+)@(\\w+)\\.([a-z]{3})'` has three groups:\n",
    "* The first group is any alphanumeric character or a dot, repeated one or more times: `([\\w.]+)`\n",
    "* The second group is any alphanumeric character, repeated one or more times: `(\\w+)`\n",
    "* The third group is any lowercase letter, repeated three times: `([a-z]{3})`\n",
    "\n",
    "Basically, we are finding strings that look like emails, and then extracting the username, domain name and top-level domain."
   ]
  },
  {
   "cell_type": "code",
   "execution_count": 39,
   "id": "8c5a1f4e-a210-40a3-bad5-09db1857c82b",
   "metadata": {
    "collapsed": false,
    "jupyter": {
     "outputs_hidden": false
    }
   },
   "outputs": [
    {
     "data": {
      "text/plain": [
       "[('guido', 'python', 'org'), ('guido', 'google', 'com')]"
      ]
     },
     "execution_count": 39,
     "metadata": {},
     "output_type": "execute_result"
    }
   ],
   "source": [
    "text = \"To email Guido, try guido@python.org or the older address guido@google.com.\"\n",
    "email3.findall(text)"
   ]
  },
  {
   "cell_type": "markdown",
   "id": "154d56a3-b7a9-4eba-a853-431799ebb59a",
   "metadata": {},
   "source": [
    "As we see, this grouping actually extracts a list of the sub-components of the email address.\n",
    "\n",
    "We can go a bit further and *name* the extracted components using the ``\"(?P<name> )\"`` syntax, in which case the groups can be extracted as a Python dictionary:"
   ]
  },
  {
   "cell_type": "code",
   "execution_count": 40,
   "id": "51391d2a-5c51-41ba-b799-608db1c715fb",
   "metadata": {
    "collapsed": false,
    "jupyter": {
     "outputs_hidden": false
    }
   },
   "outputs": [
    {
     "data": {
      "text/plain": [
       "{'user': 'guido', 'domain': 'python', 'suffix': 'org'}"
      ]
     },
     "execution_count": 40,
     "metadata": {},
     "output_type": "execute_result"
    }
   ],
   "source": [
    "email4 = re.compile(r'(?P<user>\\w+)@(?P<domain>\\w+)\\.(?P<suffix>[a-z]{3})')\n",
    "match = email4.match('guido@python.org')\n",
    "match.groupdict()"
   ]
  },
  {
   "cell_type": "markdown",
   "id": "c41cecd0",
   "metadata": {},
   "source": [
    "### String methods using regular expressions\n",
    "\n",
    "In addition, there are several methods that accept regular expressions to examine the content of each string element, and follow some of the API conventions of Python's built-in ``re`` module:\n",
    "\n",
    "| Method | Description |\n",
    "|--------|-------------|\n",
    "| ``match()`` | Call ``re.match()`` on each element, returning a boolean. |\n",
    "| ``extract()`` | Call ``re.extract()`` on each element, returning matched groups as strings.|\n",
    "| ``findall()`` | Call ``re.findall()`` on each element |\n",
    "| ``replace()`` | Replace occurrences of pattern with some other string|\n",
    "| ``contains()`` | Call ``re.search()`` on each element, returning a boolean |\n",
    "| ``count()`` | Count occurrences of pattern|\n",
    "| ``split()``   | Equivalent to ``str.split()``, but accepts regexps |\n",
    "| ``rsplit()`` | Equivalent to ``str.rsplit()``, but accepts regexps |"
   ]
  },
  {
   "cell_type": "markdown",
   "id": "663aeda8",
   "metadata": {},
   "source": [
    "With these, you can do a wide range of interesting operations.\n",
    "For example, we can extract the first name from each by asking for a contiguous group of characters at the beginning of each element:"
   ]
  },
  {
   "cell_type": "code",
   "execution_count": 41,
   "id": "b345f6a5",
   "metadata": {},
   "outputs": [],
   "source": [
    "monty = pd.Series([\" aaaa aaa aa\"])"
   ]
  },
  {
   "cell_type": "code",
   "execution_count": 42,
   "id": "776f37b9",
   "metadata": {},
   "outputs": [
    {
     "data": {
      "text/plain": [
       "0    aaaa\n",
       "dtype: object"
      ]
     },
     "execution_count": 42,
     "metadata": {},
     "output_type": "execute_result"
    }
   ],
   "source": [
    "monty.str.extract(r'([A-Za-z]+)', expand=False)"
   ]
  },
  {
   "cell_type": "markdown",
   "id": "b2292170",
   "metadata": {},
   "source": [
    "Or we can do something more complicated, like finding all names that start and end with a consonant, making use of the start-of-string (``^``) and end-of-string (``$``) regular expression characters:"
   ]
  },
  {
   "cell_type": "code",
   "execution_count": 43,
   "id": "0bd107f2",
   "metadata": {},
   "outputs": [
    {
     "data": {
      "text/plain": [
       "0    []\n",
       "dtype: object"
      ]
     },
     "execution_count": 43,
     "metadata": {},
     "output_type": "execute_result"
    }
   ],
   "source": [
    "monty.str.findall(r'^[^AEIOU].*[^aeiou]$')"
   ]
  },
  {
   "cell_type": "markdown",
   "id": "fd79c6a9",
   "metadata": {},
   "source": [
    "The ability to concisely apply regular expressions across ``Series`` or ``Dataframe`` entries opens up many possibilities for analysis and cleaning of data."
   ]
  },
  {
   "cell_type": "markdown",
   "id": "ffcf0299-7e79-4c75-939a-f40d3b7f716f",
   "metadata": {},
   "source": [
    "### More resources on regular expressions\n",
    "This is just the beggining. The regular expression language is so much extense, but these are the most typical structures. \n",
    " - Cheatsheet - https://cheatography.com/davechild/cheat-sheets/regular-expressions/\n",
    " - Online regex validator - https://regex101.com/"
   ]
  }
 ],
 "metadata": {
  "kernelspec": {
   "display_name": "pda1",
   "language": "python",
   "name": "python3"
  },
  "language_info": {
   "codemirror_mode": {
    "name": "ipython",
    "version": 3
   },
   "file_extension": ".py",
   "mimetype": "text/x-python",
   "name": "python",
   "nbconvert_exporter": "python",
   "pygments_lexer": "ipython3",
   "version": "3.10.13"
  }
 },
 "nbformat": 4,
 "nbformat_minor": 5
}
