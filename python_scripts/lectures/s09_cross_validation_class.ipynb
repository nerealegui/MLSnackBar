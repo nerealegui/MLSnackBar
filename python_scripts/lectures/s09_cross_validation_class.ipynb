{
 "cells": [
  {
   "cell_type": "markdown",
   "id": "1e1d512b",
   "metadata": {},
   "source": [
    "# **S09: ROBUSTNESS - CROSS VALIDATION**"
   ]
  },
  {
   "cell_type": "code",
   "execution_count": 1,
   "id": "e7fd86f7-34d1-4330-85ff-151e25ccbeb1",
   "metadata": {},
   "outputs": [],
   "source": [
    "import numpy as np\n",
    "import pandas as pd\n",
    "import matplotlib.pyplot as plt\n",
    "import plotly.express as px\n",
    "import plotly.graph_objects as go\n",
    "import plotly.io as pio\n",
    "pio.templates.default = \"none\""
   ]
  },
  {
   "cell_type": "markdown",
   "id": "019c0391",
   "metadata": {},
   "source": [
    "# The train-test split is not flawless\n",
    "\n",
    "- When we tackle a machine learning problem, one of the most important operations we do is splitting the data into a **training set** and a **test set**.\n",
    "    - Train Set - Used to train the model\n",
    "    - Test Set - Used to evaluate the model\n",
    "- We use this split to **avoid overfitting**, that is, to avoid that the model learns too much from the training data, and therefore, it doesn't generalize well on unseen data.\n",
    "\n",
    "**However, the train-test split is too simple and it's not enough**\n",
    "\n",
    "<center><img src=\"https://d33wubrfki0l68.cloudfront.net/c39b2d19183ed14141a8b7b03943442d40efee0d/81e2a/wp-content/uploads/2019/03/train_test_split.png\" width=\"700\"/></center>"
   ]
  },
  {
   "cell_type": "markdown",
   "id": "1fd2b20f",
   "metadata": {},
   "source": [
    "### When *hyperparameters* come into play"
   ]
  },
  {
   "cell_type": "markdown",
   "id": "3ef197bd",
   "metadata": {},
   "source": [
    "- When we **adjust the hyperparameters of the model**, let's say the regularization strength or the depth in a Decision Tree model, we inevitably tend to use the **test set** to *tweak the hyperparamenters* in order to obtain the best results as possible in the test set.\n",
    "> Be careful!: Doing this automatically turns the test set in **seen data**, not **unseen data**. At the emd, we're using the test set to train (\"improve\") the model.\n",
    "\n",
    "- To solve this problem, we can use another set to validate the hyperparameters called **validation set**. This set can be used to validate the hyperparamenters, and then, we use the test set to evaluate the model with **real unseen data**.\n",
    "\n",
    "<center><img src=\"https://cdn.shortpixel.ai/spai/q_lossy+w_730+to_webp+ret_img/https://algotrading101.com/learn/wp-content/uploads/2020/06/training-validation-test-data-set.png\" width=\"700\"/></center>\n"
   ]
  },
  {
   "cell_type": "markdown",
   "id": "0a8960b8",
   "metadata": {},
   "source": [
    "### Right, but now I have less data for training :(\n",
    "\n",
    "- Having a validation set reduces the amount of data we have to train the model. This can compromise the model's performance, especially if we have a small dataset.\n",
    "\n",
    "- Also, having just a validation set still have one unresolved problem: Is my model robust if trained on different sets of data?\n",
    "\n",
    "To solve all this problems, we can use **cross-validation**."
   ]
  },
  {
   "cell_type": "markdown",
   "id": "fbe0f8e1-acdb-4a02-9f6f-7d37705657ef",
   "metadata": {},
   "source": [
    "# **Cross-Validation**: Building robust models\n",
    "\n",
    " - The **cross validation** is a technique commonly used in machine learning to measure the robustness of a model, and in essence, to measure the bias and variance. Have a look to this article: https://codesachin.wordpress.com/2015/08/30/cross-validation-and-the-bias-variance-tradeoff-for-dummies/\n",
    "\n",
    " - Also, the CV strategy is used for **hyperparameter tuning** in order to find the best set of hyperparameters for the model.\n",
    "\n",
    " - It consists on creating a new set of data called the **validation set** in order to test the model robustness in several training settings with different data.\n",
    "\n",
    " - The most relevant cross validation strategies are **K-Fold CV** and **Leave-One-Out CV**.\n",
    "\n",
    " - **Cross-validation** has become a standard in the ML process, and **is part of the general set up in a machine learning model design**. So, it's important to know how to use it.\n",
    "\n",
    "<center><img src=\"https://elitedatascience.com/wp-content/uploads/2017/06/Train-Test-Split-Diagram.jpg\" width=\"700\"/></center>"
   ]
  },
  {
   "cell_type": "markdown",
   "id": "e0d2867c",
   "metadata": {},
   "source": [
    "### **K-Fold CV**\n",
    "\n",
    "Consists on dividing the training data in $K$ folds, and create $K$ models rotating the set of data we use for training. The typical setting is: use $k-1$ folds for training and the last one for validation. Then repeat rotating the validation set.\n",
    "\n",
    "<center><img src=\"https://miro.medium.com/max/720/1*qPMFLEbvc8QQf38Cf77wQg.png\" width=\"700\"/></center>"
   ]
  },
  {
   "cell_type": "markdown",
   "id": "544b1e4f",
   "metadata": {},
   "source": [
    "### **Leave-One-Out CV**\n",
    "\n",
    "It's the extrema version of K-Fold. Consists on using $N-1$ samples for training and the last one for validation. Then repeat rotating the validation set. That is, the number of folds is equal to the number of samples in the dataset."
   ]
  },
  {
   "cell_type": "markdown",
   "id": "914df066-aed6-41de-bb01-fe3b627556df",
   "metadata": {},
   "source": [
    "## Cross-Validation in `scikit-learn`"
   ]
  },
  {
   "cell_type": "markdown",
   "id": "164d2d90",
   "metadata": {},
   "source": [
    "### The `cross_val_score` function\n",
    "\n",
    "Given a trained model, the `cross_val_score` function allows us to evaluate the model using cross-validation. It takes as input the model, the data, the target, and the number of folds. It returns the score of the model in each fold.\n",
    "\n",
    "```python\n",
    "from sklearn.model_selection import cross_val_score\n",
    "\n",
    "scores = cross_val_score(model, X, y, cv=5)\n",
    "```"
   ]
  },
  {
   "cell_type": "code",
   "execution_count": 24,
   "id": "f5e4e564-7e48-4fa5-b3f2-80e9dfbc4cf8",
   "metadata": {},
   "outputs": [],
   "source": [
    "import pandas as pd\n",
    "\n",
    "from sklearn.model_selection import train_test_split, cross_val_score\n",
    "from sklearn.datasets import load_breast_cancer\n",
    "from sklearn.svm import SVC"
   ]
  },
  {
   "cell_type": "code",
   "execution_count": 44,
   "id": "f04b55be-e337-406f-ae87-6748c74c411b",
   "metadata": {},
   "outputs": [],
   "source": [
    "X, y = load_breast_cancer(return_X_y=True)\n",
    "X_train, X_test, y_train, y_test = train_test_split(X, y, test_size=0.25, random_state=0)"
   ]
  },
  {
   "cell_type": "markdown",
   "id": "8f7960ad",
   "metadata": {},
   "source": [
    "Let's evaluate a SVM model using cross-validation."
   ]
  },
  {
   "cell_type": "code",
   "execution_count": 45,
   "id": "66def0d5-b5c2-4019-a177-8efd361ce8a7",
   "metadata": {},
   "outputs": [
    {
     "data": {
      "text/plain": [
       "array([1, 1, 0, 1, 0, 1, 1, 1, 1, 1, 1, 1, 0, 1, 0, 1, 0, 0, 1, 1, 0, 1,\n",
       "       0, 0, 0, 1, 1, 1, 1, 1, 1, 0, 1, 1, 1, 1, 0, 0, 1, 1, 0, 1, 1, 1,\n",
       "       1, 0, 1, 1, 0, 0, 1, 1, 0, 0, 1, 1, 0, 1, 1, 0, 0, 0, 1, 1, 1, 0,\n",
       "       1, 1, 1, 1, 1, 0, 1, 0, 1, 0, 1, 0, 1, 0, 1, 1, 1, 1, 0, 1, 0, 1,\n",
       "       1, 1, 0, 1, 1, 1, 0, 1, 1, 0, 0, 1, 0, 1, 0, 1, 0, 0, 0, 0, 1, 0,\n",
       "       1, 0, 1, 0, 1, 0, 1, 1, 0, 1, 1, 1, 1, 1, 1, 1, 1, 1, 1, 1, 1, 1,\n",
       "       0, 1, 1, 1, 0, 1, 1, 1, 1, 1, 1, 0, 1, 0, 1, 1, 0, 1, 0, 0, 1, 0,\n",
       "       0, 1, 1, 0, 1, 1, 1, 0, 1, 1, 1, 1, 1, 0, 0, 1, 1, 1, 1, 0, 0, 1,\n",
       "       1, 1, 1, 0, 1, 1, 0, 1, 1, 0, 1, 0, 1, 1, 1, 1, 0, 0, 0, 0, 1, 0,\n",
       "       1, 0, 0, 1, 1, 1, 1, 1, 0, 1, 1, 0, 1, 1, 0, 0, 1, 1, 1, 0, 0, 1,\n",
       "       1, 0, 1, 1, 1, 0, 1, 0, 1, 0, 0, 0, 0, 1, 1, 1, 1, 0, 0, 1, 1, 1,\n",
       "       1, 1, 0, 1, 1, 0, 1, 1, 0, 0, 0, 0, 1, 1, 0, 1, 1, 1, 0, 0, 1, 1,\n",
       "       1, 1, 1, 0, 0, 0, 1, 0, 0, 1, 1, 1, 1, 1, 1, 0, 1, 1, 1, 1, 1, 1,\n",
       "       0, 0, 1, 0, 1, 0, 0, 1, 1, 1, 1, 1, 0, 0, 0, 1, 1, 0, 0, 1, 1, 0,\n",
       "       1, 0, 0, 1, 0, 1, 1, 1, 1, 1, 1, 1, 0, 0, 1, 1, 1, 0, 1, 1, 1, 1,\n",
       "       0, 1, 0, 0, 0, 1, 0, 1, 0, 1, 0, 0, 1, 1, 1, 1, 1, 1, 1, 1, 0, 0,\n",
       "       0, 0, 0, 1, 1, 1, 1, 1, 1, 1, 0, 1, 0, 1, 1, 1, 1, 1, 0, 0, 0, 1,\n",
       "       0, 1, 1, 0, 0, 0, 0, 1, 0, 0, 0, 1, 0, 1, 0, 1, 1, 0, 0, 1, 0, 1,\n",
       "       1, 1, 1, 0, 1, 1, 0, 1, 1, 1, 0, 0, 1, 1, 1, 0, 1, 1, 0, 1, 1, 1,\n",
       "       1, 1, 0, 0, 0, 1, 1, 1])"
      ]
     },
     "execution_count": 45,
     "metadata": {},
     "output_type": "execute_result"
    }
   ],
   "source": [
    "y_train"
   ]
  },
  {
   "cell_type": "code",
   "execution_count": 46,
   "id": "7657ba49-d976-4aa0-9efc-86e8b3ada8ac",
   "metadata": {},
   "outputs": [
    {
     "data": {
      "text/plain": [
       "(426, 30)"
      ]
     },
     "execution_count": 46,
     "metadata": {},
     "output_type": "execute_result"
    }
   ],
   "source": [
    "X_train.shape"
   ]
  },
  {
   "cell_type": "code",
   "execution_count": 28,
   "id": "9dd61593-5a03-4b6b-9ac0-88aa1e33c1bb",
   "metadata": {},
   "outputs": [
    {
     "data": {
      "text/plain": [
       "(426, 30)"
      ]
     },
     "execution_count": 28,
     "metadata": {},
     "output_type": "execute_result"
    }
   ],
   "source": [
    "X_train.shape"
   ]
  },
  {
   "cell_type": "code",
   "execution_count": 29,
   "id": "2ba2b44e-cf4d-446e-900e-cf5022747afb",
   "metadata": {},
   "outputs": [
    {
     "data": {
      "text/plain": [
       "(143, 30)"
      ]
     },
     "execution_count": 29,
     "metadata": {},
     "output_type": "execute_result"
    }
   ],
   "source": [
    "X_test.shape"
   ]
  },
  {
   "cell_type": "code",
   "execution_count": 30,
   "id": "e0bd1096-4475-4a45-bca7-435c28399841",
   "metadata": {},
   "outputs": [],
   "source": [
    "# Train and evaluate on test set\n",
    "clf = SVC(kernel='linear', C=1)"
   ]
  },
  {
   "cell_type": "markdown",
   "id": "769ce572",
   "metadata": {},
   "source": [
    "actual values are disease, not disease\n",
    "prediction disease, not disease\n",
    "\n",
    "confusion matrix:\n",
    "\n",
    "|  | predicted positive | predicted negative |\n",
    "|---|---|---|\n",
    "| real positive | tp | fn |\n",
    "| real not negative | fp | tn |\n",
    "\n",
    "precision = tp / (tp + fp)\n",
    "\n",
    "recall = tp / (tp + fn)\n",
    "\n",
    "accuracy = (tp + tn) / (tp + tn + fp + fn)"
   ]
  },
  {
   "cell_type": "markdown",
   "id": "abaa1f8e",
   "metadata": {},
   "source": [
    "|  | predicted positive | predicted negative |\n",
    "|---|---|---|\n",
    "| real positive | 90 | 2 |\n",
    "| real not negative | 3 | 5 |\n",
    "\n",
    "accuracy = (90 + 5) / (90 + 5 + 2 + 3) = 95 / 100 = 0.95\n",
    "\n"
   ]
  },
  {
   "cell_type": "markdown",
   "id": "0f88dd9c",
   "metadata": {},
   "source": [
    "|  | predicted positive | predicted negative |\n",
    "|---|---|---|\n",
    "| real positive | 94 | 2 |\n",
    "| real not negative | 3 | 1 |\n",
    "\n",
    "accuracy = (90 + 5) / (90 + 5 + 2 + 3) = 95 / 100 = 0.95"
   ]
  },
  {
   "cell_type": "code",
   "execution_count": 50,
   "id": "c48ad5c4",
   "metadata": {},
   "outputs": [
    {
     "name": "stdout",
     "output_type": "stream",
     "text": [
      "0.9522385022385024\n",
      "0.028755205234580215\n"
     ]
    }
   ],
   "source": [
    "# Train and evalute ion training set\n",
    "results = cross_val_score(clf, X_train, y_train, cv=10, scoring=\"precision\")\n",
    "\n",
    "print(np.mean(results))\n",
    "print(np.std(results))"
   ]
  },
  {
   "cell_type": "code",
   "execution_count": 55,
   "id": "bd9f2d9f",
   "metadata": {},
   "outputs": [
    {
     "data": {
      "application/vnd.plotly.v1+json": {
       "config": {
        "plotlyServerURL": "https://plot.ly"
       },
       "data": [
        {
         "alignmentgroup": "True",
         "bingroup": "x",
         "hovertemplate": "variable=0<br>value=%{x}<br>count=%{y}<extra></extra>",
         "legendgroup": "0",
         "marker": {
          "color": "#1F77B4",
          "pattern": {
           "shape": ""
          }
         },
         "name": "0",
         "offsetgroup": "0",
         "orientation": "v",
         "showlegend": true,
         "type": "histogram",
         "x": [
          1,
          0.9642857142857143,
          0.9615384615384616,
          0.9642857142857143,
          0.8888888888888888,
          0.9629629629629629,
          0.9629629629629629,
          0.9259259259259259,
          0.9629629629629629,
          0.9285714285714286
         ],
         "xaxis": "x",
         "yaxis": "y"
        }
       ],
       "layout": {
        "barmode": "relative",
        "legend": {
         "title": {
          "text": "variable"
         },
         "tracegroupgap": 0
        },
        "margin": {
         "t": 60
        },
        "template": {
         "data": {
          "scatter": [
           {
            "type": "scatter"
           }
          ]
         }
        },
        "xaxis": {
         "anchor": "y",
         "domain": [
          0,
          1
         ],
         "title": {
          "text": "value"
         }
        },
        "yaxis": {
         "anchor": "x",
         "domain": [
          0,
          1
         ],
         "title": {
          "text": "count"
         }
        }
       }
      }
     },
     "metadata": {},
     "output_type": "display_data"
    }
   ],
   "source": [
    "import plotly.express as px\n",
    "\n",
    "px.histogram(results)"
   ]
  },
  {
   "cell_type": "markdown",
   "id": "ae38fa75-23f3-4553-8fdf-82324e4278e7",
   "metadata": {},
   "source": [
    "By default, the `cross_val_score` is training the model on the different folds and then calculating the `precision` with the holdout set."
   ]
  },
  {
   "cell_type": "markdown",
   "id": "e8d52bef",
   "metadata": {},
   "source": [
    "Now, let's evaluate the model using the `recall` metric, and changing the number of folds to 5."
   ]
  },
  {
   "cell_type": "code",
   "execution_count": 56,
   "id": "8be20ee1",
   "metadata": {},
   "outputs": [
    {
     "data": {
      "text/plain": [
       "array([1.        , 0.96296296, 0.9245283 , 0.98113208, 1.        ])"
      ]
     },
     "execution_count": 56,
     "metadata": {},
     "output_type": "execute_result"
    }
   ],
   "source": [
    "# recall = tp / (tp + fn)\n",
    "\n",
    "# Train and evalute ion training set\n",
    "cross_val_score(clf, X_train, y_train, cv=5, scoring=\"recall\")"
   ]
  },
  {
   "cell_type": "markdown",
   "id": "b601f715",
   "metadata": {},
   "source": [
    "Now, let's use the LOO strategy."
   ]
  },
  {
   "cell_type": "code",
   "execution_count": 57,
   "id": "62d6cc59",
   "metadata": {},
   "outputs": [],
   "source": [
    "from sklearn.model_selection import LeaveOneOut, KFold"
   ]
  },
  {
   "cell_type": "code",
   "execution_count": 58,
   "id": "d5135cee",
   "metadata": {},
   "outputs": [
    {
     "data": {
      "text/plain": [
       "(426, 30)"
      ]
     },
     "execution_count": 58,
     "metadata": {},
     "output_type": "execute_result"
    }
   ],
   "source": [
    "X_train.shape"
   ]
  },
  {
   "cell_type": "code",
   "execution_count": 59,
   "id": "b47d7958",
   "metadata": {},
   "outputs": [],
   "source": [
    "# LOO taks too much time because it's to fit 341 models. Let's reduce the dataset to 20 sample to illustrate this example\n",
    "X_train_red = X_train[:20] # first 20 rows\n",
    "y_train_red = y_train[:20]"
   ]
  },
  {
   "cell_type": "code",
   "execution_count": 60,
   "id": "0baa3886",
   "metadata": {},
   "outputs": [
    {
     "data": {
      "text/plain": [
       "array([1., 1., 1., 1., 1., 1., 1., 1., 1., 1., 1., 1., 1., 1., 0., 1., 1.,\n",
       "       1., 1., 1.])"
      ]
     },
     "execution_count": 60,
     "metadata": {},
     "output_type": "execute_result"
    }
   ],
   "source": [
    "perf = cross_val_score(clf, X_train_red, y_train_red, cv=LeaveOneOut(), scoring=\"accuracy\")\n",
    "\n",
    "perf"
   ]
  },
  {
   "cell_type": "markdown",
   "id": "233e6bed",
   "metadata": {},
   "source": [
    "### Let's rock with the `cross_validate` function.\n",
    "\n",
    "The ``cross_validate`` function is similar to the ``cross_val_score`` function, but it allows us to use different metrics and to return the training time and training scores.\n",
    "\n",
    "```python\n",
    "from sklearn.model_selection import cross_validate\n",
    "\n",
    "scores = cross_validate(model, X, y, cv=5, scoring=['precision', 'recall'], return_train_score=True)\n",
    "```"
   ]
  },
  {
   "cell_type": "code",
   "execution_count": 61,
   "id": "0d0f1002",
   "metadata": {},
   "outputs": [],
   "source": [
    "from sklearn.model_selection import cross_validate"
   ]
  },
  {
   "cell_type": "code",
   "execution_count": 62,
   "id": "b70dfe14",
   "metadata": {},
   "outputs": [
    {
     "data": {
      "text/plain": [
       "{'fit_time': array([0.63604712, 0.17565298, 0.15486693, 0.25058579, 0.26907396]),\n",
       " 'score_time': array([0.00189495, 0.00157499, 0.00132799, 0.00137329, 0.0013659 ]),\n",
       " 'test_precision': array([0.98181818, 0.94545455, 0.90740741, 0.98113208, 0.94642857]),\n",
       " 'train_precision': array([0.96330275, 0.96744186, 0.97695853, 0.96759259, 0.98122066]),\n",
       " 'test_recall': array([1.        , 0.96296296, 0.9245283 , 0.98113208, 1.        ]),\n",
       " 'train_recall': array([0.98591549, 0.97652582, 0.99065421, 0.97663551, 0.97663551])}"
      ]
     },
     "execution_count": 62,
     "metadata": {},
     "output_type": "execute_result"
    }
   ],
   "source": [
    "results = cross_validate(\n",
    "    clf,\n",
    "    X_train, y_train,\n",
    "    cv=5,\n",
    "    scoring=['precision', 'recall'],\n",
    "    return_train_score=True\n",
    ")\n",
    "\n",
    "results"
   ]
  },
  {
   "cell_type": "markdown",
   "id": "3996e4c6",
   "metadata": {},
   "source": [
    "We can transform the dictionary into a dataframe and calculate the mean and standard deviation of the scores to evaluate the general performance of the model. The optimum result is:\n",
    "- *Train and test scores are **very similar***\n",
    "- *The average of the scores is **high***\n",
    "- *The standard deviation of the scores is **low***"
   ]
  },
  {
   "cell_type": "code",
   "execution_count": 67,
   "id": "23d90294",
   "metadata": {},
   "outputs": [
    {
     "name": "stdout",
     "output_type": "stream",
     "text": [
      "[[52  5]\n",
      " [ 1 85]]\n",
      "0.958041958041958\n",
      "0.9444444444444444\n",
      "0.9883720930232558\n"
     ]
    }
   ],
   "source": [
    "from sklearn.metrics import confusion_matrix, recall_score, precision_score, accuracy_score\n",
    "\n",
    "clf.fit(X_train, y_train)\n",
    "\n",
    "y_pred = clf.predict(X_test)\n",
    "\n",
    "print(\n",
    "    _matrix(y_pred, y_test))\n",
    "print(accuracy_score(y_pred, y_test))\n",
    "print(precision_score(y_pred, y_test))\n",
    "print(recall_score(y_pred, y_test))"
   ]
  },
  {
   "cell_type": "code",
   "execution_count": 63,
   "id": "48f28e62",
   "metadata": {},
   "outputs": [
    {
     "data": {
      "text/html": [
       "<div>\n",
       "<style scoped>\n",
       "    .dataframe tbody tr th:only-of-type {\n",
       "        vertical-align: middle;\n",
       "    }\n",
       "\n",
       "    .dataframe tbody tr th {\n",
       "        vertical-align: top;\n",
       "    }\n",
       "\n",
       "    .dataframe thead th {\n",
       "        text-align: right;\n",
       "    }\n",
       "</style>\n",
       "<table border=\"1\" class=\"dataframe\">\n",
       "  <thead>\n",
       "    <tr style=\"text-align: right;\">\n",
       "      <th></th>\n",
       "      <th>fit_time</th>\n",
       "      <th>score_time</th>\n",
       "      <th>test_precision</th>\n",
       "      <th>train_precision</th>\n",
       "      <th>test_recall</th>\n",
       "      <th>train_recall</th>\n",
       "    </tr>\n",
       "  </thead>\n",
       "  <tbody>\n",
       "    <tr>\n",
       "      <th>0</th>\n",
       "      <td>0.636047</td>\n",
       "      <td>0.001895</td>\n",
       "      <td>0.981818</td>\n",
       "      <td>0.963303</td>\n",
       "      <td>1.000000</td>\n",
       "      <td>0.985915</td>\n",
       "    </tr>\n",
       "    <tr>\n",
       "      <th>1</th>\n",
       "      <td>0.175653</td>\n",
       "      <td>0.001575</td>\n",
       "      <td>0.945455</td>\n",
       "      <td>0.967442</td>\n",
       "      <td>0.962963</td>\n",
       "      <td>0.976526</td>\n",
       "    </tr>\n",
       "    <tr>\n",
       "      <th>2</th>\n",
       "      <td>0.154867</td>\n",
       "      <td>0.001328</td>\n",
       "      <td>0.907407</td>\n",
       "      <td>0.976959</td>\n",
       "      <td>0.924528</td>\n",
       "      <td>0.990654</td>\n",
       "    </tr>\n",
       "    <tr>\n",
       "      <th>3</th>\n",
       "      <td>0.250586</td>\n",
       "      <td>0.001373</td>\n",
       "      <td>0.981132</td>\n",
       "      <td>0.967593</td>\n",
       "      <td>0.981132</td>\n",
       "      <td>0.976636</td>\n",
       "    </tr>\n",
       "    <tr>\n",
       "      <th>4</th>\n",
       "      <td>0.269074</td>\n",
       "      <td>0.001366</td>\n",
       "      <td>0.946429</td>\n",
       "      <td>0.981221</td>\n",
       "      <td>1.000000</td>\n",
       "      <td>0.976636</td>\n",
       "    </tr>\n",
       "  </tbody>\n",
       "</table>\n",
       "</div>"
      ],
      "text/plain": [
       "   fit_time  score_time  test_precision  train_precision  test_recall  \\\n",
       "0  0.636047    0.001895        0.981818         0.963303     1.000000   \n",
       "1  0.175653    0.001575        0.945455         0.967442     0.962963   \n",
       "2  0.154867    0.001328        0.907407         0.976959     0.924528   \n",
       "3  0.250586    0.001373        0.981132         0.967593     0.981132   \n",
       "4  0.269074    0.001366        0.946429         0.981221     1.000000   \n",
       "\n",
       "   train_recall  \n",
       "0      0.985915  \n",
       "1      0.976526  \n",
       "2      0.990654  \n",
       "3      0.976636  \n",
       "4      0.976636  "
      ]
     },
     "execution_count": 63,
     "metadata": {},
     "output_type": "execute_result"
    }
   ],
   "source": [
    "results = pd.DataFrame(results)\n",
    "results"
   ]
  },
  {
   "cell_type": "code",
   "execution_count": 42,
   "id": "9f3018be",
   "metadata": {},
   "outputs": [
    {
     "data": {
      "text/plain": [
       "fit_time           0.263650\n",
       "score_time         0.001391\n",
       "test_precision     0.952448\n",
       "train_precision    0.971303\n",
       "test_recall        0.973725\n",
       "train_recall       0.981273\n",
       "dtype: float64"
      ]
     },
     "execution_count": 42,
     "metadata": {},
     "output_type": "execute_result"
    }
   ],
   "source": [
    "results.mean()"
   ]
  },
  {
   "cell_type": "code",
   "execution_count": 43,
   "id": "f3fc6ef2",
   "metadata": {},
   "outputs": [
    {
     "data": {
      "text/plain": [
       "fit_time           0.166213\n",
       "score_time         0.000176\n",
       "test_precision     0.030819\n",
       "train_precision    0.007467\n",
       "test_recall        0.031511\n",
       "train_recall       0.006616\n",
       "dtype: float64"
      ]
     },
     "execution_count": 43,
     "metadata": {},
     "output_type": "execute_result"
    }
   ],
   "source": [
    "results.std()"
   ]
  },
  {
   "cell_type": "markdown",
   "id": "ab09db1c",
   "metadata": {},
   "source": []
  },
  {
   "cell_type": "code",
   "execution_count": 69,
   "id": "8c0168a0",
   "metadata": {},
   "outputs": [
    {
     "data": {
      "text/plain": [
       "0.6274165202108963"
      ]
     },
     "execution_count": 69,
     "metadata": {},
     "output_type": "execute_result"
    }
   ],
   "source": [
    "y.mean()"
   ]
  },
  {
   "cell_type": "markdown",
   "id": "07206ecf",
   "metadata": {},
   "source": [
    "## Other cross-validation strategies\n",
    "\n",
    "### **Stratified K-Fold**\n",
    "\n",
    "The K-Fold CV is not always the best option. For example, if we have a dataset with a high class imbalance, the K-Fold CV can lead to a model that is not able to generalize well on the minority class. To solve this problem, we can use the **Stratified K-Fold CV**. This strategy ensures that the proportion of each class is the same in each fold.\n",
    "\n",
    "```python\n",
    "from sklearn.model_selection import StratifiedKFold\n",
    "\n",
    "skf = StratifiedKFold(n_splits=5)\n",
    "```\n",
    "\n",
    "### **Group K-Fold**\n",
    "\n",
    "The Group K-Fold CV is used when we have a dataset with groups. For example, if we have a dataset with several patients, and we want to predict the disease progression of each patient, we can use the Group K-Fold CV to ensure that the model is trained with data from the same patient in the training set and in the validation set.\n",
    "\n",
    "```python\n",
    "from sklearn.model_selection import GroupKFold\n",
    "\n",
    "gkf = GroupKFold(n_splits=5)\n",
    "```\n",
    "\n",
    "### **Time Series Split**\n",
    "\n",
    "The Time Series Split CV is used when we have a time series dataset. For example, if we have a dataset with the stock price of a company, we can use the Time Series Split CV to ensure that the model is trained with data from the past and validated with data from the future.\n",
    "\n",
    "```python\n",
    "from sklearn.model_selection import TimeSeriesSplit\n",
    "\n",
    "tscv = TimeSeriesSplit(n_splits=5)\n",
    "```"
   ]
  },
  {
   "cell_type": "markdown",
   "id": "4337fc42",
   "metadata": {},
   "source": [
    "100 rows\n",
    "97 % positive\n",
    "3 % negative"
   ]
  },
  {
   "cell_type": "markdown",
   "id": "82e68c91",
   "metadata": {},
   "source": [
    "## What's next?\n",
    "\n",
    "Once we have evaluated the model using cross-validation, we need to **train** the final model with the **entire training set** and **evaluate** it with the **test set**. This is the final step of the ML process.\n",
    "\n",
    "Let's do it!"
   ]
  },
  {
   "cell_type": "markdown",
   "id": "48edfc95",
   "metadata": {},
   "source": [
    "## Live practice\n",
    "\n",
    "Given the `diabetes` dataset, we will evaluate a SVM model using cross-validation and then train the final model with the entire training set and evaluate it with the test set.\n",
    "\n",
    "We can load the dataset using the `load_diabetes` function from the `sklearn.datasets` module.\n",
    "* [load_diabetes](https://scikit-learn.org/stable/datasets/toy_dataset.html#diabetes-dataset)\n",
    "\n",
    "```python\n",
    "from sklearn.datasets import load_diabetes\n",
    "\n",
    "data = load_diabetes()\n",
    "x, y = data.data, data.target\n",
    "\n",
    "# using the feature names\n",
    "x = pd.DataFrame(X, columns=data.feature_names)\n",
    "```"
   ]
  },
  {
   "cell_type": "code",
   "execution_count": 70,
   "id": "855466e6",
   "metadata": {},
   "outputs": [],
   "source": [
    "from sklearn.datasets import load_diabetes\n",
    "\n",
    "data = load_diabetes()\n",
    "\n",
    "x, y = data.data, data.target\n",
    "\n",
    "x = pd.DataFrame(x, columns=data.feature_names)"
   ]
  },
  {
   "cell_type": "code",
   "execution_count": 71,
   "id": "e50e341f",
   "metadata": {},
   "outputs": [
    {
     "data": {
      "text/html": [
       "<div>\n",
       "<style scoped>\n",
       "    .dataframe tbody tr th:only-of-type {\n",
       "        vertical-align: middle;\n",
       "    }\n",
       "\n",
       "    .dataframe tbody tr th {\n",
       "        vertical-align: top;\n",
       "    }\n",
       "\n",
       "    .dataframe thead th {\n",
       "        text-align: right;\n",
       "    }\n",
       "</style>\n",
       "<table border=\"1\" class=\"dataframe\">\n",
       "  <thead>\n",
       "    <tr style=\"text-align: right;\">\n",
       "      <th></th>\n",
       "      <th>age</th>\n",
       "      <th>sex</th>\n",
       "      <th>bmi</th>\n",
       "      <th>bp</th>\n",
       "      <th>s1</th>\n",
       "      <th>s2</th>\n",
       "      <th>s3</th>\n",
       "      <th>s4</th>\n",
       "      <th>s5</th>\n",
       "      <th>s6</th>\n",
       "    </tr>\n",
       "  </thead>\n",
       "  <tbody>\n",
       "    <tr>\n",
       "      <th>0</th>\n",
       "      <td>0.038076</td>\n",
       "      <td>0.050680</td>\n",
       "      <td>0.061696</td>\n",
       "      <td>0.021872</td>\n",
       "      <td>-0.044223</td>\n",
       "      <td>-0.034821</td>\n",
       "      <td>-0.043401</td>\n",
       "      <td>-0.002592</td>\n",
       "      <td>0.019907</td>\n",
       "      <td>-0.017646</td>\n",
       "    </tr>\n",
       "    <tr>\n",
       "      <th>1</th>\n",
       "      <td>-0.001882</td>\n",
       "      <td>-0.044642</td>\n",
       "      <td>-0.051474</td>\n",
       "      <td>-0.026328</td>\n",
       "      <td>-0.008449</td>\n",
       "      <td>-0.019163</td>\n",
       "      <td>0.074412</td>\n",
       "      <td>-0.039493</td>\n",
       "      <td>-0.068332</td>\n",
       "      <td>-0.092204</td>\n",
       "    </tr>\n",
       "    <tr>\n",
       "      <th>2</th>\n",
       "      <td>0.085299</td>\n",
       "      <td>0.050680</td>\n",
       "      <td>0.044451</td>\n",
       "      <td>-0.005670</td>\n",
       "      <td>-0.045599</td>\n",
       "      <td>-0.034194</td>\n",
       "      <td>-0.032356</td>\n",
       "      <td>-0.002592</td>\n",
       "      <td>0.002861</td>\n",
       "      <td>-0.025930</td>\n",
       "    </tr>\n",
       "    <tr>\n",
       "      <th>3</th>\n",
       "      <td>-0.089063</td>\n",
       "      <td>-0.044642</td>\n",
       "      <td>-0.011595</td>\n",
       "      <td>-0.036656</td>\n",
       "      <td>0.012191</td>\n",
       "      <td>0.024991</td>\n",
       "      <td>-0.036038</td>\n",
       "      <td>0.034309</td>\n",
       "      <td>0.022688</td>\n",
       "      <td>-0.009362</td>\n",
       "    </tr>\n",
       "    <tr>\n",
       "      <th>4</th>\n",
       "      <td>0.005383</td>\n",
       "      <td>-0.044642</td>\n",
       "      <td>-0.036385</td>\n",
       "      <td>0.021872</td>\n",
       "      <td>0.003935</td>\n",
       "      <td>0.015596</td>\n",
       "      <td>0.008142</td>\n",
       "      <td>-0.002592</td>\n",
       "      <td>-0.031988</td>\n",
       "      <td>-0.046641</td>\n",
       "    </tr>\n",
       "  </tbody>\n",
       "</table>\n",
       "</div>"
      ],
      "text/plain": [
       "        age       sex       bmi        bp        s1        s2        s3  \\\n",
       "0  0.038076  0.050680  0.061696  0.021872 -0.044223 -0.034821 -0.043401   \n",
       "1 -0.001882 -0.044642 -0.051474 -0.026328 -0.008449 -0.019163  0.074412   \n",
       "2  0.085299  0.050680  0.044451 -0.005670 -0.045599 -0.034194 -0.032356   \n",
       "3 -0.089063 -0.044642 -0.011595 -0.036656  0.012191  0.024991 -0.036038   \n",
       "4  0.005383 -0.044642 -0.036385  0.021872  0.003935  0.015596  0.008142   \n",
       "\n",
       "         s4        s5        s6  \n",
       "0 -0.002592  0.019907 -0.017646  \n",
       "1 -0.039493 -0.068332 -0.092204  \n",
       "2 -0.002592  0.002861 -0.025930  \n",
       "3  0.034309  0.022688 -0.009362  \n",
       "4 -0.002592 -0.031988 -0.046641  "
      ]
     },
     "execution_count": 71,
     "metadata": {},
     "output_type": "execute_result"
    }
   ],
   "source": [
    "x.head()"
   ]
  },
  {
   "cell_type": "code",
   "execution_count": 72,
   "id": "9704ce6e",
   "metadata": {},
   "outputs": [
    {
     "data": {
      "application/vnd.plotly.v1+json": {
       "config": {
        "plotlyServerURL": "https://plot.ly"
       },
       "data": [
        {
         "alignmentgroup": "True",
         "bingroup": "x",
         "hovertemplate": "variable=0<br>value=%{x}<br>count=%{y}<extra></extra>",
         "legendgroup": "0",
         "marker": {
          "color": "#1F77B4",
          "pattern": {
           "shape": ""
          }
         },
         "name": "0",
         "offsetgroup": "0",
         "orientation": "v",
         "showlegend": true,
         "type": "histogram",
         "x": [
          151,
          75,
          141,
          206,
          135,
          97,
          138,
          63,
          110,
          310,
          101,
          69,
          179,
          185,
          118,
          171,
          166,
          144,
          97,
          168,
          68,
          49,
          68,
          245,
          184,
          202,
          137,
          85,
          131,
          283,
          129,
          59,
          341,
          87,
          65,
          102,
          265,
          276,
          252,
          90,
          100,
          55,
          61,
          92,
          259,
          53,
          190,
          142,
          75,
          142,
          155,
          225,
          59,
          104,
          182,
          128,
          52,
          37,
          170,
          170,
          61,
          144,
          52,
          128,
          71,
          163,
          150,
          97,
          160,
          178,
          48,
          270,
          202,
          111,
          85,
          42,
          170,
          200,
          252,
          113,
          143,
          51,
          52,
          210,
          65,
          141,
          55,
          134,
          42,
          111,
          98,
          164,
          48,
          96,
          90,
          162,
          150,
          279,
          92,
          83,
          128,
          102,
          302,
          198,
          95,
          53,
          134,
          144,
          232,
          81,
          104,
          59,
          246,
          297,
          258,
          229,
          275,
          281,
          179,
          200,
          200,
          173,
          180,
          84,
          121,
          161,
          99,
          109,
          115,
          268,
          274,
          158,
          107,
          83,
          103,
          272,
          85,
          280,
          336,
          281,
          118,
          317,
          235,
          60,
          174,
          259,
          178,
          128,
          96,
          126,
          288,
          88,
          292,
          71,
          197,
          186,
          25,
          84,
          96,
          195,
          53,
          217,
          172,
          131,
          214,
          59,
          70,
          220,
          268,
          152,
          47,
          74,
          295,
          101,
          151,
          127,
          237,
          225,
          81,
          151,
          107,
          64,
          138,
          185,
          265,
          101,
          137,
          143,
          141,
          79,
          292,
          178,
          91,
          116,
          86,
          122,
          72,
          129,
          142,
          90,
          158,
          39,
          196,
          222,
          277,
          99,
          196,
          202,
          155,
          77,
          191,
          70,
          73,
          49,
          65,
          263,
          248,
          296,
          214,
          185,
          78,
          93,
          252,
          150,
          77,
          208,
          77,
          108,
          160,
          53,
          220,
          154,
          259,
          90,
          246,
          124,
          67,
          72,
          257,
          262,
          275,
          177,
          71,
          47,
          187,
          125,
          78,
          51,
          258,
          215,
          303,
          243,
          91,
          150,
          310,
          153,
          346,
          63,
          89,
          50,
          39,
          103,
          308,
          116,
          145,
          74,
          45,
          115,
          264,
          87,
          202,
          127,
          182,
          241,
          66,
          94,
          283,
          64,
          102,
          200,
          265,
          94,
          230,
          181,
          156,
          233,
          60,
          219,
          80,
          68,
          332,
          248,
          84,
          200,
          55,
          85,
          89,
          31,
          129,
          83,
          275,
          65,
          198,
          236,
          253,
          124,
          44,
          172,
          114,
          142,
          109,
          180,
          144,
          163,
          147,
          97,
          220,
          190,
          109,
          191,
          122,
          230,
          242,
          248,
          249,
          192,
          131,
          237,
          78,
          135,
          244,
          199,
          270,
          164,
          72,
          96,
          306,
          91,
          214,
          95,
          216,
          263,
          178,
          113,
          200,
          139,
          139,
          88,
          148,
          88,
          243,
          71,
          77,
          109,
          272,
          60,
          54,
          221,
          90,
          311,
          281,
          182,
          321,
          58,
          262,
          206,
          233,
          242,
          123,
          167,
          63,
          197,
          71,
          168,
          140,
          217,
          121,
          235,
          245,
          40,
          52,
          104,
          132,
          88,
          69,
          219,
          72,
          201,
          110,
          51,
          277,
          63,
          118,
          69,
          273,
          258,
          43,
          198,
          242,
          232,
          175,
          93,
          168,
          275,
          293,
          281,
          72,
          140,
          189,
          181,
          209,
          136,
          261,
          113,
          131,
          174,
          257,
          55,
          84,
          42,
          146,
          212,
          233,
          91,
          111,
          152,
          120,
          67,
          310,
          94,
          183,
          66,
          173,
          72,
          49,
          64,
          48,
          178,
          104,
          132,
          220,
          57
         ],
         "xaxis": "x",
         "yaxis": "y"
        }
       ],
       "layout": {
        "barmode": "relative",
        "legend": {
         "title": {
          "text": "variable"
         },
         "tracegroupgap": 0
        },
        "margin": {
         "t": 60
        },
        "template": {
         "data": {
          "scatter": [
           {
            "type": "scatter"
           }
          ]
         }
        },
        "xaxis": {
         "anchor": "y",
         "domain": [
          0,
          1
         ],
         "title": {
          "text": "value"
         }
        },
        "yaxis": {
         "anchor": "x",
         "domain": [
          0,
          1
         ],
         "title": {
          "text": "count"
         }
        }
       }
      }
     },
     "metadata": {},
     "output_type": "display_data"
    }
   ],
   "source": [
    "px.histogram(y)"
   ]
  },
  {
   "cell_type": "code",
   "execution_count": 76,
   "id": "1a7ce70b",
   "metadata": {},
   "outputs": [
    {
     "name": "stdout",
     "output_type": "stream",
     "text": [
      "(353, 10)\n",
      "(89,)\n",
      "(353,)\n",
      "(89, 10)\n"
     ]
    }
   ],
   "source": [
    "x_train, x_test, y_train, y_test = train_test_split(x, y, test_size=0.2, random_state=123)\n",
    "\n",
    "print(x_train.shape)\n",
    "print(y_test.shape)\n",
    "\n",
    "print(y_train.shape)\n",
    "print(x_test.shape)"
   ]
  },
  {
   "cell_type": "code",
   "execution_count": 77,
   "id": "20a82331",
   "metadata": {},
   "outputs": [],
   "source": [
    "from sklearn.linear_model import LinearRegression\n",
    "\n",
    "reg = LinearRegression()"
   ]
  },
  {
   "cell_type": "code",
   "execution_count": 79,
   "id": "587ec5a7",
   "metadata": {},
   "outputs": [
    {
     "data": {
      "text/plain": [
       "{'fit_time': array([0.01300907, 0.00192595, 0.00242901, 0.00257397, 0.00415492]),\n",
       " 'score_time': array([0.00217986, 0.00215912, 0.00086498, 0.0028832 , 0.00145698]),\n",
       " 'test_neg_mean_squared_error': array([-3234.43535508, -3493.97275833, -2653.95772145, -3241.22843086,\n",
       "        -2881.14535159]),\n",
       " 'train_neg_mean_squared_error': array([-2838.13825005, -2811.8653821 , -3004.68591542, -2845.35144042,\n",
       "        -2940.94343485]),\n",
       " 'test_r2': array([0.36597401, 0.45581359, 0.51771404, 0.53489078, 0.4165442 ]),\n",
       " 'train_r2': array([0.52857357, 0.50386375, 0.49241009, 0.48312651, 0.51412021])}"
      ]
     },
     "execution_count": 79,
     "metadata": {},
     "output_type": "execute_result"
    }
   ],
   "source": [
    "from sklearn.metrics import r2_score, mean_squared_error\n",
    "\n",
    "results = cross_validate(\n",
    "    reg,\n",
    "    x_train, y_train,\n",
    "    cv=5,\n",
    "    scoring=['neg_mean_squared_error', 'r2'],\n",
    "    return_train_score=True\n",
    ")\n",
    "\n",
    "results"
   ]
  },
  {
   "cell_type": "code",
   "execution_count": 80,
   "id": "67331497",
   "metadata": {},
   "outputs": [
    {
     "data": {
      "text/html": [
       "<div>\n",
       "<style scoped>\n",
       "    .dataframe tbody tr th:only-of-type {\n",
       "        vertical-align: middle;\n",
       "    }\n",
       "\n",
       "    .dataframe tbody tr th {\n",
       "        vertical-align: top;\n",
       "    }\n",
       "\n",
       "    .dataframe thead th {\n",
       "        text-align: right;\n",
       "    }\n",
       "</style>\n",
       "<table border=\"1\" class=\"dataframe\">\n",
       "  <thead>\n",
       "    <tr style=\"text-align: right;\">\n",
       "      <th></th>\n",
       "      <th>fit_time</th>\n",
       "      <th>score_time</th>\n",
       "      <th>test_neg_mean_squared_error</th>\n",
       "      <th>train_neg_mean_squared_error</th>\n",
       "      <th>test_r2</th>\n",
       "      <th>train_r2</th>\n",
       "    </tr>\n",
       "  </thead>\n",
       "  <tbody>\n",
       "    <tr>\n",
       "      <th>0</th>\n",
       "      <td>0.013009</td>\n",
       "      <td>0.002180</td>\n",
       "      <td>-3234.435355</td>\n",
       "      <td>-2838.138250</td>\n",
       "      <td>0.365974</td>\n",
       "      <td>0.528574</td>\n",
       "    </tr>\n",
       "    <tr>\n",
       "      <th>1</th>\n",
       "      <td>0.001926</td>\n",
       "      <td>0.002159</td>\n",
       "      <td>-3493.972758</td>\n",
       "      <td>-2811.865382</td>\n",
       "      <td>0.455814</td>\n",
       "      <td>0.503864</td>\n",
       "    </tr>\n",
       "    <tr>\n",
       "      <th>2</th>\n",
       "      <td>0.002429</td>\n",
       "      <td>0.000865</td>\n",
       "      <td>-2653.957721</td>\n",
       "      <td>-3004.685915</td>\n",
       "      <td>0.517714</td>\n",
       "      <td>0.492410</td>\n",
       "    </tr>\n",
       "    <tr>\n",
       "      <th>3</th>\n",
       "      <td>0.002574</td>\n",
       "      <td>0.002883</td>\n",
       "      <td>-3241.228431</td>\n",
       "      <td>-2845.351440</td>\n",
       "      <td>0.534891</td>\n",
       "      <td>0.483127</td>\n",
       "    </tr>\n",
       "    <tr>\n",
       "      <th>4</th>\n",
       "      <td>0.004155</td>\n",
       "      <td>0.001457</td>\n",
       "      <td>-2881.145352</td>\n",
       "      <td>-2940.943435</td>\n",
       "      <td>0.416544</td>\n",
       "      <td>0.514120</td>\n",
       "    </tr>\n",
       "  </tbody>\n",
       "</table>\n",
       "</div>"
      ],
      "text/plain": [
       "   fit_time  score_time  test_neg_mean_squared_error  \\\n",
       "0  0.013009    0.002180                 -3234.435355   \n",
       "1  0.001926    0.002159                 -3493.972758   \n",
       "2  0.002429    0.000865                 -2653.957721   \n",
       "3  0.002574    0.002883                 -3241.228431   \n",
       "4  0.004155    0.001457                 -2881.145352   \n",
       "\n",
       "   train_neg_mean_squared_error   test_r2  train_r2  \n",
       "0                  -2838.138250  0.365974  0.528574  \n",
       "1                  -2811.865382  0.455814  0.503864  \n",
       "2                  -3004.685915  0.517714  0.492410  \n",
       "3                  -2845.351440  0.534891  0.483127  \n",
       "4                  -2940.943435  0.416544  0.514120  "
      ]
     },
     "execution_count": 80,
     "metadata": {},
     "output_type": "execute_result"
    }
   ],
   "source": [
    "pd.DataFrame(results)"
   ]
  },
  {
   "cell_type": "code",
   "execution_count": 83,
   "id": "cb549231",
   "metadata": {},
   "outputs": [
    {
     "data": {
      "text/html": [
       "<div>\n",
       "<style scoped>\n",
       "    .dataframe tbody tr th:only-of-type {\n",
       "        vertical-align: middle;\n",
       "    }\n",
       "\n",
       "    .dataframe tbody tr th {\n",
       "        vertical-align: top;\n",
       "    }\n",
       "\n",
       "    .dataframe thead th {\n",
       "        text-align: right;\n",
       "    }\n",
       "</style>\n",
       "<table border=\"1\" class=\"dataframe\">\n",
       "  <thead>\n",
       "    <tr style=\"text-align: right;\">\n",
       "      <th></th>\n",
       "      <th>fit_time</th>\n",
       "      <th>score_time</th>\n",
       "      <th>test_neg_mean_squared_error</th>\n",
       "      <th>train_neg_mean_squared_error</th>\n",
       "      <th>test_r2</th>\n",
       "      <th>train_r2</th>\n",
       "    </tr>\n",
       "  </thead>\n",
       "  <tbody>\n",
       "    <tr>\n",
       "      <th>0</th>\n",
       "      <td>0.078751</td>\n",
       "      <td>0.002218</td>\n",
       "      <td>-3422.683870</td>\n",
       "      <td>-512.467496</td>\n",
       "      <td>0.329073</td>\n",
       "      <td>0.914877</td>\n",
       "    </tr>\n",
       "    <tr>\n",
       "      <th>1</th>\n",
       "      <td>0.062451</td>\n",
       "      <td>0.002136</td>\n",
       "      <td>-3508.935628</td>\n",
       "      <td>-489.941157</td>\n",
       "      <td>0.453483</td>\n",
       "      <td>0.913553</td>\n",
       "    </tr>\n",
       "    <tr>\n",
       "      <th>2</th>\n",
       "      <td>0.057919</td>\n",
       "      <td>0.002133</td>\n",
       "      <td>-3237.117093</td>\n",
       "      <td>-493.703675</td>\n",
       "      <td>0.411740</td>\n",
       "      <td>0.916597</td>\n",
       "    </tr>\n",
       "    <tr>\n",
       "      <th>3</th>\n",
       "      <td>0.062444</td>\n",
       "      <td>0.002094</td>\n",
       "      <td>-3570.617571</td>\n",
       "      <td>-490.464857</td>\n",
       "      <td>0.487624</td>\n",
       "      <td>0.910904</td>\n",
       "    </tr>\n",
       "    <tr>\n",
       "      <th>4</th>\n",
       "      <td>0.059406</td>\n",
       "      <td>0.002454</td>\n",
       "      <td>-3027.190400</td>\n",
       "      <td>-551.659893</td>\n",
       "      <td>0.386969</td>\n",
       "      <td>0.908859</td>\n",
       "    </tr>\n",
       "  </tbody>\n",
       "</table>\n",
       "</div>"
      ],
      "text/plain": [
       "   fit_time  score_time  test_neg_mean_squared_error  \\\n",
       "0  0.078751    0.002218                 -3422.683870   \n",
       "1  0.062451    0.002136                 -3508.935628   \n",
       "2  0.057919    0.002133                 -3237.117093   \n",
       "3  0.062444    0.002094                 -3570.617571   \n",
       "4  0.059406    0.002454                 -3027.190400   \n",
       "\n",
       "   train_neg_mean_squared_error   test_r2  train_r2  \n",
       "0                   -512.467496  0.329073  0.914877  \n",
       "1                   -489.941157  0.453483  0.913553  \n",
       "2                   -493.703675  0.411740  0.916597  \n",
       "3                   -490.464857  0.487624  0.910904  \n",
       "4                   -551.659893  0.386969  0.908859  "
      ]
     },
     "execution_count": 83,
     "metadata": {},
     "output_type": "execute_result"
    }
   ],
   "source": [
    "from sklearn.ensemble import RandomForestRegressor\n",
    "\n",
    "reg = RandomForestRegressor(n_estimators=50)\n",
    "\n",
    "results = cross_validate(\n",
    "    reg,\n",
    "    x_train, y_train,\n",
    "    cv=5,\n",
    "    scoring=['neg_mean_squared_error', 'r2'],\n",
    "    return_train_score=True\n",
    ")\n",
    "\n",
    "pd.DataFrame(results)"
   ]
  },
  {
   "cell_type": "code",
   "execution_count": 84,
   "id": "6de1e54d",
   "metadata": {},
   "outputs": [
    {
     "data": {
      "text/html": [
       "<div>\n",
       "<style scoped>\n",
       "    .dataframe tbody tr th:only-of-type {\n",
       "        vertical-align: middle;\n",
       "    }\n",
       "\n",
       "    .dataframe tbody tr th {\n",
       "        vertical-align: top;\n",
       "    }\n",
       "\n",
       "    .dataframe thead th {\n",
       "        text-align: right;\n",
       "    }\n",
       "</style>\n",
       "<table border=\"1\" class=\"dataframe\">\n",
       "  <thead>\n",
       "    <tr style=\"text-align: right;\">\n",
       "      <th></th>\n",
       "      <th>fit_time</th>\n",
       "      <th>score_time</th>\n",
       "      <th>test_neg_mean_squared_error</th>\n",
       "      <th>train_neg_mean_squared_error</th>\n",
       "      <th>test_r2</th>\n",
       "      <th>train_r2</th>\n",
       "    </tr>\n",
       "  </thead>\n",
       "  <tbody>\n",
       "    <tr>\n",
       "      <th>0</th>\n",
       "      <td>0.252366</td>\n",
       "      <td>0.007157</td>\n",
       "      <td>-3414.903215</td>\n",
       "      <td>-471.839200</td>\n",
       "      <td>0.330598</td>\n",
       "      <td>0.921626</td>\n",
       "    </tr>\n",
       "    <tr>\n",
       "      <th>1</th>\n",
       "      <td>0.229239</td>\n",
       "      <td>0.006548</td>\n",
       "      <td>-3473.861613</td>\n",
       "      <td>-474.345024</td>\n",
       "      <td>0.458946</td>\n",
       "      <td>0.916305</td>\n",
       "    </tr>\n",
       "    <tr>\n",
       "      <th>2</th>\n",
       "      <td>0.244259</td>\n",
       "      <td>0.008550</td>\n",
       "      <td>-2967.782319</td>\n",
       "      <td>-486.699072</td>\n",
       "      <td>0.460685</td>\n",
       "      <td>0.917781</td>\n",
       "    </tr>\n",
       "    <tr>\n",
       "      <th>3</th>\n",
       "      <td>0.240476</td>\n",
       "      <td>0.006142</td>\n",
       "      <td>-3585.356730</td>\n",
       "      <td>-469.855520</td>\n",
       "      <td>0.485509</td>\n",
       "      <td>0.914648</td>\n",
       "    </tr>\n",
       "    <tr>\n",
       "      <th>4</th>\n",
       "      <td>0.245439</td>\n",
       "      <td>0.008453</td>\n",
       "      <td>-3050.057784</td>\n",
       "      <td>-487.883593</td>\n",
       "      <td>0.382338</td>\n",
       "      <td>0.919396</td>\n",
       "    </tr>\n",
       "  </tbody>\n",
       "</table>\n",
       "</div>"
      ],
      "text/plain": [
       "   fit_time  score_time  test_neg_mean_squared_error  \\\n",
       "0  0.252366    0.007157                 -3414.903215   \n",
       "1  0.229239    0.006548                 -3473.861613   \n",
       "2  0.244259    0.008550                 -2967.782319   \n",
       "3  0.240476    0.006142                 -3585.356730   \n",
       "4  0.245439    0.008453                 -3050.057784   \n",
       "\n",
       "   train_neg_mean_squared_error   test_r2  train_r2  \n",
       "0                   -471.839200  0.330598  0.921626  \n",
       "1                   -474.345024  0.458946  0.916305  \n",
       "2                   -486.699072  0.460685  0.917781  \n",
       "3                   -469.855520  0.485509  0.914648  \n",
       "4                   -487.883593  0.382338  0.919396  "
      ]
     },
     "execution_count": 84,
     "metadata": {},
     "output_type": "execute_result"
    }
   ],
   "source": [
    "reg = RandomForestRegressor(n_estimators=200)\n",
    "\n",
    "results = cross_validate(\n",
    "    reg,\n",
    "    x_train, y_train,\n",
    "    cv=5,\n",
    "    scoring=['neg_mean_squared_error', 'r2'],\n",
    "    return_train_score=True\n",
    ")\n",
    "\n",
    "pd.DataFrame(results)"
   ]
  }
 ],
 "metadata": {
  "kernelspec": {
   "display_name": "pda",
   "language": "python",
   "name": "python3"
  },
  "language_info": {
   "codemirror_mode": {
    "name": "ipython",
    "version": 3
   },
   "file_extension": ".py",
   "mimetype": "text/x-python",
   "name": "python",
   "nbconvert_exporter": "python",
   "pygments_lexer": "ipython3",
   "version": "3.10.13"
  },
  "toc-autonumbering": true
 },
 "nbformat": 4,
 "nbformat_minor": 5
}
