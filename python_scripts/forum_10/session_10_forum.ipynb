{
 "cells": [
  {
   "cell_type": "markdown",
   "metadata": {},
   "source": [
    "# Session 10: Cross-Validation\n",
    "\n",
    "Let's put in practice what we learned about cross-validation.\n",
    "\n",
    "In this case, we are going to use the `K-Fold` cross-validation technique to evaluate the performance of a model.\n",
    "\n",
    "We will be trying different combinations of hyperparameters for a `RandomForestClassifier` model within the `K-Fold` cross-validation. At the end, we will choose the best hyperparameters based on the average accuracy of the model."
   ]
  },
  {
   "cell_type": "code",
   "execution_count": 2,
   "metadata": {},
   "outputs": [],
   "source": [
    "from sklearn.ensemble import RandomForestClassifier\n",
    "from sklearn.model_selection import train_test_split\n",
    "from sklearn.metrics import accuracy_score, confusion_matrix, precision_score, recall_score\n",
    "from sklearn.preprocessing import OneHotEncoder\n",
    "from sklearn.model_selection import cross_validate\n",
    "import pandas as pd\n",
    "import numpy as np\n",
    "import plotly.express as px\n"
   ]
  },
  {
   "cell_type": "code",
   "execution_count": 3,
   "metadata": {},
   "outputs": [
    {
     "data": {
      "text/html": [
       "<div>\n",
       "<style scoped>\n",
       "    .dataframe tbody tr th:only-of-type {\n",
       "        vertical-align: middle;\n",
       "    }\n",
       "\n",
       "    .dataframe tbody tr th {\n",
       "        vertical-align: top;\n",
       "    }\n",
       "\n",
       "    .dataframe thead th {\n",
       "        text-align: right;\n",
       "    }\n",
       "</style>\n",
       "<table border=\"1\" class=\"dataframe\">\n",
       "  <thead>\n",
       "    <tr style=\"text-align: right;\">\n",
       "      <th></th>\n",
       "      <th>id</th>\n",
       "      <th>warehouse_block</th>\n",
       "      <th>mode_of_shipment</th>\n",
       "      <th>customer_care_calls</th>\n",
       "      <th>customer_rating</th>\n",
       "      <th>cost_of_the_product</th>\n",
       "      <th>prior_purchases</th>\n",
       "      <th>product_importance</th>\n",
       "      <th>gender</th>\n",
       "      <th>discount_offered</th>\n",
       "      <th>weight_in_gms</th>\n",
       "      <th>reached_on_time_y_n</th>\n",
       "    </tr>\n",
       "  </thead>\n",
       "  <tbody>\n",
       "    <tr>\n",
       "      <th>0</th>\n",
       "      <td>1</td>\n",
       "      <td>D</td>\n",
       "      <td>Flight</td>\n",
       "      <td>4</td>\n",
       "      <td>2</td>\n",
       "      <td>177</td>\n",
       "      <td>3</td>\n",
       "      <td>low</td>\n",
       "      <td>F</td>\n",
       "      <td>44</td>\n",
       "      <td>1233</td>\n",
       "      <td>1</td>\n",
       "    </tr>\n",
       "    <tr>\n",
       "      <th>1</th>\n",
       "      <td>2</td>\n",
       "      <td>F</td>\n",
       "      <td>Flight</td>\n",
       "      <td>4</td>\n",
       "      <td>5</td>\n",
       "      <td>216</td>\n",
       "      <td>2</td>\n",
       "      <td>low</td>\n",
       "      <td>M</td>\n",
       "      <td>59</td>\n",
       "      <td>3088</td>\n",
       "      <td>1</td>\n",
       "    </tr>\n",
       "    <tr>\n",
       "      <th>2</th>\n",
       "      <td>3</td>\n",
       "      <td>A</td>\n",
       "      <td>Flight</td>\n",
       "      <td>2</td>\n",
       "      <td>2</td>\n",
       "      <td>183</td>\n",
       "      <td>4</td>\n",
       "      <td>low</td>\n",
       "      <td>M</td>\n",
       "      <td>48</td>\n",
       "      <td>3374</td>\n",
       "      <td>1</td>\n",
       "    </tr>\n",
       "    <tr>\n",
       "      <th>3</th>\n",
       "      <td>4</td>\n",
       "      <td>B</td>\n",
       "      <td>Flight</td>\n",
       "      <td>3</td>\n",
       "      <td>3</td>\n",
       "      <td>176</td>\n",
       "      <td>4</td>\n",
       "      <td>medium</td>\n",
       "      <td>M</td>\n",
       "      <td>10</td>\n",
       "      <td>1177</td>\n",
       "      <td>1</td>\n",
       "    </tr>\n",
       "    <tr>\n",
       "      <th>4</th>\n",
       "      <td>5</td>\n",
       "      <td>C</td>\n",
       "      <td>Flight</td>\n",
       "      <td>2</td>\n",
       "      <td>2</td>\n",
       "      <td>184</td>\n",
       "      <td>3</td>\n",
       "      <td>medium</td>\n",
       "      <td>F</td>\n",
       "      <td>46</td>\n",
       "      <td>2484</td>\n",
       "      <td>1</td>\n",
       "    </tr>\n",
       "  </tbody>\n",
       "</table>\n",
       "</div>"
      ],
      "text/plain": [
       "   id warehouse_block mode_of_shipment  customer_care_calls  customer_rating  \\\n",
       "0   1               D           Flight                    4                2   \n",
       "1   2               F           Flight                    4                5   \n",
       "2   3               A           Flight                    2                2   \n",
       "3   4               B           Flight                    3                3   \n",
       "4   5               C           Flight                    2                2   \n",
       "\n",
       "   cost_of_the_product  prior_purchases product_importance gender  \\\n",
       "0                  177                3                low      F   \n",
       "1                  216                2                low      M   \n",
       "2                  183                4                low      M   \n",
       "3                  176                4             medium      M   \n",
       "4                  184                3             medium      F   \n",
       "\n",
       "   discount_offered  weight_in_gms  reached_on_time_y_n  \n",
       "0                44           1233                    1  \n",
       "1                59           3088                    1  \n",
       "2                48           3374                    1  \n",
       "3                10           1177                    1  \n",
       "4                46           2484                    1  "
      ]
     },
     "execution_count": 3,
     "metadata": {},
     "output_type": "execute_result"
    }
   ],
   "source": [
    "data = pd.read_csv('shipping.csv')\n",
    "\n",
    "data.columns = [col.replace('.', '_').replace(' ', '_').lower() for col in data.columns]\n",
    "\n",
    "data.head()"
   ]
  },
  {
   "cell_type": "markdown",
   "metadata": {},
   "source": [
    "## The dataset\n",
    "\n",
    "In this dataset, we have information about different orders shipped by an e-commerce company. The dataset contains the following columns:\n",
    "\n",
    "- **ID:** ID Number of Customers.\n",
    "- **Warehouse block:** The Company has a big Warehouse which is divided into blocks such as A, B, C, ...\n",
    "- **Mode of shipment:** The Company ships the products in multiple ways such as Ship, Flight, and Road.\n",
    "- **Customer care calls:** The number of calls made for enquiry of the shipment.\n",
    "- **Customer rating:** The company has rated from every customer. 1 is the lowest (Worst), 5 is the highest (Best).\n",
    "- **Cost of the product:** Cost of the Product in US Dollars.\n",
    "- **Prior purchases:** The Number of Prior Purchases.\n",
    "- **Product importance:** The company has categorized the product in various parameters such as low, medium, high.\n",
    "- **Gender:** Male and Female.\n",
    "- **Discount offered:** Discount offered on that specific product.\n",
    "- **Weight in gms:** It is the weight in grams.\n",
    "- **Reached on time:** It is the target variable, where 1 indicates that the product has NOT reached on time and 0 indicates it has reached on time."
   ]
  },
  {
   "cell_type": "markdown",
   "metadata": {},
   "source": [
    "## Question 1\n",
    "\n",
    "Separate the dataset into features and target variable."
   ]
  },
  {
   "cell_type": "code",
   "execution_count": 4,
   "metadata": {},
   "outputs": [
    {
     "name": "stdout",
     "output_type": "stream",
     "text": [
      " Customer Rating :\n",
      "0        1\n",
      "1        1\n",
      "2        1\n",
      "3        1\n",
      "4        1\n",
      "        ..\n",
      "10994    1\n",
      "10995    0\n",
      "10996    0\n",
      "10997    0\n",
      "10998    0\n",
      "Name: reached_on_time_y_n, Length: 10999, dtype: int64\n",
      " Features :\n",
      "          id warehouse_block mode_of_shipment  customer_care_calls  \\\n",
      "0          1               D           Flight                    4   \n",
      "1          2               F           Flight                    4   \n",
      "2          3               A           Flight                    2   \n",
      "3          4               B           Flight                    3   \n",
      "4          5               C           Flight                    2   \n",
      "...      ...             ...              ...                  ...   \n",
      "10994  10995               A             Ship                    4   \n",
      "10995  10996               B             Ship                    4   \n",
      "10996  10997               C             Ship                    5   \n",
      "10997  10998               F             Ship                    5   \n",
      "10998  10999               D             Ship                    2   \n",
      "\n",
      "       customer_rating  cost_of_the_product  prior_purchases  \\\n",
      "0                    2                  177                3   \n",
      "1                    5                  216                2   \n",
      "2                    2                  183                4   \n",
      "3                    3                  176                4   \n",
      "4                    2                  184                3   \n",
      "...                ...                  ...              ...   \n",
      "10994                1                  252                5   \n",
      "10995                1                  232                5   \n",
      "10996                4                  242                5   \n",
      "10997                2                  223                6   \n",
      "10998                5                  155                5   \n",
      "\n",
      "      product_importance gender  discount_offered  weight_in_gms  \n",
      "0                    low      F                44           1233  \n",
      "1                    low      M                59           3088  \n",
      "2                    low      M                48           3374  \n",
      "3                 medium      M                10           1177  \n",
      "4                 medium      F                46           2484  \n",
      "...                  ...    ...               ...            ...  \n",
      "10994             medium      F                 1           1538  \n",
      "10995             medium      F                 6           1247  \n",
      "10996                low      F                 4           1155  \n",
      "10997             medium      M                 2           1210  \n",
      "10998                low      F                 6           1639  \n",
      "\n",
      "[10999 rows x 11 columns]\n"
     ]
    }
   ],
   "source": [
    "target_column = 'reached_on_time_y_n'\n",
    "x = data.drop(target_column, axis=1) # features - target column\n",
    "y = data[target_column] # target column\n",
    "\n",
    "print(\" Customer Rating :\")\n",
    "print(y)\n",
    "\n",
    "print(\" Features :\")\n",
    "print(x)\n"
   ]
  },
  {
   "cell_type": "markdown",
   "metadata": {},
   "source": [
    "## Question 2\n",
    "\n",
    "Is the dataset balanced?"
   ]
  },
  {
   "cell_type": "code",
   "execution_count": 5,
   "metadata": {},
   "outputs": [
    {
     "name": "stdout",
     "output_type": "stream",
     "text": [
      "Distribution of the customer ratings:\n",
      "reached_on_time_y_n\n",
      "1    6563\n",
      "0    4436\n",
      "Name: count, dtype: int64\n"
     ]
    }
   ],
   "source": [
    "# Calculate the distribution of the target column, customer_rating\n",
    "# Check the frequency of the values in the target column\n",
    "distribution = y.value_counts()\n",
    "print(\"Distribution of the customer ratings:\")\n",
    "print(distribution)"
   ]
  },
  {
   "cell_type": "code",
   "execution_count": 6,
   "metadata": {},
   "outputs": [
    {
     "data": {
      "image/png": "[encoded data removed]",
      "text/plain": [
       "<Figure size 640x480 with 1 Axes>"
      ]
     },
     "metadata": {},
     "output_type": "display_data"
    }
   ],
   "source": [
    "# Visualize the dsitribution\n",
    "import matplotlib.pyplot as plt\n",
    "distribution.plot(kind='bar')\n",
    "plt.xlabel('Class')\n",
    "plt.ylabel('Frequency')\n",
    "plt.title('Distribution of Target Variable')\n",
    "plt.show()"
   ]
  },
  {
   "cell_type": "markdown",
   "metadata": {},
   "source": [
    "## Question 3\n",
    "\n",
    "Dealing with the ID: should we keep it in the dataset?\n",
    "\n",
    "If there are several rows with the same ID then it might be important to understand recurrence. If not, we can drop it.\n",
    "\n",
    "Please check if there are any repeated IDs in the dataset. If there are, keep the column, otherwise drop it."
   ]
  },
  {
   "cell_type": "code",
   "execution_count": 7,
   "metadata": {},
   "outputs": [
    {
     "name": "stdout",
     "output_type": "stream",
     "text": [
      "id\n",
      "10999    1\n",
      "1        1\n",
      "2        1\n",
      "3        1\n",
      "4        1\n",
      "        ..\n",
      "12       1\n",
      "11       1\n",
      "10       1\n",
      "9        1\n",
      "8        1\n",
      "Name: count, Length: 10999, dtype: int64\n",
      "counter done\n"
     ]
    }
   ],
   "source": [
    "id_column = data['id']\n",
    "id_distribution = id_column.value_counts()\n",
    "print(id_distribution)\n",
    "\n",
    "# For loop to process each row\n",
    "for counter in id_distribution:\n",
    "    if counter > 1:\n",
    "        print(counter)\n",
    "\n",
    "print('counter done')"
   ]
  },
  {
   "cell_type": "code",
   "execution_count": 8,
   "metadata": {},
   "outputs": [
    {
     "name": "stdout",
     "output_type": "stream",
     "text": [
      "Features: \n",
      "      warehouse_block mode_of_shipment  customer_care_calls  customer_rating  \\\n",
      "0                   D           Flight                    4                2   \n",
      "1                   F           Flight                    4                5   \n",
      "2                   A           Flight                    2                2   \n",
      "3                   B           Flight                    3                3   \n",
      "4                   C           Flight                    2                2   \n",
      "...               ...              ...                  ...              ...   \n",
      "10994               A             Ship                    4                1   \n",
      "10995               B             Ship                    4                1   \n",
      "10996               C             Ship                    5                4   \n",
      "10997               F             Ship                    5                2   \n",
      "10998               D             Ship                    2                5   \n",
      "\n",
      "       cost_of_the_product  prior_purchases product_importance gender  \\\n",
      "0                      177                3                low      F   \n",
      "1                      216                2                low      M   \n",
      "2                      183                4                low      M   \n",
      "3                      176                4             medium      M   \n",
      "4                      184                3             medium      F   \n",
      "...                    ...              ...                ...    ...   \n",
      "10994                  252                5             medium      F   \n",
      "10995                  232                5             medium      F   \n",
      "10996                  242                5                low      F   \n",
      "10997                  223                6             medium      M   \n",
      "10998                  155                5                low      F   \n",
      "\n",
      "       discount_offered  weight_in_gms  \n",
      "0                    44           1233  \n",
      "1                    59           3088  \n",
      "2                    48           3374  \n",
      "3                    10           1177  \n",
      "4                    46           2484  \n",
      "...                 ...            ...  \n",
      "10994                 1           1538  \n",
      "10995                 6           1247  \n",
      "10996                 4           1155  \n",
      "10997                 2           1210  \n",
      "10998                 6           1639  \n",
      "\n",
      "[10999 rows x 10 columns]\n"
     ]
    }
   ],
   "source": [
    "# drop the id column\n",
    "x = x.drop('id',axis=1)\n",
    "print('Features: ')\n",
    "print(x)"
   ]
  },
  {
   "cell_type": "markdown",
   "metadata": {},
   "source": [
    "## Question 4 \n",
    "\n",
    "Which are the categorical columns in the dataset?"
   ]
  },
  {
   "cell_type": "code",
   "execution_count": 9,
   "metadata": {},
   "outputs": [
    {
     "name": "stdout",
     "output_type": "stream",
     "text": [
      "Categorical columns: \n",
      "Index(['warehouse_block', 'mode_of_shipment', 'product_importance', 'gender'], dtype='object')\n"
     ]
    }
   ],
   "source": [
    "# To identify if a column is categorical, check if a columns is object type\n",
    "categorical_columns = x.select_dtypes(include=['object']).columns\n",
    "print('Categorical columns: ')\n",
    "print(categorical_columns)"
   ]
  },
  {
   "cell_type": "markdown",
   "metadata": {},
   "source": [
    "## Question 4\n",
    "\n",
    "Encode the categorical variables, using the `OneHotEncoder` or `LabelEncoder` from `sklearn`."
   ]
  },
  {
   "cell_type": "code",
   "execution_count": 10,
   "metadata": {},
   "outputs": [],
   "source": [
    "# OneHotEncoder"
   ]
  },
  {
   "cell_type": "code",
   "execution_count": 11,
   "metadata": {},
   "outputs": [
    {
     "data": {
      "text/html": [
       "<div>\n",
       "<style scoped>\n",
       "    .dataframe tbody tr th:only-of-type {\n",
       "        vertical-align: middle;\n",
       "    }\n",
       "\n",
       "    .dataframe tbody tr th {\n",
       "        vertical-align: top;\n",
       "    }\n",
       "\n",
       "    .dataframe thead th {\n",
       "        text-align: right;\n",
       "    }\n",
       "</style>\n",
       "<table border=\"1\" class=\"dataframe\">\n",
       "  <thead>\n",
       "    <tr style=\"text-align: right;\">\n",
       "      <th></th>\n",
       "      <th>customer_care_calls</th>\n",
       "      <th>customer_rating</th>\n",
       "      <th>cost_of_the_product</th>\n",
       "      <th>prior_purchases</th>\n",
       "      <th>discount_offered</th>\n",
       "      <th>weight_in_gms</th>\n",
       "      <th>warehouse_block_le</th>\n",
       "      <th>mode_of_shipment_le</th>\n",
       "      <th>product_importance_le</th>\n",
       "      <th>gender_le</th>\n",
       "    </tr>\n",
       "  </thead>\n",
       "  <tbody>\n",
       "    <tr>\n",
       "      <th>0</th>\n",
       "      <td>4</td>\n",
       "      <td>2</td>\n",
       "      <td>177</td>\n",
       "      <td>3</td>\n",
       "      <td>44</td>\n",
       "      <td>1233</td>\n",
       "      <td>3</td>\n",
       "      <td>0</td>\n",
       "      <td>1</td>\n",
       "      <td>0</td>\n",
       "    </tr>\n",
       "    <tr>\n",
       "      <th>1</th>\n",
       "      <td>4</td>\n",
       "      <td>5</td>\n",
       "      <td>216</td>\n",
       "      <td>2</td>\n",
       "      <td>59</td>\n",
       "      <td>3088</td>\n",
       "      <td>4</td>\n",
       "      <td>0</td>\n",
       "      <td>1</td>\n",
       "      <td>1</td>\n",
       "    </tr>\n",
       "    <tr>\n",
       "      <th>2</th>\n",
       "      <td>2</td>\n",
       "      <td>2</td>\n",
       "      <td>183</td>\n",
       "      <td>4</td>\n",
       "      <td>48</td>\n",
       "      <td>3374</td>\n",
       "      <td>0</td>\n",
       "      <td>0</td>\n",
       "      <td>1</td>\n",
       "      <td>1</td>\n",
       "    </tr>\n",
       "    <tr>\n",
       "      <th>3</th>\n",
       "      <td>3</td>\n",
       "      <td>3</td>\n",
       "      <td>176</td>\n",
       "      <td>4</td>\n",
       "      <td>10</td>\n",
       "      <td>1177</td>\n",
       "      <td>1</td>\n",
       "      <td>0</td>\n",
       "      <td>2</td>\n",
       "      <td>1</td>\n",
       "    </tr>\n",
       "    <tr>\n",
       "      <th>4</th>\n",
       "      <td>2</td>\n",
       "      <td>2</td>\n",
       "      <td>184</td>\n",
       "      <td>3</td>\n",
       "      <td>46</td>\n",
       "      <td>2484</td>\n",
       "      <td>2</td>\n",
       "      <td>0</td>\n",
       "      <td>2</td>\n",
       "      <td>0</td>\n",
       "    </tr>\n",
       "  </tbody>\n",
       "</table>\n",
       "</div>"
      ],
      "text/plain": [
       "   customer_care_calls  customer_rating  cost_of_the_product  prior_purchases  \\\n",
       "0                    4                2                  177                3   \n",
       "1                    4                5                  216                2   \n",
       "2                    2                2                  183                4   \n",
       "3                    3                3                  176                4   \n",
       "4                    2                2                  184                3   \n",
       "\n",
       "   discount_offered  weight_in_gms  warehouse_block_le  mode_of_shipment_le  \\\n",
       "0                44           1233                   3                    0   \n",
       "1                59           3088                   4                    0   \n",
       "2                48           3374                   0                    0   \n",
       "3                10           1177                   1                    0   \n",
       "4                46           2484                   2                    0   \n",
       "\n",
       "   product_importance_le  gender_le  \n",
       "0                      1          0  \n",
       "1                      1          1  \n",
       "2                      1          1  \n",
       "3                      2          1  \n",
       "4                      2          0  "
      ]
     },
     "execution_count": 11,
     "metadata": {},
     "output_type": "execute_result"
    }
   ],
   "source": [
    "# LabelEncoder\n",
    "\n",
    "from sklearn.preprocessing import LabelEncoder\n",
    "\n",
    "label_encoder = LabelEncoder()\n",
    "\n",
    "x_le = x.copy()\n",
    "\n",
    "for column in categorical_columns:\n",
    "    x_le[f'{column}_le'] = label_encoder.fit_transform(data[column])\n",
    "\n",
    "x_le = x_le.drop(categorical_columns, axis=1) #drop original categorical columns to keep only their encoded version\n",
    "\n",
    "x_le.head()"
   ]
  },
  {
   "cell_type": "markdown",
   "metadata": {},
   "source": [
    "## Question 5\n",
    "\n",
    "Split the dataset into training and test sets."
   ]
  },
  {
   "cell_type": "code",
   "execution_count": 12,
   "metadata": {},
   "outputs": [],
   "source": [
    "# train test split, using 30% of the data for testing\n",
    "\n",
    "x_train, x_test, y_train, y_test = train_test_split(x_le, y, test_size=0.3, random_state=42)"
   ]
  },
  {
   "cell_type": "markdown",
   "metadata": {},
   "source": [
    "## Question 6\n",
    "\n",
    "Create a `RandomForestClassifier` model and use the `K-Fold` cross-validation technique to evaluate the model, without changing the hyperparameters.\n",
    "\n",
    "* Use accuracy as the metric to evaluate the model with `cross_validate`.\n",
    "    * `accuracy_score` is the number of correct predictions made by the model over all kinds predictions made.\n",
    "    $$ accuracy = \\frac{TP + TN}{TP + TN + FP + FN} $$\n",
    "\n",
    "* Use 10 folds in the cross-validation.\n",
    "\n",
    "About classification metrics: https://scikit-learn.org/stable/modules/model_evaluation.html#classification-metrics"
   ]
  },
  {
   "cell_type": "code",
   "execution_count": 13,
   "metadata": {},
   "outputs": [
    {
     "name": "stdout",
     "output_type": "stream",
     "text": [
      "Cross-validation results:\n",
      "accuracy: 0.654 (+/- 0.015)\n"
     ]
    }
   ],
   "source": [
    "# Create a RandomForestClasssifier\n",
    "# instantiate the model RandomForestClassifier\n",
    "tree = RandomForestClassifier(random_state=42)\n",
    "\n",
    "scoring = ['accuracy']\n",
    "\n",
    "results = cross_validate(\n",
    "    tree,\n",
    "    x_train, y_train,\n",
    "    cv=10,\n",
    "    scoring = scoring,\n",
    "    return_train_score=True\n",
    ")\n",
    "\n",
    "pd.DataFrame(results)\n",
    "\n",
    "# Print the results\n",
    "print(\"Cross-validation results:\")\n",
    "for metric in scoring:\n",
    "    print(f\"{metric}: {results['test_' + metric].mean():.3f} (+/- {results['test_' + metric].std():.3f})\")"
   ]
  },
  {
   "cell_type": "markdown",
   "metadata": {},
   "source": [
    "# Brief intro to random forests\n",
    "\n",
    "Random forests are an ensemble learning method that can be used for classification and regression.\n",
    "\n",
    "It works by training several decision trees during training and outputting the majority class (classification) or mean prediction (regression) of the individual trees.\n",
    "\n",
    "The idea behind random forests is that each tree might be overfitting the data in a different way, so by averaging the predictions of the trees, we can reduce the variance of the model. One of the characteristics of random forests is that none of trees are trained with the same data, they only use some of the variables. By doing that, we can reduce the correlation between the trees and make the model more robust.\n",
    "\n",
    "The three hyperparameters that we are going to use in this exercise are:\n",
    "\n",
    "- `n_estimators`: the number of trees in the forest (an integer between 1 and as many as you want).\n",
    "    * The higher the number of trees, the better the model will generalize to new data.\n",
    "- `max_depth`: the maximum depth of the trees (an integer between 1 and as many as you want).\n",
    "    * The higher the depth, the more complex the model will be, the more likely to overfit.\n",
    "- `max_features`: the number of variables to consider when looking for the best split (an integer between 1 and the number of training variables).\n",
    "    * The higher the number of features, the more likely to overfit. Should be compensated with a higher `n_estimators`: the more trees, the less features can be repeated in the trees.\n",
    "    * A good rule of thumb is to use the square root of the number of features, rounded down."
   ]
  },
  {
   "cell_type": "markdown",
   "metadata": {},
   "source": [
    "## Question 7\n",
    "\n",
    "Change the hyperparameters of the model and then use the `K-Fold` cross-validation technique to evaluate the model.\n",
    "\n",
    "Using the following hyperparameters (more info [here](https://scikit-learn.org/stable/modules/generated/sklearn.ensemble.RandomForestClassifier.html)):\n",
    "\n",
    "* `n_estimators`: The number of trees in the forest.\n",
    "* `max_depth`: The maximum depth of the tree.\n",
    "* `max_features`: The number of variables from the training data to consider when looking for the best split.\n",
    "\n",
    "Choose 3 combination of hyperparameters, for example, `n_estimators=100`, `max_depth=10`, `min_samples_split=2`, and then repeat the cross-validation process with the same value of `K` (10 folds) for each combination of hyperparameters.\n",
    "\n",
    "Hint: in order to change the hyperparameters, you can create a new model with the desired hyperparameters.\n",
    "\n",
    "```python\n",
    "classifier = RandomForestClassifier(\n",
    "    n_estimators=100,\n",
    "    max_depth=10,\n",
    "    max_features=np.sqrt(x_train.shape[1]).astype(int)\n",
    ")\n",
    "```"
   ]
  },
  {
   "cell_type": "code",
   "execution_count": 14,
   "metadata": {},
   "outputs": [
    {
     "name": "stdout",
     "output_type": "stream",
     "text": [
      "Cross-validation results:\n",
      "accuracy: 0.674 (+/- 0.014)\n"
     ]
    }
   ],
   "source": [
    "tree = RandomForestClassifier(\n",
    "    random_state=42,\n",
    "    n_estimators=50,\n",
    "    max_depth = 10,\n",
    "    max_features = np.sqrt(x_train.shape[1]).astype(int)\n",
    ")\n",
    "\n",
    "scoring = ['accuracy']\n",
    "\n",
    "results = cross_validate(\n",
    "    tree,\n",
    "    x_train, y_train,\n",
    "    cv=10,\n",
    "    scoring = scoring,\n",
    "    return_train_score=True\n",
    ")\n",
    "\n",
    "pd.DataFrame(results)\n",
    "\n",
    "# Print the results\n",
    "print(\"Cross-validation results:\")\n",
    "for metric in scoring:\n",
    "    print(f\"{metric}: {results['test_' + metric].mean():.3f} (+/- {results['test_' + metric].std():.3f})\")"
   ]
  },
  {
   "cell_type": "code",
   "execution_count": 15,
   "metadata": {},
   "outputs": [
    {
     "name": "stdout",
     "output_type": "stream",
     "text": [
      "Cross-validation results:\n",
      "accuracy: 0.654 (+/- 0.017)\n"
     ]
    }
   ],
   "source": [
    "tree = RandomForestClassifier(\n",
    "    random_state=42,\n",
    "    n_estimators=100,\n",
    "    max_depth = 20,\n",
    "    max_features = np.sqrt(x_train.shape[1]).astype(int)\n",
    ")\n",
    "\n",
    "scoring = ['accuracy']\n",
    "\n",
    "results = cross_validate(\n",
    "    tree,\n",
    "    x_train, y_train,\n",
    "    cv=10,\n",
    "    scoring = scoring,\n",
    "    return_train_score=True\n",
    ")\n",
    "\n",
    "pd.DataFrame(results)\n",
    "\n",
    "# Print the results\n",
    "print(\"Cross-validation results:\")\n",
    "for metric in scoring:\n",
    "    print(f\"{metric}: {results['test_' + metric].mean():.3f} (+/- {results['test_' + metric].std():.3f})\")"
   ]
  },
  {
   "cell_type": "code",
   "execution_count": 16,
   "metadata": {},
   "outputs": [
    {
     "name": "stdout",
     "output_type": "stream",
     "text": [
      "{'fit_time': array([0.79427052, 0.78457642, 0.75758934, 0.78778338, 0.7905426 ,\n",
      "       0.77665448, 0.78528142, 0.79397202, 0.74130297, 0.74606323]), 'score_time': array([0.01808262, 0.01678586, 0.01680946, 0.01682091, 0.02271533,\n",
      "       0.01657557, 0.01655626, 0.01678801, 0.02208495, 0.01680326]), 'test_accuracy': array([0.67532468, 0.66233766, 0.66233766, 0.63116883, 0.66883117,\n",
      "       0.64545455, 0.62207792, 0.64675325, 0.67532468, 0.65279584]), 'train_accuracy': array([1., 1., 1., 1., 1., 1., 1., 1., 1., 1.])}\n"
     ]
    }
   ],
   "source": [
    "print(results)"
   ]
  },
  {
   "cell_type": "code",
   "execution_count": 17,
   "metadata": {},
   "outputs": [
    {
     "name": "stdout",
     "output_type": "stream",
     "text": [
      "accuracy - Train: 1.000 (+/- 0.000)\n",
      "accuracy - Test: 0.654 (+/- 0.017)\n",
      "Warning: Potential overfitting detected.\n"
     ]
    }
   ],
   "source": [
    "for metric in scoring:\n",
    "    train_score_mean = results['train_' + metric].mean()\n",
    "    test_score_mean = results['test_' + metric].mean()\n",
    "    train_score_std = results['train_' + metric].std()\n",
    "    test_score_std = results['test_' + metric].std()\n",
    "    \n",
    "    print(f\"{metric} - Train: {train_score_mean:.3f} (+/- {train_score_std:.3f})\")\n",
    "    print(f\"{metric} - Test: {test_score_mean:.3f} (+/- {test_score_std:.3f})\")\n",
    "    \n",
    "    if train_score_mean > test_score_mean + 0.05:  # Example threshold\n",
    "        print(\"Warning: Potential overfitting detected.\")"
   ]
  },
  {
   "cell_type": "markdown",
   "metadata": {},
   "source": [
    "## Question 8\n",
    "\n",
    "What was the best combination of hyperparameters in your opinion? Why?"
   ]
  },
  {
   "cell_type": "code",
   "execution_count": null,
   "metadata": {},
   "outputs": [],
   "source": []
  },
  {
   "cell_type": "markdown",
   "metadata": {},
   "source": [
    "Experiment 3 was the best in terms of accuracy in the validation sets.\n",
    "* Experiment 1 seemed to overfit the data, while experiment 2 was not as good as experiment 3."
   ]
  },
  {
   "cell_type": "markdown",
   "metadata": {},
   "source": [
    "## Question 9\n",
    "\n",
    "Now, use the best hyperparameters to train the model and evaluate it on the test set.\n",
    "\n",
    "Print the accuracy of the model on the test set, and the confusion matrix.\n",
    "\n",
    "Post the accuracy and confusion matrix of the model on forum!"
   ]
  },
  {
   "cell_type": "code",
   "execution_count": 18,
   "metadata": {},
   "outputs": [
    {
     "name": "stdout",
     "output_type": "stream",
     "text": [
      "Accuracy: \n",
      "0.6787878787878788\n",
      "Precision: \n",
      "0.5613682092555332\n",
      "Recall: \n",
      "0.8558282208588958\n",
      "[[1124  872]\n",
      " [ 188 1116]]\n"
     ]
    }
   ],
   "source": [
    "\n",
    "# instantiate the model RandomForestClassifier\n",
    "tree = RandomForestClassifier(\n",
    "    random_state=42,\n",
    "    n_estimators=50,\n",
    "    max_depth = 10,\n",
    "    max_features = np.sqrt(x_train.shape[1]).astype(int)\n",
    ")\n",
    "\n",
    "# train the model\n",
    "tree.fit(x_train, y_train)\n",
    "\n",
    "# make predictions\n",
    "y_pred = tree.predict(x_test)\n",
    "\n",
    "# calculate the accuracy\n",
    "accuracy_randomforest = accuracy_score(y_test, y_pred)\n",
    "\n",
    "print('Accuracy: ')\n",
    "print(accuracy_randomforest)\n",
    "\n",
    "print('Precision: ')\n",
    "print(precision_score(y_pred, y_test))\n",
    "print('Recall: ')\n",
    "print(recall_score(y_pred, y_test))\n",
    "\n",
    "print(confusion_matrix(y_pred, y_test))\n"
   ]
  },
  {
   "cell_type": "code",
   "execution_count": 19,
   "metadata": {},
   "outputs": [
    {
     "name": "stdout",
     "output_type": "stream",
     "text": [
      "Confusion Matrix: \n",
      "[[1124  188]\n",
      " [ 872 1116]]\n"
     ]
    },
    {
     "data": {
      "text/plain": [
       "<sklearn.metrics._plot.confusion_matrix.ConfusionMatrixDisplay at 0x74e4d1d4f650>"
      ]
     },
     "execution_count": 19,
     "metadata": {},
     "output_type": "execute_result"
    },
    {
     "data": {
      "image/png": "[encoded data removed]",
      "text/plain": [
       "<Figure size 640x480 with 2 Axes>"
      ]
     },
     "metadata": {},
     "output_type": "display_data"
    }
   ],
   "source": [
    "from sklearn.metrics import confusion_matrix, ConfusionMatrixDisplay\n",
    "\n",
    "conf_matrix = confusion_matrix(y_test,y_pred)\n",
    "print('Confusion Matrix: ')\n",
    "print(conf_matrix)\n",
    "\n",
    "ConfusionMatrixDisplay.from_predictions(y_test, y_pred)"
   ]
  },
  {
   "cell_type": "markdown",
   "metadata": {},
   "source": [
    "## Question 10\n",
    "\n",
    "What can you say about the model's performance on the test set? Check the recall and precision of the model to try and explain the model's performance."
   ]
  },
  {
   "cell_type": "code",
   "execution_count": null,
   "metadata": {},
   "outputs": [],
   "source": []
  }
 ],
 "metadata": {
  "kernelspec": {
   "display_name": "pda",
   "language": "python",
   "name": "python3"
  },
  "language_info": {
   "codemirror_mode": {
    "name": "ipython",
    "version": 3
   },
   "file_extension": ".py",
   "mimetype": "text/x-python",
   "name": "python",
   "nbconvert_exporter": "python",
   "pygments_lexer": "ipython3",
   "version": "3.12.1"
  }
 },
 "nbformat": 4,
 "nbformat_minor": 2
}
