{
 "cells": [
  {
   "cell_type": "markdown",
   "id": "d56f3b7e",
   "metadata": {},
   "source": [
    "# Naive Bayes for text classification"
   ]
  },
  {
   "cell_type": "markdown",
   "id": "a3d0165e",
   "metadata": {},
   "source": [
    "### Read data: a known repository of sms spam data"
   ]
  },
  {
   "cell_type": "code",
   "execution_count": 36,
   "id": "e76203e8-3d02-46e7-95bc-a472d791f09e",
   "metadata": {},
   "outputs": [],
   "source": [
    "import warnings\n",
    "warnings.filterwarnings(\"ignore\")"
   ]
  },
  {
   "cell_type": "code",
   "execution_count": 37,
   "id": "51adefc0",
   "metadata": {},
   "outputs": [
    {
     "data": {
      "text/html": [
       "<div>\n",
       "<style scoped>\n",
       "    .dataframe tbody tr th:only-of-type {\n",
       "        vertical-align: middle;\n",
       "    }\n",
       "\n",
       "    .dataframe tbody tr th {\n",
       "        vertical-align: top;\n",
       "    }\n",
       "\n",
       "    .dataframe thead th {\n",
       "        text-align: right;\n",
       "    }\n",
       "</style>\n",
       "<table border=\"1\" class=\"dataframe\">\n",
       "  <thead>\n",
       "    <tr style=\"text-align: right;\">\n",
       "      <th></th>\n",
       "      <th>type</th>\n",
       "      <th>message</th>\n",
       "    </tr>\n",
       "  </thead>\n",
       "  <tbody>\n",
       "    <tr>\n",
       "      <th>0</th>\n",
       "      <td>other</td>\n",
       "      <td>.@katie_phd alternate  'reproachful mandrill' ...</td>\n",
       "    </tr>\n",
       "    <tr>\n",
       "      <th>1</th>\n",
       "      <td>other</td>\n",
       "      <td>.@theophani can i get \"drill\" in there  it wou...</td>\n",
       "    </tr>\n",
       "    <tr>\n",
       "      <th>2</th>\n",
       "      <td>other</td>\n",
       "      <td>“@chrisjboyland baby mandrill paignton zoo 29t...</td>\n",
       "    </tr>\n",
       "    <tr>\n",
       "      <th>3</th>\n",
       "      <td>other</td>\n",
       "      <td>“@missmya #nameanamazingband mandrill ” mint c...</td>\n",
       "    </tr>\n",
       "    <tr>\n",
       "      <th>4</th>\n",
       "      <td>other</td>\n",
       "      <td>“fat city strut” by mandrill is my new jam htt...</td>\n",
       "    </tr>\n",
       "    <tr>\n",
       "      <th>...</th>\n",
       "      <td>...</td>\n",
       "      <td>...</td>\n",
       "    </tr>\n",
       "    <tr>\n",
       "      <th>8973</th>\n",
       "      <td>app</td>\n",
       "      <td>we've simplified and reduced pricing for every...</td>\n",
       "    </tr>\n",
       "    <tr>\n",
       "      <th>8974</th>\n",
       "      <td>app</td>\n",
       "      <td>we’re unifying your mandrill and mailchimp dat...</td>\n",
       "    </tr>\n",
       "    <tr>\n",
       "      <th>8975</th>\n",
       "      <td>app</td>\n",
       "      <td>whaaat  i didn't know @mailchimp had an email ...</td>\n",
       "    </tr>\n",
       "    <tr>\n",
       "      <th>8976</th>\n",
       "      <td>app</td>\n",
       "      <td>would like to send emails for welcome  passwor...</td>\n",
       "    </tr>\n",
       "    <tr>\n",
       "      <th>8977</th>\n",
       "      <td>app</td>\n",
       "      <td>zapier makes mandrill integration easy | mandr...</td>\n",
       "    </tr>\n",
       "  </tbody>\n",
       "</table>\n",
       "<p>8978 rows × 2 columns</p>\n",
       "</div>"
      ],
      "text/plain": [
       "       type                                            message\n",
       "0     other  .@katie_phd alternate  'reproachful mandrill' ...\n",
       "1     other  .@theophani can i get \"drill\" in there  it wou...\n",
       "2     other  “@chrisjboyland baby mandrill paignton zoo 29t...\n",
       "3     other  “@missmya #nameanamazingband mandrill ” mint c...\n",
       "4     other  “fat city strut” by mandrill is my new jam htt...\n",
       "...     ...                                                ...\n",
       "8973    app  we've simplified and reduced pricing for every...\n",
       "8974    app  we’re unifying your mandrill and mailchimp dat...\n",
       "8975    app  whaaat  i didn't know @mailchimp had an email ...\n",
       "8976    app  would like to send emails for welcome  passwor...\n",
       "8977    app  zapier makes mandrill integration easy | mandr...\n",
       "\n",
       "[8978 rows x 2 columns]"
      ]
     },
     "execution_count": 37,
     "metadata": {},
     "output_type": "execute_result"
    }
   ],
   "source": [
    "# ! pip install requests\n",
    "import requests \n",
    "import zipfile\n",
    "import pandas as pd\n",
    "import os\n",
    "\n",
    "#url = 'https://archive.ics.uci.edu/ml/machine-learning-databases/00228/smsspamcollection.zip'\n",
    "#data_file = 'SMSSpamCollection'\n",
    "\n",
    "# Make request\n",
    "#resp = requests.get(url)\n",
    "\n",
    "# Get filename\n",
    "#filename = url.split('/')[-1]\n",
    "\n",
    "# Download zipfile\n",
    "#with open(filename, 'wb') as f:\n",
    "#  f.write(resp.content)\n",
    "\n",
    "# Extract Zip\n",
    "#with zipfile.ZipFile(filename, 'r') as zip:\n",
    "#  zip.extractall('')\n",
    "\n",
    "\n",
    "# Define the data folder and file path\n",
    "data_file = os.path.join('data/allWords.tsv')\n",
    "\n",
    "\n",
    "# Read Dataset\n",
    "data = pd.read_table(data_file, \n",
    "                     header = 0,\n",
    "                     names = ['type', 'message']\n",
    "                     )\n",
    "\n",
    "# Show dataset\n",
    "data"
   ]
  },
  {
   "cell_type": "markdown",
   "id": "6e930345",
   "metadata": {},
   "source": [
    "#### Install the language toolkit and everything necessary"
   ]
  },
  {
   "cell_type": "code",
   "execution_count": 38,
   "id": "c46e7d4b",
   "metadata": {},
   "outputs": [
    {
     "name": "stderr",
     "output_type": "stream",
     "text": [
      "[nltk_data] Downloading package punkt to /Users/nerea/nltk_data...\n",
      "[nltk_data]   Package punkt is already up-to-date!\n",
      "[nltk_data] Downloading package stopwords to /Users/nerea/nltk_data...\n",
      "[nltk_data]   Package stopwords is already up-to-date!\n"
     ]
    }
   ],
   "source": [
    "# NLTK: Natural Language Toolkit\n",
    "import nltk\n",
    "nltk.download('punkt')\n",
    "nltk.download('stopwords')\n",
    "from nltk.stem.porter import *\n",
    "from nltk.stem import WordNetLemmatizer\n",
    "from nltk.tokenize import RegexpTokenizer"
   ]
  },
  {
   "cell_type": "markdown",
   "id": "84c8d218",
   "metadata": {},
   "source": [
    "**1st step: Tokenization**. <BR> It consists of separating the messages into words in order to be able to treat each. <BR>\n",
    "We are doing it removing punctuation at the same time (thanks to the RegexpTokenizer function)"
   ]
  },
  {
   "cell_type": "code",
   "execution_count": 39,
   "id": "a0ec412c",
   "metadata": {},
   "outputs": [
    {
     "data": {
      "text/html": [
       "<div>\n",
       "<style scoped>\n",
       "    .dataframe tbody tr th:only-of-type {\n",
       "        vertical-align: middle;\n",
       "    }\n",
       "\n",
       "    .dataframe tbody tr th {\n",
       "        vertical-align: top;\n",
       "    }\n",
       "\n",
       "    .dataframe thead th {\n",
       "        text-align: right;\n",
       "    }\n",
       "</style>\n",
       "<table border=\"1\" class=\"dataframe\">\n",
       "  <thead>\n",
       "    <tr style=\"text-align: right;\">\n",
       "      <th></th>\n",
       "      <th>type</th>\n",
       "      <th>message</th>\n",
       "      <th>tokens</th>\n",
       "    </tr>\n",
       "  </thead>\n",
       "  <tbody>\n",
       "    <tr>\n",
       "      <th>0</th>\n",
       "      <td>other</td>\n",
       "      <td>.@katie_phd alternate  'reproachful mandrill' ...</td>\n",
       "      <td>[katie_phd, alternate, reproachful, mandrill, ...</td>\n",
       "    </tr>\n",
       "    <tr>\n",
       "      <th>1</th>\n",
       "      <td>other</td>\n",
       "      <td>.@theophani can i get \"drill\" in there  it wou...</td>\n",
       "      <td>[theophani, can, i, get, drill, in, there, it,...</td>\n",
       "    </tr>\n",
       "    <tr>\n",
       "      <th>2</th>\n",
       "      <td>other</td>\n",
       "      <td>“@chrisjboyland baby mandrill paignton zoo 29t...</td>\n",
       "      <td>[chrisjboyland, baby, mandrill, paignton, zoo,...</td>\n",
       "    </tr>\n",
       "    <tr>\n",
       "      <th>3</th>\n",
       "      <td>other</td>\n",
       "      <td>“@missmya #nameanamazingband mandrill ” mint c...</td>\n",
       "      <td>[missmya, nameanamazingband, mandrill, mint, c...</td>\n",
       "    </tr>\n",
       "    <tr>\n",
       "      <th>4</th>\n",
       "      <td>other</td>\n",
       "      <td>“fat city strut” by mandrill is my new jam htt...</td>\n",
       "      <td>[fat, city, strut, by, mandrill, is, my, new, ...</td>\n",
       "    </tr>\n",
       "    <tr>\n",
       "      <th>...</th>\n",
       "      <td>...</td>\n",
       "      <td>...</td>\n",
       "      <td>...</td>\n",
       "    </tr>\n",
       "    <tr>\n",
       "      <th>8973</th>\n",
       "      <td>app</td>\n",
       "      <td>we've simplified and reduced pricing for every...</td>\n",
       "      <td>[we, ve, simplified, and, reduced, pricing, fo...</td>\n",
       "    </tr>\n",
       "    <tr>\n",
       "      <th>8974</th>\n",
       "      <td>app</td>\n",
       "      <td>we’re unifying your mandrill and mailchimp dat...</td>\n",
       "      <td>[we, re, unifying, your, mandrill, and, mailch...</td>\n",
       "    </tr>\n",
       "    <tr>\n",
       "      <th>8975</th>\n",
       "      <td>app</td>\n",
       "      <td>whaaat  i didn't know @mailchimp had an email ...</td>\n",
       "      <td>[whaaat, i, didn, t, know, mailchimp, had, an,...</td>\n",
       "    </tr>\n",
       "    <tr>\n",
       "      <th>8976</th>\n",
       "      <td>app</td>\n",
       "      <td>would like to send emails for welcome  passwor...</td>\n",
       "      <td>[would, like, to, send, emails, for, welcome, ...</td>\n",
       "    </tr>\n",
       "    <tr>\n",
       "      <th>8977</th>\n",
       "      <td>app</td>\n",
       "      <td>zapier makes mandrill integration easy | mandr...</td>\n",
       "      <td>[zapier, makes, mandrill, integration, easy, m...</td>\n",
       "    </tr>\n",
       "  </tbody>\n",
       "</table>\n",
       "<p>8978 rows × 3 columns</p>\n",
       "</div>"
      ],
      "text/plain": [
       "       type                                            message  \\\n",
       "0     other  .@katie_phd alternate  'reproachful mandrill' ...   \n",
       "1     other  .@theophani can i get \"drill\" in there  it wou...   \n",
       "2     other  “@chrisjboyland baby mandrill paignton zoo 29t...   \n",
       "3     other  “@missmya #nameanamazingband mandrill ” mint c...   \n",
       "4     other  “fat city strut” by mandrill is my new jam htt...   \n",
       "...     ...                                                ...   \n",
       "8973    app  we've simplified and reduced pricing for every...   \n",
       "8974    app  we’re unifying your mandrill and mailchimp dat...   \n",
       "8975    app  whaaat  i didn't know @mailchimp had an email ...   \n",
       "8976    app  would like to send emails for welcome  passwor...   \n",
       "8977    app  zapier makes mandrill integration easy | mandr...   \n",
       "\n",
       "                                                 tokens  \n",
       "0     [katie_phd, alternate, reproachful, mandrill, ...  \n",
       "1     [theophani, can, i, get, drill, in, there, it,...  \n",
       "2     [chrisjboyland, baby, mandrill, paignton, zoo,...  \n",
       "3     [missmya, nameanamazingband, mandrill, mint, c...  \n",
       "4     [fat, city, strut, by, mandrill, is, my, new, ...  \n",
       "...                                                 ...  \n",
       "8973  [we, ve, simplified, and, reduced, pricing, fo...  \n",
       "8974  [we, re, unifying, your, mandrill, and, mailch...  \n",
       "8975  [whaaat, i, didn, t, know, mailchimp, had, an,...  \n",
       "8976  [would, like, to, send, emails, for, welcome, ...  \n",
       "8977  [zapier, makes, mandrill, integration, easy, m...  \n",
       "\n",
       "[8978 rows x 3 columns]"
      ]
     },
     "execution_count": 39,
     "metadata": {},
     "output_type": "execute_result"
    }
   ],
   "source": [
    "# Tokenize: create words from sentences, and removes punctuation\n",
    "tokenizer = RegexpTokenizer(r'\\w+')\n",
    "data['tokens'] = data.apply(lambda x: tokenizer.tokenize(x['message']), axis = 1)\n",
    "data"
   ]
  },
  {
   "cell_type": "markdown",
   "id": "a508d4df",
   "metadata": {},
   "source": [
    "**2nd step: Elimination of stop words**: <BR>Elimination of words that normally do not add value (prepositions, conjunctions, etc.), only noise (there are exceptions, though) <BR> This is done to reduce size of our dataset (already large). \n",
    "<BR> There are many sources of stopwords in Python, for English language, Spacy has 326 words, Gensim 337, Scikit-learn 318, NLTK library, 179. \n",
    "<BR> More or less is not better in itself, you need to read them and assess whether you want to include or remove some"
   ]
  },
  {
   "cell_type": "code",
   "execution_count": 40,
   "id": "5f3b9053",
   "metadata": {},
   "outputs": [
    {
     "name": "stdout",
     "output_type": "stream",
     "text": [
      "frozenset({'themselves', 'still', 'four', 'we', 'she', 'well', 'back', 'may', 'be', 'our', 'always', 'whence', 'whether', 'to', 'part', 'nor', 'of', 'hasnt', 'name', 'therein', 'via', 'into', 'yourself', 'but', 'amount', 'seems', 'interest', 'than', 'they', 'up', 'see', 'same', 'with', 'because', 'can', 'now', 'both', 'could', 'first', 'among', 'yet', 'hence', 'never', 'detail', 'more', 'whither', 'otherwise', 'thereby', 'former', 'them', 'about', 'something', 'thru', 'amoungst', 'often', 'other', 'herself', 'whereafter', 'too', 'six', 'nobody', 'most', 'third', 'describe', 'from', 'ourselves', 'should', 'hundred', 're', 'mill', 'whenever', 'sometime', 'none', 'however', 'noone', 'cry', 'us', 'my', 'fifty', 'thence', 'anything', 'though', 'whatever', 'keep', 'on', 'also', 'were', 'forty', 'here', 'the', 'it', 'have', 'next', 'eleven', 'without', 'thereafter', 'himself', 'these', 'while', 'afterwards', 'throughout', 'whereas', 'twelve', 'another', 'only', 'whereby', 'whoever', 'been', 'before', 'has', 'thereupon', 'toward', 'was', 'until', 'when', 'is', 'everywhere', 'after', 'inc', 'around', 'beyond', 'a', 'beforehand', 'eg', 'amongst', 'less', 'de', 'and', 'latter', 'each', 'co', 'hereafter', 'such', 'below', 'others', 'yourselves', 'wherever', 'whole', 'already', 'neither', 'bottom', 'somehow', 'anywhere', 'someone', 'cannot', 'couldnt', 'top', 'get', 'since', 'twenty', 'un', 'out', 'hereby', 'onto', 'over', 'above', 'ltd', 'beside', 'either', 'under', 'everything', 'their', 'during', 'would', 'seem', 'seemed', 'sixty', 'whose', 'very', 'done', 'everyone', 'those', 'whereupon', 'although', 'within', 'must', 'who', 'any', 'empty', 'further', 'ours', 'perhaps', 'least', 'all', 'in', 'etc', 'own', 'last', 'cant', 'he', 'if', 'anyway', 'call', 'thick', 'down', 'once', 'at', 'fill', 'else', 'front', 'along', 'why', 'by', 'thus', 'become', 'his', 'her', 'alone', 'off', 'take', 'rather', 'some', 'bill', 'became', 'moreover', 'two', 'its', 'put', 'side', 'much', 'elsewhere', 'i', 'indeed', 'do', 'nine', 'made', 'anyhow', 'fire', 'sometimes', 'full', 'thin', 'becoming', 'somewhere', 'con', 'between', 'there', 'that', 'anyone', 'mine', 'whom', 'nothing', 'except', 'through', 'five', 'am', 'serious', 'ever', 'not', 'against', 'three', 'together', 'seeming', 'therefore', 'ie', 'many', 'this', 'herein', 'ten', 'for', 'as', 'you', 'namely', 'latterly', 'move', 'nowhere', 'which', 'meanwhile', 'an', 'every', 'no', 'your', 'will', 'upon', 'becomes', 'system', 'go', 'enough', 'nevertheless', 'besides', 'even', 'mostly', 'hers', 'sincere', 'give', 'are', 'how', 'had', 'found', 'across', 'then', 'several', 'where', 'so', 'yours', 'me', 'due', 'might', 'myself', 'show', 'per', 'being', 'formerly', 'please', 'wherein', 'itself', 'behind', 'fifteen', 'find', 'one', 'few', 'eight', 'hereupon', 'or', 'him', 'what', 'almost', 'towards', 'again'})\n"
     ]
    }
   ],
   "source": [
    "# These are the stop words provided by Sklearn\n",
    "from sklearn.feature_extraction import text\n",
    "print(text.ENGLISH_STOP_WORDS)"
   ]
  },
  {
   "cell_type": "code",
   "execution_count": 41,
   "id": "0a495b69",
   "metadata": {},
   "outputs": [
    {
     "name": "stdout",
     "output_type": "stream",
     "text": [
      "['i', 'me', 'my', 'myself', 'we', 'our', 'ours', 'ourselves', 'you', \"you're\", \"you've\", \"you'll\", \"you'd\", 'your', 'yours', 'yourself', 'yourselves', 'he', 'him', 'his', 'himself', 'she', \"she's\", 'her', 'hers', 'herself', 'it', \"it's\", 'its', 'itself', 'they', 'them', 'their', 'theirs', 'themselves', 'what', 'which', 'who', 'whom', 'this', 'that', \"that'll\", 'these', 'those', 'am', 'is', 'are', 'was', 'were', 'be', 'been', 'being', 'have', 'has', 'had', 'having', 'do', 'does', 'did', 'doing', 'a', 'an', 'the', 'and', 'but', 'if', 'or', 'because', 'as', 'until', 'while', 'of', 'at', 'by', 'for', 'with', 'about', 'against', 'between', 'into', 'through', 'during', 'before', 'after', 'above', 'below', 'to', 'from', 'up', 'down', 'in', 'out', 'on', 'off', 'over', 'under', 'again', 'further', 'then', 'once', 'here', 'there', 'when', 'where', 'why', 'how', 'all', 'any', 'both', 'each', 'few', 'more', 'most', 'other', 'some', 'such', 'no', 'nor', 'not', 'only', 'own', 'same', 'so', 'than', 'too', 'very', 's', 't', 'can', 'will', 'just', 'don', \"don't\", 'should', \"should've\", 'now', 'd', 'll', 'm', 'o', 're', 've', 'y', 'ain', 'aren', \"aren't\", 'couldn', \"couldn't\", 'didn', \"didn't\", 'doesn', \"doesn't\", 'hadn', \"hadn't\", 'hasn', \"hasn't\", 'haven', \"haven't\", 'isn', \"isn't\", 'ma', 'mightn', \"mightn't\", 'mustn', \"mustn't\", 'needn', \"needn't\", 'shan', \"shan't\", 'shouldn', \"shouldn't\", 'wasn', \"wasn't\", 'weren', \"weren't\", 'won', \"won't\", 'wouldn', \"wouldn't\"]\n"
     ]
    }
   ],
   "source": [
    "# These are the stop words provided by nltk, the library we will be using in this example\n",
    "from nltk.corpus import stopwords\n",
    "stop=stopwords.words('english')\n",
    "print(stopwords.words('english'))\n"
   ]
  },
  {
   "cell_type": "code",
   "execution_count": 42,
   "id": "dc9d03f5",
   "metadata": {},
   "outputs": [
    {
     "data": {
      "text/html": [
       "<div>\n",
       "<style scoped>\n",
       "    .dataframe tbody tr th:only-of-type {\n",
       "        vertical-align: middle;\n",
       "    }\n",
       "\n",
       "    .dataframe tbody tr th {\n",
       "        vertical-align: top;\n",
       "    }\n",
       "\n",
       "    .dataframe thead th {\n",
       "        text-align: right;\n",
       "    }\n",
       "</style>\n",
       "<table border=\"1\" class=\"dataframe\">\n",
       "  <thead>\n",
       "    <tr style=\"text-align: right;\">\n",
       "      <th></th>\n",
       "      <th>type</th>\n",
       "      <th>message</th>\n",
       "      <th>tokens</th>\n",
       "    </tr>\n",
       "  </thead>\n",
       "  <tbody>\n",
       "    <tr>\n",
       "      <th>0</th>\n",
       "      <td>other</td>\n",
       "      <td>.@katie_phd alternate  'reproachful mandrill' ...</td>\n",
       "      <td>[katie_phd, alternate, reproachful, mandrill, ...</td>\n",
       "    </tr>\n",
       "    <tr>\n",
       "      <th>1</th>\n",
       "      <td>other</td>\n",
       "      <td>.@theophani can i get \"drill\" in there  it wou...</td>\n",
       "      <td>[theophani, get, drill, would, picture, mandri...</td>\n",
       "    </tr>\n",
       "    <tr>\n",
       "      <th>2</th>\n",
       "      <td>other</td>\n",
       "      <td>“@chrisjboyland baby mandrill paignton zoo 29t...</td>\n",
       "      <td>[chrisjboyland, baby, mandrill, paignton, zoo,...</td>\n",
       "    </tr>\n",
       "    <tr>\n",
       "      <th>3</th>\n",
       "      <td>other</td>\n",
       "      <td>“@missmya #nameanamazingband mandrill ” mint c...</td>\n",
       "      <td>[missmya, nameanamazingband, mandrill, mint, c...</td>\n",
       "    </tr>\n",
       "    <tr>\n",
       "      <th>4</th>\n",
       "      <td>other</td>\n",
       "      <td>“fat city strut” by mandrill is my new jam htt...</td>\n",
       "      <td>[fat, city, strut, mandrill, new, jam, http, t...</td>\n",
       "    </tr>\n",
       "    <tr>\n",
       "      <th>...</th>\n",
       "      <td>...</td>\n",
       "      <td>...</td>\n",
       "      <td>...</td>\n",
       "    </tr>\n",
       "    <tr>\n",
       "      <th>8973</th>\n",
       "      <td>app</td>\n",
       "      <td>we've simplified and reduced pricing for every...</td>\n",
       "      <td>[simplified, reduced, pricing, everyone, hoora...</td>\n",
       "    </tr>\n",
       "    <tr>\n",
       "      <th>8974</th>\n",
       "      <td>app</td>\n",
       "      <td>we’re unifying your mandrill and mailchimp dat...</td>\n",
       "      <td>[unifying, mandrill, mailchimp, data, mailchim...</td>\n",
       "    </tr>\n",
       "    <tr>\n",
       "      <th>8975</th>\n",
       "      <td>app</td>\n",
       "      <td>whaaat  i didn't know @mailchimp had an email ...</td>\n",
       "      <td>[whaaat, know, mailchimp, email, delivery, api...</td>\n",
       "    </tr>\n",
       "    <tr>\n",
       "      <th>8976</th>\n",
       "      <td>app</td>\n",
       "      <td>would like to send emails for welcome  passwor...</td>\n",
       "      <td>[would, like, send, emails, welcome, password,...</td>\n",
       "    </tr>\n",
       "    <tr>\n",
       "      <th>8977</th>\n",
       "      <td>app</td>\n",
       "      <td>zapier makes mandrill integration easy | mandr...</td>\n",
       "      <td>[zapier, makes, mandrill, integration, easy, m...</td>\n",
       "    </tr>\n",
       "  </tbody>\n",
       "</table>\n",
       "<p>8978 rows × 3 columns</p>\n",
       "</div>"
      ],
      "text/plain": [
       "       type                                            message  \\\n",
       "0     other  .@katie_phd alternate  'reproachful mandrill' ...   \n",
       "1     other  .@theophani can i get \"drill\" in there  it wou...   \n",
       "2     other  “@chrisjboyland baby mandrill paignton zoo 29t...   \n",
       "3     other  “@missmya #nameanamazingband mandrill ” mint c...   \n",
       "4     other  “fat city strut” by mandrill is my new jam htt...   \n",
       "...     ...                                                ...   \n",
       "8973    app  we've simplified and reduced pricing for every...   \n",
       "8974    app  we’re unifying your mandrill and mailchimp dat...   \n",
       "8975    app  whaaat  i didn't know @mailchimp had an email ...   \n",
       "8976    app  would like to send emails for welcome  passwor...   \n",
       "8977    app  zapier makes mandrill integration easy | mandr...   \n",
       "\n",
       "                                                 tokens  \n",
       "0     [katie_phd, alternate, reproachful, mandrill, ...  \n",
       "1     [theophani, get, drill, would, picture, mandri...  \n",
       "2     [chrisjboyland, baby, mandrill, paignton, zoo,...  \n",
       "3     [missmya, nameanamazingband, mandrill, mint, c...  \n",
       "4     [fat, city, strut, mandrill, new, jam, http, t...  \n",
       "...                                                 ...  \n",
       "8973  [simplified, reduced, pricing, everyone, hoora...  \n",
       "8974  [unifying, mandrill, mailchimp, data, mailchim...  \n",
       "8975  [whaaat, know, mailchimp, email, delivery, api...  \n",
       "8976  [would, like, send, emails, welcome, password,...  \n",
       "8977  [zapier, makes, mandrill, integration, easy, m...  \n",
       "\n",
       "[8978 rows x 3 columns]"
      ]
     },
     "execution_count": 42,
     "metadata": {},
     "output_type": "execute_result"
    }
   ],
   "source": [
    "# Remove stop words\n",
    "data['tokens'] = data['tokens'].apply(lambda x: [item for item in x if item not in stop])\n",
    "data"
   ]
  },
  {
   "cell_type": "markdown",
   "id": "e9b1916c-820a-45fe-95bb-b87450e4e885",
   "metadata": {},
   "source": [
    "**3rd step: Apply stemming.** The two words that mean the same thing, but are not spelled the same\n",
    "\n",
    "**Stemming**: Stemming is a process of reducing inflected words to their word stem, base or root form. This is done by removing affixes, which are word parts that are added to the root to change its meaning or grammatical function. For example, the word \"running\" can be stemmed to \"run\" by removing the suffix \"-ing\".\n",
    "\n",
    "**Lemmatization**: It is more used in NLP projects in English, since in this language good (good), better (better) and the best (best) are completely different words. In these cases stemming would not work. Thus, the lemmatization would convert all those words to their base (good), in such a way that they come to mean the same thing. \n",
    "\n",
    "The nltk does not perform the conversion automatically unless it is given additional information about the type of word (adjective, noun, verb, etc). If you do not specify the grammatical category, the lemmatiser assumes that the words are nouns, and for nouns there is no direct association, for instance, between \"better\" and \"good\". This makes more complex the whole process, so we would not implement lemmatization in this example"
   ]
  },
  {
   "cell_type": "code",
   "execution_count": 43,
   "id": "fe38b915",
   "metadata": {},
   "outputs": [
    {
     "data": {
      "text/html": [
       "<div>\n",
       "<style scoped>\n",
       "    .dataframe tbody tr th:only-of-type {\n",
       "        vertical-align: middle;\n",
       "    }\n",
       "\n",
       "    .dataframe tbody tr th {\n",
       "        vertical-align: top;\n",
       "    }\n",
       "\n",
       "    .dataframe thead th {\n",
       "        text-align: right;\n",
       "    }\n",
       "</style>\n",
       "<table border=\"1\" class=\"dataframe\">\n",
       "  <thead>\n",
       "    <tr style=\"text-align: right;\">\n",
       "      <th></th>\n",
       "      <th>type</th>\n",
       "      <th>message</th>\n",
       "      <th>tokens</th>\n",
       "    </tr>\n",
       "  </thead>\n",
       "  <tbody>\n",
       "    <tr>\n",
       "      <th>0</th>\n",
       "      <td>other</td>\n",
       "      <td>.@katie_phd alternate  'reproachful mandrill' ...</td>\n",
       "      <td>[katie_phd, altern, reproach, mandril, cover, ...</td>\n",
       "    </tr>\n",
       "    <tr>\n",
       "      <th>1</th>\n",
       "      <td>other</td>\n",
       "      <td>.@theophani can i get \"drill\" in there  it wou...</td>\n",
       "      <td>[theophani, get, drill, would, pictur, mandril...</td>\n",
       "    </tr>\n",
       "    <tr>\n",
       "      <th>2</th>\n",
       "      <td>other</td>\n",
       "      <td>“@chrisjboyland baby mandrill paignton zoo 29t...</td>\n",
       "      <td>[chrisjboyland, babi, mandril, paignton, zoo, ...</td>\n",
       "    </tr>\n",
       "    <tr>\n",
       "      <th>3</th>\n",
       "      <td>other</td>\n",
       "      <td>“@missmya #nameanamazingband mandrill ” mint c...</td>\n",
       "      <td>[missmya, nameanamazingband, mandril, mint, co...</td>\n",
       "    </tr>\n",
       "    <tr>\n",
       "      <th>4</th>\n",
       "      <td>other</td>\n",
       "      <td>“fat city strut” by mandrill is my new jam htt...</td>\n",
       "      <td>[fat, citi, strut, mandril, new, jam, http, th...</td>\n",
       "    </tr>\n",
       "    <tr>\n",
       "      <th>...</th>\n",
       "      <td>...</td>\n",
       "      <td>...</td>\n",
       "      <td>...</td>\n",
       "    </tr>\n",
       "    <tr>\n",
       "      <th>8973</th>\n",
       "      <td>app</td>\n",
       "      <td>we've simplified and reduced pricing for every...</td>\n",
       "      <td>[simplifi, reduc, price, everyon, hooray, http...</td>\n",
       "    </tr>\n",
       "    <tr>\n",
       "      <th>8974</th>\n",
       "      <td>app</td>\n",
       "      <td>we’re unifying your mandrill and mailchimp dat...</td>\n",
       "      <td>[unifi, mandril, mailchimp, data, mailchimp, e...</td>\n",
       "    </tr>\n",
       "    <tr>\n",
       "      <th>8975</th>\n",
       "      <td>app</td>\n",
       "      <td>whaaat  i didn't know @mailchimp had an email ...</td>\n",
       "      <td>[whaaat, know, mailchimp, email, deliveri, api...</td>\n",
       "    </tr>\n",
       "    <tr>\n",
       "      <th>8976</th>\n",
       "      <td>app</td>\n",
       "      <td>would like to send emails for welcome  passwor...</td>\n",
       "      <td>[would, like, send, email, welcom, password, r...</td>\n",
       "    </tr>\n",
       "    <tr>\n",
       "      <th>8977</th>\n",
       "      <td>app</td>\n",
       "      <td>zapier makes mandrill integration easy | mandr...</td>\n",
       "      <td>[zapier, make, mandril, integr, easi, mandril,...</td>\n",
       "    </tr>\n",
       "  </tbody>\n",
       "</table>\n",
       "<p>8978 rows × 3 columns</p>\n",
       "</div>"
      ],
      "text/plain": [
       "       type                                            message  \\\n",
       "0     other  .@katie_phd alternate  'reproachful mandrill' ...   \n",
       "1     other  .@theophani can i get \"drill\" in there  it wou...   \n",
       "2     other  “@chrisjboyland baby mandrill paignton zoo 29t...   \n",
       "3     other  “@missmya #nameanamazingband mandrill ” mint c...   \n",
       "4     other  “fat city strut” by mandrill is my new jam htt...   \n",
       "...     ...                                                ...   \n",
       "8973    app  we've simplified and reduced pricing for every...   \n",
       "8974    app  we’re unifying your mandrill and mailchimp dat...   \n",
       "8975    app  whaaat  i didn't know @mailchimp had an email ...   \n",
       "8976    app  would like to send emails for welcome  passwor...   \n",
       "8977    app  zapier makes mandrill integration easy | mandr...   \n",
       "\n",
       "                                                 tokens  \n",
       "0     [katie_phd, altern, reproach, mandril, cover, ...  \n",
       "1     [theophani, get, drill, would, pictur, mandril...  \n",
       "2     [chrisjboyland, babi, mandril, paignton, zoo, ...  \n",
       "3     [missmya, nameanamazingband, mandril, mint, co...  \n",
       "4     [fat, citi, strut, mandril, new, jam, http, th...  \n",
       "...                                                 ...  \n",
       "8973  [simplifi, reduc, price, everyon, hooray, http...  \n",
       "8974  [unifi, mandril, mailchimp, data, mailchimp, e...  \n",
       "8975  [whaaat, know, mailchimp, email, deliveri, api...  \n",
       "8976  [would, like, send, email, welcom, password, r...  \n",
       "8977  [zapier, make, mandril, integr, easi, mandril,...  \n",
       "\n",
       "[8978 rows x 3 columns]"
      ]
     },
     "execution_count": 43,
     "metadata": {},
     "output_type": "execute_result"
    }
   ],
   "source": [
    "# Apply Porter stemming\n",
    "stemmer = PorterStemmer()\n",
    "data['tokens'] = data['tokens'].apply(lambda x: [stemmer.stem(item) for item in x])\n",
    "data"
   ]
  },
  {
   "cell_type": "code",
   "execution_count": 44,
   "id": "8ac076de-6bdf-445a-988b-78e0d28cd0b4",
   "metadata": {},
   "outputs": [],
   "source": [
    "# Install openpyxl\n",
    "# %pip install openpyxl\n",
    "\n",
    "# we can export it to excel\n",
    "data.to_excel(\"data.xlsx\")"
   ]
  },
  {
   "cell_type": "markdown",
   "id": "149f0a6a",
   "metadata": {},
   "source": [
    "## Naive Bayes"
   ]
  },
  {
   "cell_type": "markdown",
   "id": "03bd1a7b",
   "metadata": {},
   "source": [
    "Naive Bayes model admits two types of source data:<BR>\n",
    "\n",
    "**1. A Matrix** that shows, for each document, either how many times each of the words in all the documents has appeared or how important is the word in each document compared to the whole source of data. We will run an example first with a Matrix showing frequencies and the 2nd with the more complex one. <BR>\n",
    "**2. An array of appearances**. It is similar to a TF matrix, but in this case, instead of indicating the number of occurrences, it simply indicates whether or not that word appeared.<BR>\n",
    "<BR>If we have plenty of data, normally a Matrix is preferred"
   ]
  },
  {
   "cell_type": "markdown",
   "id": "b4f12c21",
   "metadata": {},
   "source": [
    "First, we are detokenizing the rows, that is, joining back the words, once they have been cleaned"
   ]
  },
  {
   "cell_type": "code",
   "execution_count": 45,
   "id": "b40f2e6b",
   "metadata": {},
   "outputs": [
    {
     "data": {
      "text/html": [
       "<div>\n",
       "<style scoped>\n",
       "    .dataframe tbody tr th:only-of-type {\n",
       "        vertical-align: middle;\n",
       "    }\n",
       "\n",
       "    .dataframe tbody tr th {\n",
       "        vertical-align: top;\n",
       "    }\n",
       "\n",
       "    .dataframe thead th {\n",
       "        text-align: right;\n",
       "    }\n",
       "</style>\n",
       "<table border=\"1\" class=\"dataframe\">\n",
       "  <thead>\n",
       "    <tr style=\"text-align: right;\">\n",
       "      <th></th>\n",
       "      <th>type</th>\n",
       "      <th>message</th>\n",
       "      <th>tokens</th>\n",
       "    </tr>\n",
       "  </thead>\n",
       "  <tbody>\n",
       "    <tr>\n",
       "      <th>0</th>\n",
       "      <td>other</td>\n",
       "      <td>.@katie_phd alternate  'reproachful mandrill' ...</td>\n",
       "      <td>katie_phd altern reproach mandril cover davidq...</td>\n",
       "    </tr>\n",
       "    <tr>\n",
       "      <th>1</th>\n",
       "      <td>other</td>\n",
       "      <td>.@theophani can i get \"drill\" in there  it wou...</td>\n",
       "      <td>theophani get drill would pictur mandril hold ...</td>\n",
       "    </tr>\n",
       "    <tr>\n",
       "      <th>2</th>\n",
       "      <td>other</td>\n",
       "      <td>“@chrisjboyland baby mandrill paignton zoo 29t...</td>\n",
       "      <td>chrisjboyland babi mandril paignton zoo 29th a...</td>\n",
       "    </tr>\n",
       "    <tr>\n",
       "      <th>3</th>\n",
       "      <td>other</td>\n",
       "      <td>“@missmya #nameanamazingband mandrill ” mint c...</td>\n",
       "      <td>missmya nameanamazingband mandril mint condit ...</td>\n",
       "    </tr>\n",
       "    <tr>\n",
       "      <th>4</th>\n",
       "      <td>other</td>\n",
       "      <td>“fat city strut” by mandrill is my new jam htt...</td>\n",
       "      <td>fat citi strut mandril new jam http thisismyja...</td>\n",
       "    </tr>\n",
       "    <tr>\n",
       "      <th>...</th>\n",
       "      <td>...</td>\n",
       "      <td>...</td>\n",
       "      <td>...</td>\n",
       "    </tr>\n",
       "    <tr>\n",
       "      <th>8973</th>\n",
       "      <td>app</td>\n",
       "      <td>we've simplified and reduced pricing for every...</td>\n",
       "      <td>simplifi reduc price everyon hooray http blog ...</td>\n",
       "    </tr>\n",
       "    <tr>\n",
       "      <th>8974</th>\n",
       "      <td>app</td>\n",
       "      <td>we’re unifying your mandrill and mailchimp dat...</td>\n",
       "      <td>unifi mandril mailchimp data mailchimp email m...</td>\n",
       "    </tr>\n",
       "    <tr>\n",
       "      <th>8975</th>\n",
       "      <td>app</td>\n",
       "      <td>whaaat  i didn't know @mailchimp had an email ...</td>\n",
       "      <td>whaaat know mailchimp email deliveri api servi...</td>\n",
       "    </tr>\n",
       "    <tr>\n",
       "      <th>8976</th>\n",
       "      <td>app</td>\n",
       "      <td>would like to send emails for welcome  passwor...</td>\n",
       "      <td>would like send email welcom password reset pa...</td>\n",
       "    </tr>\n",
       "    <tr>\n",
       "      <th>8977</th>\n",
       "      <td>app</td>\n",
       "      <td>zapier makes mandrill integration easy | mandr...</td>\n",
       "      <td>zapier make mandril integr easi mandril email ...</td>\n",
       "    </tr>\n",
       "  </tbody>\n",
       "</table>\n",
       "<p>8978 rows × 3 columns</p>\n",
       "</div>"
      ],
      "text/plain": [
       "       type                                            message  \\\n",
       "0     other  .@katie_phd alternate  'reproachful mandrill' ...   \n",
       "1     other  .@theophani can i get \"drill\" in there  it wou...   \n",
       "2     other  “@chrisjboyland baby mandrill paignton zoo 29t...   \n",
       "3     other  “@missmya #nameanamazingband mandrill ” mint c...   \n",
       "4     other  “fat city strut” by mandrill is my new jam htt...   \n",
       "...     ...                                                ...   \n",
       "8973    app  we've simplified and reduced pricing for every...   \n",
       "8974    app  we’re unifying your mandrill and mailchimp dat...   \n",
       "8975    app  whaaat  i didn't know @mailchimp had an email ...   \n",
       "8976    app  would like to send emails for welcome  passwor...   \n",
       "8977    app  zapier makes mandrill integration easy | mandr...   \n",
       "\n",
       "                                                 tokens  \n",
       "0     katie_phd altern reproach mandril cover davidq...  \n",
       "1     theophani get drill would pictur mandril hold ...  \n",
       "2     chrisjboyland babi mandril paignton zoo 29th a...  \n",
       "3     missmya nameanamazingband mandril mint condit ...  \n",
       "4     fat citi strut mandril new jam http thisismyja...  \n",
       "...                                                 ...  \n",
       "8973  simplifi reduc price everyon hooray http blog ...  \n",
       "8974  unifi mandril mailchimp data mailchimp email m...  \n",
       "8975  whaaat know mailchimp email deliveri api servi...  \n",
       "8976  would like send email welcom password reset pa...  \n",
       "8977  zapier make mandril integr easi mandril email ...  \n",
       "\n",
       "[8978 rows x 3 columns]"
      ]
     },
     "execution_count": 45,
     "metadata": {},
     "output_type": "execute_result"
    }
   ],
   "source": [
    "# Unify the strings once again\n",
    "data['tokens'] = data['tokens'].apply(lambda x: ' '.join(x))\n",
    "data"
   ]
  },
  {
   "cell_type": "markdown",
   "id": "38c3ab3e",
   "metadata": {},
   "source": [
    "Now we are splitting our data as always"
   ]
  },
  {
   "cell_type": "code",
   "execution_count": 46,
   "id": "e488317d",
   "metadata": {},
   "outputs": [],
   "source": [
    "from sklearn.model_selection import train_test_split\n",
    "from sklearn.feature_extraction.text import CountVectorizer\n",
    "\n",
    "# Make split\n",
    "x_train, x_test, y_train, y_test = train_test_split(\n",
    "    data['tokens'], \n",
    "    data['type'], \n",
    "    test_size= 0.2\n",
    "    )"
   ]
  },
  {
   "cell_type": "code",
   "execution_count": 47,
   "id": "681c3b34",
   "metadata": {},
   "outputs": [
    {
     "name": "stdout",
     "output_type": "stream",
     "text": [
      "Training data set size:  7182\n",
      "Testing data set size:  1796\n"
     ]
    }
   ],
   "source": [
    "print(\"Training data set size: \", len(x_train))\n",
    "print(\"Testing data set size: \", len(x_test))"
   ]
  },
  {
   "cell_type": "markdown",
   "id": "e9ad2d69",
   "metadata": {},
   "source": [
    "And here is where we create the matrix"
   ]
  },
  {
   "cell_type": "code",
   "execution_count": 48,
   "id": "aa9c5943",
   "metadata": {},
   "outputs": [],
   "source": [
    "# Create vectorizer\n",
    "vectorizer = CountVectorizer(\n",
    "    strip_accents = 'ascii', \n",
    "    lowercase = True\n",
    "    )\n",
    "\n",
    "# Fit vectorizer & transform it\n",
    "vectorizer_fit = vectorizer.fit(x_train)\n",
    "x_train_transformed = vectorizer_fit.transform(x_train)\n",
    "x_test_transformed = vectorizer_fit.transform(x_test)"
   ]
  },
  {
   "cell_type": "code",
   "execution_count": 49,
   "id": "35ee4da2",
   "metadata": {},
   "outputs": [
    {
     "data": {
      "text/plain": [
       "<Compressed Sparse Row sparse matrix of dtype 'int64'\n",
       "\twith 20258 stored elements and shape (1796, 1496)>"
      ]
     },
     "execution_count": 49,
     "metadata": {},
     "output_type": "execute_result"
    }
   ],
   "source": [
    "x_test_transformed"
   ]
  },
  {
   "cell_type": "markdown",
   "id": "a19f099b",
   "metadata": {},
   "source": [
    "Now we build the Naive Bayes model and train it"
   ]
  },
  {
   "cell_type": "code",
   "execution_count": 50,
   "id": "2846dbe1",
   "metadata": {},
   "outputs": [],
   "source": [
    "# Build the model\n",
    "from sklearn.naive_bayes import MultinomialNB\n",
    "\n",
    "# Train the model\n",
    "naive_bayes = MultinomialNB()\n",
    "naive_bayes_fit = naive_bayes.fit(x_train_transformed, y_train)"
   ]
  },
  {
   "cell_type": "markdown",
   "id": "e6f12113",
   "metadata": {},
   "source": [
    "And we make predictions"
   ]
  },
  {
   "cell_type": "code",
   "execution_count": 51,
   "id": "0d41a3bf",
   "metadata": {},
   "outputs": [],
   "source": [
    "from sklearn.metrics import confusion_matrix, balanced_accuracy_score\n",
    "\n",
    "# Make predictions\n",
    "train_predict = naive_bayes_fit.predict(x_train_transformed)\n",
    "test_predict = naive_bayes_fit.predict(x_test_transformed)\n",
    "\n",
    "def get_scores(y_real, predict):\n",
    "  ba_train = balanced_accuracy_score(y_real, predict)\n",
    "  return ba_train\n",
    "\n",
    "def print_scores(scores):\n",
    "  return f\"Balanced Accuracy: {scores}\"\n",
    "\n",
    "train_scores = get_scores(y_train, train_predict)\n",
    "test_scores = get_scores(y_test, test_predict)"
   ]
  },
  {
   "cell_type": "markdown",
   "id": "600829ba",
   "metadata": {},
   "source": [
    "This is the result"
   ]
  },
  {
   "cell_type": "code",
   "execution_count": 52,
   "id": "71a12d16",
   "metadata": {},
   "outputs": [
    {
     "name": "stdout",
     "output_type": "stream",
     "text": [
      "## Train Accuracy\n",
      "Balanced Accuracy: 0.997\n",
      "\n",
      "## Test Accuracy\n",
      "Balanced Accuracy: 0.997\n"
     ]
    }
   ],
   "source": [
    "print(\"## Train Accuracy\")\n",
    "print(print_scores(f\"{train_scores:.3f}\"))\n",
    "print(\"\\n## Test Accuracy\")\n",
    "print(print_scores(f\"{test_scores:.3f}\"))"
   ]
  },
  {
   "cell_type": "markdown",
   "id": "2f03e905",
   "metadata": {},
   "source": [
    "And the confusion matrix"
   ]
  },
  {
   "cell_type": "code",
   "execution_count": 53,
   "id": "b937c693",
   "metadata": {},
   "outputs": [
    {
     "data": {
      "image/png": "[encoded data removed]",
      "text/plain": [
       "<Figure size 640x480 with 1 Axes>"
      ]
     },
     "metadata": {},
     "output_type": "display_data"
    }
   ],
   "source": [
    "from sklearn.metrics import confusion_matrix\n",
    "import seaborn as sns\n",
    "import matplotlib.pyplot as plt\n",
    "\n",
    "mat = confusion_matrix(y_test, test_predict)\n",
    "sns.heatmap(mat.T, square=True, annot=True, fmt='d', cbar=False,\n",
    "            xticklabels=naive_bayes_fit.classes_, yticklabels=naive_bayes_fit.classes_)\n",
    "plt.xlabel('true label')\n",
    "plt.ylabel('predicted label');"
   ]
  }
 ],
 "metadata": {
  "kernelspec": {
   "display_name": ".venv",
   "language": "python",
   "name": "python3"
  },
  "language_info": {
   "codemirror_mode": {
    "name": "ipython",
    "version": 3
   },
   "file_extension": ".py",
   "mimetype": "text/x-python",
   "name": "python",
   "nbconvert_exporter": "python",
   "pygments_lexer": "ipython3",
   "version": "3.13.0"
  }
 },
 "nbformat": 4,
 "nbformat_minor": 5
}
