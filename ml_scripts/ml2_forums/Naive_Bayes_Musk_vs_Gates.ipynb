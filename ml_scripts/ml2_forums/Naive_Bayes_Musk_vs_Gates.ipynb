{
 "cells": [
  {
   "cell_type": "markdown",
   "id": "d56f3b7e",
   "metadata": {},
   "source": [
    "# Naive Bayes for text classification"
   ]
  },
  {
   "cell_type": "markdown",
   "id": "bbe74e0e",
   "metadata": {},
   "source": [
    "## Setup"
   ]
  },
  {
   "cell_type": "markdown",
   "id": "a3d0165e",
   "metadata": {},
   "source": [
    "### Read data"
   ]
  },
  {
   "cell_type": "code",
   "execution_count": 35,
   "id": "e76203e8-3d02-46e7-95bc-a472d791f09e",
   "metadata": {},
   "outputs": [],
   "source": [
    "import warnings\n",
    "warnings.filterwarnings(\"ignore\")"
   ]
  },
  {
   "cell_type": "code",
   "execution_count": 36,
   "id": "51adefc0",
   "metadata": {},
   "outputs": [
    {
     "data": {
      "text/html": [
       "<div>\n",
       "<style scoped>\n",
       "    .dataframe tbody tr th:only-of-type {\n",
       "        vertical-align: middle;\n",
       "    }\n",
       "\n",
       "    .dataframe tbody tr th {\n",
       "        vertical-align: top;\n",
       "    }\n",
       "\n",
       "    .dataframe thead th {\n",
       "        text-align: right;\n",
       "    }\n",
       "</style>\n",
       "<table border=\"1\" class=\"dataframe\">\n",
       "  <thead>\n",
       "    <tr style=\"text-align: right;\">\n",
       "      <th></th>\n",
       "      <th>type</th>\n",
       "      <th>message</th>\n",
       "    </tr>\n",
       "  </thead>\n",
       "  <tbody>\n",
       "    <tr>\n",
       "      <th>0</th>\n",
       "      <td>BillGates</td>\n",
       "      <td>My favorite magazine makes a good case for inv...</td>\n",
       "    </tr>\n",
       "    <tr>\n",
       "      <th>1</th>\n",
       "      <td>BillGates</td>\n",
       "      <td>Health is getting better around the world—but ...</td>\n",
       "    </tr>\n",
       "    <tr>\n",
       "      <th>2</th>\n",
       "      <td>BillGates</td>\n",
       "      <td>Federal funding plays a critical role in R&amp;amp...</td>\n",
       "    </tr>\n",
       "    <tr>\n",
       "      <th>3</th>\n",
       "      <td>BillGates</td>\n",
       "      <td>@jeremys Glad to see those intern BBQs made a ...</td>\n",
       "    </tr>\n",
       "    <tr>\n",
       "      <th>4</th>\n",
       "      <td>BillGates</td>\n",
       "      <td>The Global Water Crisis is Also a Sanitation C...</td>\n",
       "    </tr>\n",
       "    <tr>\n",
       "      <th>...</th>\n",
       "      <td>...</td>\n",
       "      <td>...</td>\n",
       "    </tr>\n",
       "    <tr>\n",
       "      <th>4759</th>\n",
       "      <td>elonmusk</td>\n",
       "      <td>@Nezheim @jbmeicher sure :)</td>\n",
       "    </tr>\n",
       "    <tr>\n",
       "      <th>4760</th>\n",
       "      <td>elonmusk</td>\n",
       "      <td>@UKPJD Similar to SpaceX, the T is like a cros...</td>\n",
       "    </tr>\n",
       "    <tr>\n",
       "      <th>4761</th>\n",
       "      <td>elonmusk</td>\n",
       "      <td>@HBL_Cosmin Wait until you see the real steeri...</td>\n",
       "    </tr>\n",
       "    <tr>\n",
       "      <th>4762</th>\n",
       "      <td>elonmusk</td>\n",
       "      <td>We are definitely patenting this idea https://...</td>\n",
       "    </tr>\n",
       "    <tr>\n",
       "      <th>4763</th>\n",
       "      <td>elonmusk</td>\n",
       "      <td>@rocketrepreneur Meant to say 200 AR for produ...</td>\n",
       "    </tr>\n",
       "  </tbody>\n",
       "</table>\n",
       "<p>4764 rows × 2 columns</p>\n",
       "</div>"
      ],
      "text/plain": [
       "           type                                            message\n",
       "0     BillGates  My favorite magazine makes a good case for inv...\n",
       "1     BillGates  Health is getting better around the world—but ...\n",
       "2     BillGates  Federal funding plays a critical role in R&amp...\n",
       "3     BillGates  @jeremys Glad to see those intern BBQs made a ...\n",
       "4     BillGates  The Global Water Crisis is Also a Sanitation C...\n",
       "...         ...                                                ...\n",
       "4759   elonmusk                        @Nezheim @jbmeicher sure :)\n",
       "4760   elonmusk  @UKPJD Similar to SpaceX, the T is like a cros...\n",
       "4761   elonmusk  @HBL_Cosmin Wait until you see the real steeri...\n",
       "4762   elonmusk  We are definitely patenting this idea https://...\n",
       "4763   elonmusk  @rocketrepreneur Meant to say 200 AR for produ...\n",
       "\n",
       "[4764 rows x 2 columns]"
      ]
     },
     "execution_count": 36,
     "metadata": {},
     "output_type": "execute_result"
    }
   ],
   "source": [
    "# ! pip install requests\n",
    "import requests \n",
    "import zipfile\n",
    "import pandas as pd\n",
    "import os\n",
    "\n",
    "# Define the data folder and file path\n",
    "data_file = 'muskGates.tsv'\n",
    "\n",
    "\n",
    "# Read Dataset\n",
    "data = pd.read_table(data_file, \n",
    "                     header = 0,\n",
    "                     names = ['type', 'message']\n",
    "                     )\n",
    "\n",
    "# Show dataset\n",
    "data"
   ]
  },
  {
   "cell_type": "markdown",
   "id": "6e930345",
   "metadata": {},
   "source": [
    "#### Install the language toolkit"
   ]
  },
  {
   "cell_type": "code",
   "execution_count": 37,
   "id": "c46e7d4b",
   "metadata": {},
   "outputs": [
    {
     "name": "stderr",
     "output_type": "stream",
     "text": [
      "[nltk_data] Downloading package punkt to /Users/nerea/nltk_data...\n",
      "[nltk_data]   Package punkt is already up-to-date!\n",
      "[nltk_data] Downloading package stopwords to /Users/nerea/nltk_data...\n",
      "[nltk_data]   Package stopwords is already up-to-date!\n"
     ]
    }
   ],
   "source": [
    "# NLTK: Natural Language Toolkit\n",
    "import nltk\n",
    "nltk.download('punkt')\n",
    "nltk.download('stopwords')\n",
    "from nltk.stem.porter import *\n",
    "from nltk.stem import WordNetLemmatizer\n",
    "from nltk.tokenize import RegexpTokenizer"
   ]
  },
  {
   "cell_type": "markdown",
   "id": "84c8d218",
   "metadata": {},
   "source": [
    "### **Tokenization:**"
   ]
  },
  {
   "cell_type": "code",
   "execution_count": 38,
   "id": "a0ec412c",
   "metadata": {},
   "outputs": [
    {
     "data": {
      "text/html": [
       "<div>\n",
       "<style scoped>\n",
       "    .dataframe tbody tr th:only-of-type {\n",
       "        vertical-align: middle;\n",
       "    }\n",
       "\n",
       "    .dataframe tbody tr th {\n",
       "        vertical-align: top;\n",
       "    }\n",
       "\n",
       "    .dataframe thead th {\n",
       "        text-align: right;\n",
       "    }\n",
       "</style>\n",
       "<table border=\"1\" class=\"dataframe\">\n",
       "  <thead>\n",
       "    <tr style=\"text-align: right;\">\n",
       "      <th></th>\n",
       "      <th>type</th>\n",
       "      <th>message</th>\n",
       "      <th>tokens</th>\n",
       "    </tr>\n",
       "  </thead>\n",
       "  <tbody>\n",
       "    <tr>\n",
       "      <th>0</th>\n",
       "      <td>BillGates</td>\n",
       "      <td>My favorite magazine makes a good case for inv...</td>\n",
       "      <td>[My, favorite, magazine, makes, a, good, case,...</td>\n",
       "    </tr>\n",
       "    <tr>\n",
       "      <th>1</th>\n",
       "      <td>BillGates</td>\n",
       "      <td>Health is getting better around the world—but ...</td>\n",
       "      <td>[Health, is, getting, better, around, the, wor...</td>\n",
       "    </tr>\n",
       "    <tr>\n",
       "      <th>2</th>\n",
       "      <td>BillGates</td>\n",
       "      <td>Federal funding plays a critical role in R&amp;amp...</td>\n",
       "      <td>[Federal, funding, plays, a, critical, role, i...</td>\n",
       "    </tr>\n",
       "    <tr>\n",
       "      <th>3</th>\n",
       "      <td>BillGates</td>\n",
       "      <td>@jeremys Glad to see those intern BBQs made a ...</td>\n",
       "      <td>[jeremys, Glad, to, see, those, intern, BBQs, ...</td>\n",
       "    </tr>\n",
       "    <tr>\n",
       "      <th>4</th>\n",
       "      <td>BillGates</td>\n",
       "      <td>The Global Water Crisis is Also a Sanitation C...</td>\n",
       "      <td>[The, Global, Water, Crisis, is, Also, a, Sani...</td>\n",
       "    </tr>\n",
       "    <tr>\n",
       "      <th>...</th>\n",
       "      <td>...</td>\n",
       "      <td>...</td>\n",
       "      <td>...</td>\n",
       "    </tr>\n",
       "    <tr>\n",
       "      <th>4759</th>\n",
       "      <td>elonmusk</td>\n",
       "      <td>@Nezheim @jbmeicher sure :)</td>\n",
       "      <td>[Nezheim, jbmeicher, sure]</td>\n",
       "    </tr>\n",
       "    <tr>\n",
       "      <th>4760</th>\n",
       "      <td>elonmusk</td>\n",
       "      <td>@UKPJD Similar to SpaceX, the T is like a cros...</td>\n",
       "      <td>[UKPJD, Similar, to, SpaceX, the, T, is, like,...</td>\n",
       "    </tr>\n",
       "    <tr>\n",
       "      <th>4761</th>\n",
       "      <td>elonmusk</td>\n",
       "      <td>@HBL_Cosmin Wait until you see the real steeri...</td>\n",
       "      <td>[HBL_Cosmin, Wait, until, you, see, the, real,...</td>\n",
       "    </tr>\n",
       "    <tr>\n",
       "      <th>4762</th>\n",
       "      <td>elonmusk</td>\n",
       "      <td>We are definitely patenting this idea https://...</td>\n",
       "      <td>[We, are, definitely, patenting, this, idea, h...</td>\n",
       "    </tr>\n",
       "    <tr>\n",
       "      <th>4763</th>\n",
       "      <td>elonmusk</td>\n",
       "      <td>@rocketrepreneur Meant to say 200 AR for produ...</td>\n",
       "      <td>[rocketrepreneur, Meant, to, say, 200, AR, for...</td>\n",
       "    </tr>\n",
       "  </tbody>\n",
       "</table>\n",
       "<p>4764 rows × 3 columns</p>\n",
       "</div>"
      ],
      "text/plain": [
       "           type                                            message  \\\n",
       "0     BillGates  My favorite magazine makes a good case for inv...   \n",
       "1     BillGates  Health is getting better around the world—but ...   \n",
       "2     BillGates  Federal funding plays a critical role in R&amp...   \n",
       "3     BillGates  @jeremys Glad to see those intern BBQs made a ...   \n",
       "4     BillGates  The Global Water Crisis is Also a Sanitation C...   \n",
       "...         ...                                                ...   \n",
       "4759   elonmusk                        @Nezheim @jbmeicher sure :)   \n",
       "4760   elonmusk  @UKPJD Similar to SpaceX, the T is like a cros...   \n",
       "4761   elonmusk  @HBL_Cosmin Wait until you see the real steeri...   \n",
       "4762   elonmusk  We are definitely patenting this idea https://...   \n",
       "4763   elonmusk  @rocketrepreneur Meant to say 200 AR for produ...   \n",
       "\n",
       "                                                 tokens  \n",
       "0     [My, favorite, magazine, makes, a, good, case,...  \n",
       "1     [Health, is, getting, better, around, the, wor...  \n",
       "2     [Federal, funding, plays, a, critical, role, i...  \n",
       "3     [jeremys, Glad, to, see, those, intern, BBQs, ...  \n",
       "4     [The, Global, Water, Crisis, is, Also, a, Sani...  \n",
       "...                                                 ...  \n",
       "4759                         [Nezheim, jbmeicher, sure]  \n",
       "4760  [UKPJD, Similar, to, SpaceX, the, T, is, like,...  \n",
       "4761  [HBL_Cosmin, Wait, until, you, see, the, real,...  \n",
       "4762  [We, are, definitely, patenting, this, idea, h...  \n",
       "4763  [rocketrepreneur, Meant, to, say, 200, AR, for...  \n",
       "\n",
       "[4764 rows x 3 columns]"
      ]
     },
     "execution_count": 38,
     "metadata": {},
     "output_type": "execute_result"
    }
   ],
   "source": [
    "# Tokenize: create words from sentences, and removes punctuation\n",
    "tokenizer = RegexpTokenizer(r'\\w+')\n",
    "data['tokens'] = data.apply(lambda x: tokenizer.tokenize(x['message']), axis = 1)\n",
    "data"
   ]
  },
  {
   "cell_type": "markdown",
   "id": "a508d4df",
   "metadata": {},
   "source": [
    "### **Elimination of stop words**:"
   ]
  },
  {
   "cell_type": "code",
   "execution_count": 39,
   "id": "5f3b9053",
   "metadata": {},
   "outputs": [
    {
     "name": "stdout",
     "output_type": "stream",
     "text": [
      "frozenset({'its', 'yourself', 'ie', 'such', 'front', 'may', 'has', 'she', 'sometime', 'six', 'anyway', 'latter', 'sincere', 'meanwhile', 'something', 'you', 'against', 'so', 'same', 'move', 'eleven', 'within', 'or', 'whether', 'mostly', 'well', 'became', 'done', 'throughout', 'further', 'mine', 'cant', 'cry', 'of', 'sometimes', 'only', 'seemed', 'system', 'alone', 'whole', 'third', 'fifteen', 'was', 'part', 'everywhere', 'become', 'often', 'onto', 'whereby', 'few', 'these', 'what', 'among', 'towards', 'hereby', 'hereupon', 'but', 'con', 'couldnt', 'an', 'beforehand', 'thereby', 'whenever', 'therefore', 'were', 'nobody', 'un', 'de', 'can', 'via', 'nor', 'fifty', 'see', 'is', 'whither', 'herein', 'somewhere', 'him', 'due', 'thin', 'am', 'all', 'whereafter', 'everything', 'seem', 'out', 'herself', 'describe', 'thereupon', 'could', 'even', 'our', 'beyond', 'elsewhere', 'namely', 'never', 'by', 'less', 'find', 'two', 'a', 'though', 'will', 'during', 'very', 'however', 'how', 'found', 'get', 'already', 'several', 'seeming', 'themselves', 'more', 'next', 'behind', 'last', 'and', 'after', 'although', 'neither', 'thus', 'fire', 'sixty', 'else', 'serious', 'thence', 'wherein', 'former', 'rather', 'nine', 'to', 'hasnt', 'ltd', 'me', 'been', 'no', 'hundred', 'whom', 're', 'put', 'nothing', 'mill', 'under', 'why', 'also', 'noone', 'five', 'it', 'some', 'anywhere', 'latterly', 'keep', 'he', 'below', 'moreover', 'from', 'might', 'into', 'much', 'itself', 'one', 'co', 'becomes', 'upon', 'empty', 'go', 'beside', 'others', 'ourselves', 'than', 'thereafter', 'whose', 'amount', 'on', 'too', 'fill', 'full', 'enough', 'anything', 'each', 'they', 'must', 'top', 'who', 'anyhow', 'eight', 'hers', 'around', 'formerly', 'because', 'everyone', 'otherwise', 'when', 'twelve', 'interest', 'along', 'nevertheless', 'three', 'amoungst', 'would', 'whence', 'ever', 'thru', 'as', 'detail', 'my', 'at', 'then', 'most', 'yet', 'above', 'bill', 'for', 'i', 'whereas', 'since', 'this', 'while', 'thick', 'whoever', 'becoming', 'except', 'indeed', 'least', 'both', 'cannot', 'four', 'us', 'between', 'yourselves', 'before', 'forty', 'about', 'off', 'inc', 'hence', 'many', 'call', 'her', 'them', 'your', 'ten', 'across', 'nowhere', 'his', 'until', 'whatever', 'had', 'through', 'whereupon', 'once', 'have', 'besides', 'therein', 'first', 'every', 'which', 'seems', 'etc', 'made', 'still', 'there', 'eg', 'afterwards', 'twenty', 'are', 'per', 'again', 'with', 'none', 'please', 'bottom', 'hereafter', 'where', 'not', 'their', 'somehow', 'be', 'down', 'back', 'anyone', 'here', 'side', 'that', 'almost', 'perhaps', 'another', 'together', 'amongst', 'over', 'yours', 'myself', 'should', 'if', 'someone', 'in', 'show', 'do', 'toward', 'up', 'always', 'other', 'give', 'name', 'either', 'we', 'the', 'without', 'wherever', 'own', 'any', 'being', 'take', 'those', 'ours', 'now', 'himself'})\n"
     ]
    }
   ],
   "source": [
    "# These are the stop words provided by Sklearn\n",
    "from sklearn.feature_extraction import text\n",
    "print(text.ENGLISH_STOP_WORDS)"
   ]
  },
  {
   "cell_type": "code",
   "execution_count": 40,
   "id": "0a495b69",
   "metadata": {},
   "outputs": [
    {
     "name": "stdout",
     "output_type": "stream",
     "text": [
      "['i', 'me', 'my', 'myself', 'we', 'our', 'ours', 'ourselves', 'you', \"you're\", \"you've\", \"you'll\", \"you'd\", 'your', 'yours', 'yourself', 'yourselves', 'he', 'him', 'his', 'himself', 'she', \"she's\", 'her', 'hers', 'herself', 'it', \"it's\", 'its', 'itself', 'they', 'them', 'their', 'theirs', 'themselves', 'what', 'which', 'who', 'whom', 'this', 'that', \"that'll\", 'these', 'those', 'am', 'is', 'are', 'was', 'were', 'be', 'been', 'being', 'have', 'has', 'had', 'having', 'do', 'does', 'did', 'doing', 'a', 'an', 'the', 'and', 'but', 'if', 'or', 'because', 'as', 'until', 'while', 'of', 'at', 'by', 'for', 'with', 'about', 'against', 'between', 'into', 'through', 'during', 'before', 'after', 'above', 'below', 'to', 'from', 'up', 'down', 'in', 'out', 'on', 'off', 'over', 'under', 'again', 'further', 'then', 'once', 'here', 'there', 'when', 'where', 'why', 'how', 'all', 'any', 'both', 'each', 'few', 'more', 'most', 'other', 'some', 'such', 'no', 'nor', 'not', 'only', 'own', 'same', 'so', 'than', 'too', 'very', 's', 't', 'can', 'will', 'just', 'don', \"don't\", 'should', \"should've\", 'now', 'd', 'll', 'm', 'o', 're', 've', 'y', 'ain', 'aren', \"aren't\", 'couldn', \"couldn't\", 'didn', \"didn't\", 'doesn', \"doesn't\", 'hadn', \"hadn't\", 'hasn', \"hasn't\", 'haven', \"haven't\", 'isn', \"isn't\", 'ma', 'mightn', \"mightn't\", 'mustn', \"mustn't\", 'needn', \"needn't\", 'shan', \"shan't\", 'shouldn', \"shouldn't\", 'wasn', \"wasn't\", 'weren', \"weren't\", 'won', \"won't\", 'wouldn', \"wouldn't\"]\n"
     ]
    }
   ],
   "source": [
    "# These are the stop words provided by nltk, the library we will be using in this example\n",
    "from nltk.corpus import stopwords\n",
    "stop=stopwords.words('english')\n",
    "print(stopwords.words('english'))\n"
   ]
  },
  {
   "cell_type": "code",
   "execution_count": 41,
   "id": "dc9d03f5",
   "metadata": {},
   "outputs": [
    {
     "data": {
      "text/html": [
       "<div>\n",
       "<style scoped>\n",
       "    .dataframe tbody tr th:only-of-type {\n",
       "        vertical-align: middle;\n",
       "    }\n",
       "\n",
       "    .dataframe tbody tr th {\n",
       "        vertical-align: top;\n",
       "    }\n",
       "\n",
       "    .dataframe thead th {\n",
       "        text-align: right;\n",
       "    }\n",
       "</style>\n",
       "<table border=\"1\" class=\"dataframe\">\n",
       "  <thead>\n",
       "    <tr style=\"text-align: right;\">\n",
       "      <th></th>\n",
       "      <th>type</th>\n",
       "      <th>message</th>\n",
       "      <th>tokens</th>\n",
       "    </tr>\n",
       "  </thead>\n",
       "  <tbody>\n",
       "    <tr>\n",
       "      <th>0</th>\n",
       "      <td>BillGates</td>\n",
       "      <td>My favorite magazine makes a good case for inv...</td>\n",
       "      <td>[My, favorite, magazine, makes, good, case, in...</td>\n",
       "    </tr>\n",
       "    <tr>\n",
       "      <th>1</th>\n",
       "      <td>BillGates</td>\n",
       "      <td>Health is getting better around the world—but ...</td>\n",
       "      <td>[Health, getting, better, around, world, progr...</td>\n",
       "    </tr>\n",
       "    <tr>\n",
       "      <th>2</th>\n",
       "      <td>BillGates</td>\n",
       "      <td>Federal funding plays a critical role in R&amp;amp...</td>\n",
       "      <td>[Federal, funding, plays, critical, role, R, a...</td>\n",
       "    </tr>\n",
       "    <tr>\n",
       "      <th>3</th>\n",
       "      <td>BillGates</td>\n",
       "      <td>@jeremys Glad to see those intern BBQs made a ...</td>\n",
       "      <td>[jeremys, Glad, see, intern, BBQs, made, lasti...</td>\n",
       "    </tr>\n",
       "    <tr>\n",
       "      <th>4</th>\n",
       "      <td>BillGates</td>\n",
       "      <td>The Global Water Crisis is Also a Sanitation C...</td>\n",
       "      <td>[The, Global, Water, Crisis, Also, Sanitation,...</td>\n",
       "    </tr>\n",
       "    <tr>\n",
       "      <th>...</th>\n",
       "      <td>...</td>\n",
       "      <td>...</td>\n",
       "      <td>...</td>\n",
       "    </tr>\n",
       "    <tr>\n",
       "      <th>4759</th>\n",
       "      <td>elonmusk</td>\n",
       "      <td>@Nezheim @jbmeicher sure :)</td>\n",
       "      <td>[Nezheim, jbmeicher, sure]</td>\n",
       "    </tr>\n",
       "    <tr>\n",
       "      <th>4760</th>\n",
       "      <td>elonmusk</td>\n",
       "      <td>@UKPJD Similar to SpaceX, the T is like a cros...</td>\n",
       "      <td>[UKPJD, Similar, SpaceX, T, like, cross, secti...</td>\n",
       "    </tr>\n",
       "    <tr>\n",
       "      <th>4761</th>\n",
       "      <td>elonmusk</td>\n",
       "      <td>@HBL_Cosmin Wait until you see the real steeri...</td>\n",
       "      <td>[HBL_Cosmin, Wait, see, real, steering, contro...</td>\n",
       "    </tr>\n",
       "    <tr>\n",
       "      <th>4762</th>\n",
       "      <td>elonmusk</td>\n",
       "      <td>We are definitely patenting this idea https://...</td>\n",
       "      <td>[We, definitely, patenting, idea, https, co, N...</td>\n",
       "    </tr>\n",
       "    <tr>\n",
       "      <th>4763</th>\n",
       "      <td>elonmusk</td>\n",
       "      <td>@rocketrepreneur Meant to say 200 AR for produ...</td>\n",
       "      <td>[rocketrepreneur, Meant, say, 200, AR, product...</td>\n",
       "    </tr>\n",
       "  </tbody>\n",
       "</table>\n",
       "<p>4764 rows × 3 columns</p>\n",
       "</div>"
      ],
      "text/plain": [
       "           type                                            message  \\\n",
       "0     BillGates  My favorite magazine makes a good case for inv...   \n",
       "1     BillGates  Health is getting better around the world—but ...   \n",
       "2     BillGates  Federal funding plays a critical role in R&amp...   \n",
       "3     BillGates  @jeremys Glad to see those intern BBQs made a ...   \n",
       "4     BillGates  The Global Water Crisis is Also a Sanitation C...   \n",
       "...         ...                                                ...   \n",
       "4759   elonmusk                        @Nezheim @jbmeicher sure :)   \n",
       "4760   elonmusk  @UKPJD Similar to SpaceX, the T is like a cros...   \n",
       "4761   elonmusk  @HBL_Cosmin Wait until you see the real steeri...   \n",
       "4762   elonmusk  We are definitely patenting this idea https://...   \n",
       "4763   elonmusk  @rocketrepreneur Meant to say 200 AR for produ...   \n",
       "\n",
       "                                                 tokens  \n",
       "0     [My, favorite, magazine, makes, good, case, in...  \n",
       "1     [Health, getting, better, around, world, progr...  \n",
       "2     [Federal, funding, plays, critical, role, R, a...  \n",
       "3     [jeremys, Glad, see, intern, BBQs, made, lasti...  \n",
       "4     [The, Global, Water, Crisis, Also, Sanitation,...  \n",
       "...                                                 ...  \n",
       "4759                         [Nezheim, jbmeicher, sure]  \n",
       "4760  [UKPJD, Similar, SpaceX, T, like, cross, secti...  \n",
       "4761  [HBL_Cosmin, Wait, see, real, steering, contro...  \n",
       "4762  [We, definitely, patenting, idea, https, co, N...  \n",
       "4763  [rocketrepreneur, Meant, say, 200, AR, product...  \n",
       "\n",
       "[4764 rows x 3 columns]"
      ]
     },
     "execution_count": 41,
     "metadata": {},
     "output_type": "execute_result"
    }
   ],
   "source": [
    "# Remove stop words\n",
    "data['tokens'] = data['tokens'].apply(lambda x: [item for item in x if item not in stop])\n",
    "data"
   ]
  },
  {
   "cell_type": "markdown",
   "id": "e9b1916c-820a-45fe-95bb-b87450e4e885",
   "metadata": {},
   "source": [
    "**3rd step: Apply stemming.** The two words that mean the same thing, but are not spelled the same\n",
    "\n",
    "**Stemming**: Stemming is a process of reducing inflected words to their word stem, base or root form. This is done by removing affixes, which are word parts that are added to the root to change its meaning or grammatical function. For example, the word \"running\" can be stemmed to \"run\" by removing the suffix \"-ing\".\n",
    "\n",
    "**Lemmatization**: It is more used in NLP projects in English, since in this language good (good), better (better) and the best (best) are completely different words. In these cases stemming would not work. Thus, the lemmatization would convert all those words to their base (good), in such a way that they come to mean the same thing. \n",
    "\n",
    "The nltk does not perform the conversion automatically unless it is given additional information about the type of word (adjective, noun, verb, etc). If you do not specify the grammatical category, the lemmatiser assumes that the words are nouns, and for nouns there is no direct association, for instance, between \"better\" and \"good\". This makes more complex the whole process, so we would not implement lemmatization in this example"
   ]
  },
  {
   "cell_type": "code",
   "execution_count": 42,
   "id": "fe38b915",
   "metadata": {},
   "outputs": [
    {
     "data": {
      "text/html": [
       "<div>\n",
       "<style scoped>\n",
       "    .dataframe tbody tr th:only-of-type {\n",
       "        vertical-align: middle;\n",
       "    }\n",
       "\n",
       "    .dataframe tbody tr th {\n",
       "        vertical-align: top;\n",
       "    }\n",
       "\n",
       "    .dataframe thead th {\n",
       "        text-align: right;\n",
       "    }\n",
       "</style>\n",
       "<table border=\"1\" class=\"dataframe\">\n",
       "  <thead>\n",
       "    <tr style=\"text-align: right;\">\n",
       "      <th></th>\n",
       "      <th>type</th>\n",
       "      <th>message</th>\n",
       "      <th>tokens</th>\n",
       "    </tr>\n",
       "  </thead>\n",
       "  <tbody>\n",
       "    <tr>\n",
       "      <th>0</th>\n",
       "      <td>BillGates</td>\n",
       "      <td>My favorite magazine makes a good case for inv...</td>\n",
       "      <td>[my, favorit, magazin, make, good, case, inves...</td>\n",
       "    </tr>\n",
       "    <tr>\n",
       "      <th>1</th>\n",
       "      <td>BillGates</td>\n",
       "      <td>Health is getting better around the world—but ...</td>\n",
       "      <td>[health, get, better, around, world, progress,...</td>\n",
       "    </tr>\n",
       "    <tr>\n",
       "      <th>2</th>\n",
       "      <td>BillGates</td>\n",
       "      <td>Federal funding plays a critical role in R&amp;amp...</td>\n",
       "      <td>[feder, fund, play, critic, role, r, amp, d, i...</td>\n",
       "    </tr>\n",
       "    <tr>\n",
       "      <th>3</th>\n",
       "      <td>BillGates</td>\n",
       "      <td>@jeremys Glad to see those intern BBQs made a ...</td>\n",
       "      <td>[jeremi, glad, see, intern, bbq, made, last, i...</td>\n",
       "    </tr>\n",
       "    <tr>\n",
       "      <th>4</th>\n",
       "      <td>BillGates</td>\n",
       "      <td>The Global Water Crisis is Also a Sanitation C...</td>\n",
       "      <td>[the, global, water, crisi, also, sanit, crisi...</td>\n",
       "    </tr>\n",
       "    <tr>\n",
       "      <th>...</th>\n",
       "      <td>...</td>\n",
       "      <td>...</td>\n",
       "      <td>...</td>\n",
       "    </tr>\n",
       "    <tr>\n",
       "      <th>4759</th>\n",
       "      <td>elonmusk</td>\n",
       "      <td>@Nezheim @jbmeicher sure :)</td>\n",
       "      <td>[nezheim, jbmeicher, sure]</td>\n",
       "    </tr>\n",
       "    <tr>\n",
       "      <th>4760</th>\n",
       "      <td>elonmusk</td>\n",
       "      <td>@UKPJD Similar to SpaceX, the T is like a cros...</td>\n",
       "      <td>[ukpjd, similar, spacex, t, like, cross, secti...</td>\n",
       "    </tr>\n",
       "    <tr>\n",
       "      <th>4761</th>\n",
       "      <td>elonmusk</td>\n",
       "      <td>@HBL_Cosmin Wait until you see the real steeri...</td>\n",
       "      <td>[hbl_cosmin, wait, see, real, steer, control, ...</td>\n",
       "    </tr>\n",
       "    <tr>\n",
       "      <th>4762</th>\n",
       "      <td>elonmusk</td>\n",
       "      <td>We are definitely patenting this idea https://...</td>\n",
       "      <td>[we, definit, patent, idea, http, co, n46cvn9ux9]</td>\n",
       "    </tr>\n",
       "    <tr>\n",
       "      <th>4763</th>\n",
       "      <td>elonmusk</td>\n",
       "      <td>@rocketrepreneur Meant to say 200 AR for produ...</td>\n",
       "      <td>[rocketrepreneur, meant, say, 200, ar, product...</td>\n",
       "    </tr>\n",
       "  </tbody>\n",
       "</table>\n",
       "<p>4764 rows × 3 columns</p>\n",
       "</div>"
      ],
      "text/plain": [
       "           type                                            message  \\\n",
       "0     BillGates  My favorite magazine makes a good case for inv...   \n",
       "1     BillGates  Health is getting better around the world—but ...   \n",
       "2     BillGates  Federal funding plays a critical role in R&amp...   \n",
       "3     BillGates  @jeremys Glad to see those intern BBQs made a ...   \n",
       "4     BillGates  The Global Water Crisis is Also a Sanitation C...   \n",
       "...         ...                                                ...   \n",
       "4759   elonmusk                        @Nezheim @jbmeicher sure :)   \n",
       "4760   elonmusk  @UKPJD Similar to SpaceX, the T is like a cros...   \n",
       "4761   elonmusk  @HBL_Cosmin Wait until you see the real steeri...   \n",
       "4762   elonmusk  We are definitely patenting this idea https://...   \n",
       "4763   elonmusk  @rocketrepreneur Meant to say 200 AR for produ...   \n",
       "\n",
       "                                                 tokens  \n",
       "0     [my, favorit, magazin, make, good, case, inves...  \n",
       "1     [health, get, better, around, world, progress,...  \n",
       "2     [feder, fund, play, critic, role, r, amp, d, i...  \n",
       "3     [jeremi, glad, see, intern, bbq, made, last, i...  \n",
       "4     [the, global, water, crisi, also, sanit, crisi...  \n",
       "...                                                 ...  \n",
       "4759                         [nezheim, jbmeicher, sure]  \n",
       "4760  [ukpjd, similar, spacex, t, like, cross, secti...  \n",
       "4761  [hbl_cosmin, wait, see, real, steer, control, ...  \n",
       "4762  [we, definit, patent, idea, http, co, n46cvn9ux9]  \n",
       "4763  [rocketrepreneur, meant, say, 200, ar, product...  \n",
       "\n",
       "[4764 rows x 3 columns]"
      ]
     },
     "execution_count": 42,
     "metadata": {},
     "output_type": "execute_result"
    }
   ],
   "source": [
    "# Apply Porter stemming\n",
    "stemmer = PorterStemmer()\n",
    "data['tokens'] = data['tokens'].apply(lambda x: [stemmer.stem(item) for item in x])\n",
    "data"
   ]
  },
  {
   "cell_type": "code",
   "execution_count": 43,
   "id": "8ac076de-6bdf-445a-988b-78e0d28cd0b4",
   "metadata": {},
   "outputs": [],
   "source": [
    "# Install openpyxl\n",
    "# %pip install openpyxl\n",
    "\n",
    "# we can export it to excel\n",
    "data.to_excel(\"data.xlsx\")"
   ]
  },
  {
   "cell_type": "markdown",
   "id": "149f0a6a",
   "metadata": {},
   "source": [
    "## Naive Bayes Model"
   ]
  },
  {
   "cell_type": "markdown",
   "id": "03bd1a7b",
   "metadata": {},
   "source": [
    "### Naive Bayes model input"
   ]
  },
  {
   "cell_type": "markdown",
   "id": "b4f12c21",
   "metadata": {},
   "source": [
    "First, we are detokenizing the rows, that is, joining back the words, once they have been cleaned"
   ]
  },
  {
   "cell_type": "code",
   "execution_count": 44,
   "id": "b40f2e6b",
   "metadata": {},
   "outputs": [
    {
     "data": {
      "text/html": [
       "<div>\n",
       "<style scoped>\n",
       "    .dataframe tbody tr th:only-of-type {\n",
       "        vertical-align: middle;\n",
       "    }\n",
       "\n",
       "    .dataframe tbody tr th {\n",
       "        vertical-align: top;\n",
       "    }\n",
       "\n",
       "    .dataframe thead th {\n",
       "        text-align: right;\n",
       "    }\n",
       "</style>\n",
       "<table border=\"1\" class=\"dataframe\">\n",
       "  <thead>\n",
       "    <tr style=\"text-align: right;\">\n",
       "      <th></th>\n",
       "      <th>type</th>\n",
       "      <th>message</th>\n",
       "      <th>tokens</th>\n",
       "    </tr>\n",
       "  </thead>\n",
       "  <tbody>\n",
       "    <tr>\n",
       "      <th>0</th>\n",
       "      <td>BillGates</td>\n",
       "      <td>My favorite magazine makes a good case for inv...</td>\n",
       "      <td>my favorit magazin make good case invest resea...</td>\n",
       "    </tr>\n",
       "    <tr>\n",
       "      <th>1</th>\n",
       "      <td>BillGates</td>\n",
       "      <td>Health is getting better around the world—but ...</td>\n",
       "      <td>health get better around world progress uneven...</td>\n",
       "    </tr>\n",
       "    <tr>\n",
       "      <th>2</th>\n",
       "      <td>BillGates</td>\n",
       "      <td>Federal funding plays a critical role in R&amp;amp...</td>\n",
       "      <td>feder fund play critic role r amp d it would m...</td>\n",
       "    </tr>\n",
       "    <tr>\n",
       "      <th>3</th>\n",
       "      <td>BillGates</td>\n",
       "      <td>@jeremys Glad to see those intern BBQs made a ...</td>\n",
       "      <td>jeremi glad see intern bbq made last impress i...</td>\n",
       "    </tr>\n",
       "    <tr>\n",
       "      <th>4</th>\n",
       "      <td>BillGates</td>\n",
       "      <td>The Global Water Crisis is Also a Sanitation C...</td>\n",
       "      <td>the global water crisi also sanit crisi http c...</td>\n",
       "    </tr>\n",
       "    <tr>\n",
       "      <th>...</th>\n",
       "      <td>...</td>\n",
       "      <td>...</td>\n",
       "      <td>...</td>\n",
       "    </tr>\n",
       "    <tr>\n",
       "      <th>4759</th>\n",
       "      <td>elonmusk</td>\n",
       "      <td>@Nezheim @jbmeicher sure :)</td>\n",
       "      <td>nezheim jbmeicher sure</td>\n",
       "    </tr>\n",
       "    <tr>\n",
       "      <th>4760</th>\n",
       "      <td>elonmusk</td>\n",
       "      <td>@UKPJD Similar to SpaceX, the T is like a cros...</td>\n",
       "      <td>ukpjd similar spacex t like cross section elec...</td>\n",
       "    </tr>\n",
       "    <tr>\n",
       "      <th>4761</th>\n",
       "      <td>elonmusk</td>\n",
       "      <td>@HBL_Cosmin Wait until you see the real steeri...</td>\n",
       "      <td>hbl_cosmin wait see real steer control system ...</td>\n",
       "    </tr>\n",
       "    <tr>\n",
       "      <th>4762</th>\n",
       "      <td>elonmusk</td>\n",
       "      <td>We are definitely patenting this idea https://...</td>\n",
       "      <td>we definit patent idea http co n46cvn9ux9</td>\n",
       "    </tr>\n",
       "    <tr>\n",
       "      <th>4763</th>\n",
       "      <td>elonmusk</td>\n",
       "      <td>@rocketrepreneur Meant to say 200 AR for produ...</td>\n",
       "      <td>rocketrepreneur meant say 200 ar product vac e...</td>\n",
       "    </tr>\n",
       "  </tbody>\n",
       "</table>\n",
       "<p>4764 rows × 3 columns</p>\n",
       "</div>"
      ],
      "text/plain": [
       "           type                                            message  \\\n",
       "0     BillGates  My favorite magazine makes a good case for inv...   \n",
       "1     BillGates  Health is getting better around the world—but ...   \n",
       "2     BillGates  Federal funding plays a critical role in R&amp...   \n",
       "3     BillGates  @jeremys Glad to see those intern BBQs made a ...   \n",
       "4     BillGates  The Global Water Crisis is Also a Sanitation C...   \n",
       "...         ...                                                ...   \n",
       "4759   elonmusk                        @Nezheim @jbmeicher sure :)   \n",
       "4760   elonmusk  @UKPJD Similar to SpaceX, the T is like a cros...   \n",
       "4761   elonmusk  @HBL_Cosmin Wait until you see the real steeri...   \n",
       "4762   elonmusk  We are definitely patenting this idea https://...   \n",
       "4763   elonmusk  @rocketrepreneur Meant to say 200 AR for produ...   \n",
       "\n",
       "                                                 tokens  \n",
       "0     my favorit magazin make good case invest resea...  \n",
       "1     health get better around world progress uneven...  \n",
       "2     feder fund play critic role r amp d it would m...  \n",
       "3     jeremi glad see intern bbq made last impress i...  \n",
       "4     the global water crisi also sanit crisi http c...  \n",
       "...                                                 ...  \n",
       "4759                             nezheim jbmeicher sure  \n",
       "4760  ukpjd similar spacex t like cross section elec...  \n",
       "4761  hbl_cosmin wait see real steer control system ...  \n",
       "4762          we definit patent idea http co n46cvn9ux9  \n",
       "4763  rocketrepreneur meant say 200 ar product vac e...  \n",
       "\n",
       "[4764 rows x 3 columns]"
      ]
     },
     "execution_count": 44,
     "metadata": {},
     "output_type": "execute_result"
    }
   ],
   "source": [
    "# Unify the strings once again\n",
    "data['tokens'] = data['tokens'].apply(lambda x: ' '.join(x))\n",
    "data"
   ]
  },
  {
   "cell_type": "markdown",
   "id": "38c3ab3e",
   "metadata": {},
   "source": [
    "Now we are splitting our data as always"
   ]
  },
  {
   "cell_type": "code",
   "execution_count": 48,
   "id": "e488317d",
   "metadata": {},
   "outputs": [
    {
     "name": "stdout",
     "output_type": "stream",
     "text": [
      "Training data set size:  3334\n",
      "Testing data set size:  1430\n"
     ]
    }
   ],
   "source": [
    "from sklearn.model_selection import train_test_split\n",
    "from sklearn.feature_extraction.text import CountVectorizer\n",
    "\n",
    "# Make split\n",
    "x_train, x_test, y_train, y_test = train_test_split(\n",
    "    data['tokens'], \n",
    "    data['type'], \n",
    "    test_size= 0.3\n",
    "    )\n",
    "\n",
    "print(\"Training data set size: \", len(x_train))\n",
    "print(\"Testing data set size: \", len(x_test))"
   ]
  },
  {
   "cell_type": "markdown",
   "id": "e9ad2d69",
   "metadata": {},
   "source": [
    "We create the matrix, it will be the input to our model"
   ]
  },
  {
   "cell_type": "code",
   "execution_count": 50,
   "id": "aa9c5943",
   "metadata": {},
   "outputs": [],
   "source": [
    "# Create vectorizer\n",
    "vectorizer = CountVectorizer(\n",
    "    strip_accents = 'ascii', \n",
    "    lowercase = True\n",
    "    )\n",
    "\n",
    "# Fit vectorizer & transform it\n",
    "vectorizer_fit = vectorizer.fit(x_train)\n",
    "x_train_transformed = vectorizer_fit.transform(x_train)\n",
    "x_test_transformed = vectorizer_fit.transform(x_test)"
   ]
  },
  {
   "cell_type": "code",
   "execution_count": 51,
   "id": "35ee4da2",
   "metadata": {},
   "outputs": [
    {
     "data": {
      "text/plain": [
       "<Compressed Sparse Row sparse matrix of dtype 'int64'\n",
       "\twith 13752 stored elements and shape (1430, 8557)>"
      ]
     },
     "execution_count": 51,
     "metadata": {},
     "output_type": "execute_result"
    }
   ],
   "source": [
    "x_test_transformed"
   ]
  },
  {
   "cell_type": "markdown",
   "id": "3d1dbd84",
   "metadata": {},
   "source": [
    "### Model Built and Training"
   ]
  },
  {
   "cell_type": "markdown",
   "id": "a19f099b",
   "metadata": {},
   "source": [
    "Now we build the Naive Bayes model and train it"
   ]
  },
  {
   "cell_type": "code",
   "execution_count": 52,
   "id": "2846dbe1",
   "metadata": {},
   "outputs": [],
   "source": [
    "# Build the model\n",
    "from sklearn.naive_bayes import MultinomialNB\n",
    "\n",
    "# Train the model\n",
    "naive_bayes = MultinomialNB()\n",
    "naive_bayes_fit = naive_bayes.fit(x_train_transformed, y_train)"
   ]
  },
  {
   "cell_type": "markdown",
   "id": "e6f12113",
   "metadata": {},
   "source": [
    "And we make predictions"
   ]
  },
  {
   "cell_type": "code",
   "execution_count": 53,
   "id": "0d41a3bf",
   "metadata": {},
   "outputs": [],
   "source": [
    "from sklearn.metrics import confusion_matrix, balanced_accuracy_score\n",
    "\n",
    "# Make predictions\n",
    "train_predict = naive_bayes_fit.predict(x_train_transformed)\n",
    "test_predict = naive_bayes_fit.predict(x_test_transformed)\n",
    "\n",
    "def get_scores(y_real, predict):\n",
    "  ba_train = balanced_accuracy_score(y_real, predict)\n",
    "  return ba_train\n",
    "\n",
    "def print_scores(scores):\n",
    "  return f\"Balanced Accuracy: {scores}\"\n",
    "\n",
    "train_scores = get_scores(y_train, train_predict)\n",
    "test_scores = get_scores(y_test, test_predict)"
   ]
  },
  {
   "cell_type": "markdown",
   "id": "600829ba",
   "metadata": {},
   "source": [
    "This is the result"
   ]
  },
  {
   "cell_type": "code",
   "execution_count": null,
   "id": "71a12d16",
   "metadata": {},
   "outputs": [
    {
     "name": "stdout",
     "output_type": "stream",
     "text": [
      "  Data Set  Balanced Accuracy\n",
      "0    Train           0.979804\n",
      "1     Test           0.952346\n"
     ]
    }
   ],
   "source": [
    "# Results\n",
    "results = pd.DataFrame({\n",
    "    'Data Set': ['Train', 'Test'],\n",
    "    'Balanced Accuracy': [train_scores, test_scores]\n",
    "})\n",
    "print(results)"
   ]
  },
  {
   "cell_type": "code",
   "execution_count": 61,
   "id": "f2e2e758",
   "metadata": {},
   "outputs": [
    {
     "name": "stdout",
     "output_type": "stream",
     "text": [
      "Recall for BillGates: 0.992503748125937\n",
      "Recall for elonmusk: 0.9121887287024901\n"
     ]
    }
   ],
   "source": [
    "from sklearn.metrics import recall_score\n",
    "\n",
    "# Recall\n",
    "recall_billgates = recall_score(y_test, test_predict, pos_label='BillGates')\n",
    "recall_elonmusk = recall_score(y_test, test_predict, pos_label='elonmusk')\n",
    "\n",
    "print(f\"Recall for BillGates: {recall_billgates}\")\n",
    "print(f\"Recall for elonmusk: {recall_elonmusk}\")"
   ]
  },
  {
   "cell_type": "markdown",
   "id": "2f03e905",
   "metadata": {},
   "source": [
    "And the confusion matrix"
   ]
  },
  {
   "cell_type": "code",
   "execution_count": 57,
   "id": "b937c693",
   "metadata": {},
   "outputs": [
    {
     "data": {
      "image/png": "[encoded data removed]",
      "text/plain": [
       "<Figure size 640x480 with 1 Axes>"
      ]
     },
     "metadata": {},
     "output_type": "display_data"
    }
   ],
   "source": [
    "from sklearn.metrics import confusion_matrix\n",
    "import seaborn as sns\n",
    "import matplotlib.pyplot as plt\n",
    "\n",
    "mat = confusion_matrix(y_test, test_predict)\n",
    "sns.heatmap(mat.T, square=True, annot=True, fmt='d', cbar=False,\n",
    "            xticklabels=naive_bayes_fit.classes_, yticklabels=naive_bayes_fit.classes_)\n",
    "plt.xlabel('true label')\n",
    "plt.ylabel('predicted label');"
   ]
  },
  {
   "cell_type": "markdown",
   "id": "412eb2da",
   "metadata": {},
   "source": [
    "# Results and Conclusions"
   ]
  },
  {
   "cell_type": "markdown",
   "id": "5fba84b2",
   "metadata": {},
   "source": [
    "The Naive Bayes model has been trained and tested on the dataset. The balanced accuracy scores for the training and testing datasets are as follows:\n",
    "- Training Balanced Accuracy: 0.98\n",
    "- Testing Balanced Accuracy: 0.95\n",
    "\n",
    "The high balanced accuracy scores for both training and testing datasets indicate that the model performs well in distinguishing between the two classes (BillGates and elonmusk).\n",
    "\n",
    "The confusion matrix provides further insights into the model's performance:\n",
    "- True Positives (BillGates correctly classified): 662\n",
    "- True Negatives (elonmusk correctly classified): 696\n",
    "- False Positives (elonmusk incorrectly classified as BillGates): 67\n",
    "- False Negatives (BillGates incorrectly classified as elonmusk): 5\n",
    "\n",
    "Overall, the model demonstrates good performance with high accuracy and low misclassification rates.\n",
    "\n",
    "The recall for each class is the following:\n",
    "\n",
    "- Recall for BillGates: 0.9925\n",
    "\n",
    "- Recall for elonmusk: 0.9122\n",
    "\n",
    "The high recall for BillGates indicates that the model is very effective at identifying tweets from BillGates, with very few false negatives. The recall for elonmusk is slightly lower, indicating that there are more false positives for this class, but it is still relatively high.\n"
   ]
  }
 ],
 "metadata": {
  "kernelspec": {
   "display_name": ".venv",
   "language": "python",
   "name": "python3"
  },
  "language_info": {
   "codemirror_mode": {
    "name": "ipython",
    "version": 3
   },
   "file_extension": ".py",
   "mimetype": "text/x-python",
   "name": "python",
   "nbconvert_exporter": "python",
   "pygments_lexer": "ipython3",
   "version": "3.13.0"
  }
 },
 "nbformat": 4,
 "nbformat_minor": 5
}
